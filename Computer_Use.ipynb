{
 "cells": [
  {
   "cell_type": "markdown",
   "metadata": {},
   "source": [
    "In this analysis, I will use pandas to look through the changes in computer usage at home across OECD countries. The data was taken from **Kaggle** and it is available at: https://www.kaggle.com/babyoda/access-to-computers-from-home-oecd.\n",
    "\n",
    "Some of the tools I will use are:\n",
    "- pandas\n",
    "- matplotlib\n",
    "- vega_datasets\n",
    "- altair\n",
    "\n",
    "First, let's look at the data we will analyze and visualize. Let's look at the first few observations, the summary stats, and the columns. "
   ]
  },
  {
   "cell_type": "code",
   "execution_count": 169,
   "metadata": {},
   "outputs": [
    {
     "data": {
      "text/html": [
       "<div>\n",
       "<style scoped>\n",
       "    .dataframe tbody tr th:only-of-type {\n",
       "        vertical-align: middle;\n",
       "    }\n",
       "\n",
       "    .dataframe tbody tr th {\n",
       "        vertical-align: top;\n",
       "    }\n",
       "\n",
       "    .dataframe thead th {\n",
       "        text-align: right;\n",
       "    }\n",
       "</style>\n",
       "<table border=\"1\" class=\"dataframe\">\n",
       "  <thead>\n",
       "    <tr style=\"text-align: right;\">\n",
       "      <th></th>\n",
       "      <th>LOCATION</th>\n",
       "      <th>INDICATOR</th>\n",
       "      <th>SUBJECT</th>\n",
       "      <th>MEASURE</th>\n",
       "      <th>FREQUENCY</th>\n",
       "      <th>TIME</th>\n",
       "      <th>Value</th>\n",
       "      <th>Flag Codes</th>\n",
       "    </tr>\n",
       "  </thead>\n",
       "  <tbody>\n",
       "    <tr>\n",
       "      <th>0</th>\n",
       "      <td>DNK</td>\n",
       "      <td>HOMECOMP</td>\n",
       "      <td>TOT</td>\n",
       "      <td>PC_HH</td>\n",
       "      <td>A</td>\n",
       "      <td>2006</td>\n",
       "      <td>84.9749</td>\n",
       "      <td>NaN</td>\n",
       "    </tr>\n",
       "    <tr>\n",
       "      <th>1</th>\n",
       "      <td>DNK</td>\n",
       "      <td>HOMECOMP</td>\n",
       "      <td>TOT</td>\n",
       "      <td>PC_HH</td>\n",
       "      <td>A</td>\n",
       "      <td>2007</td>\n",
       "      <td>82.9604</td>\n",
       "      <td>NaN</td>\n",
       "    </tr>\n",
       "    <tr>\n",
       "      <th>2</th>\n",
       "      <td>DNK</td>\n",
       "      <td>HOMECOMP</td>\n",
       "      <td>TOT</td>\n",
       "      <td>PC_HH</td>\n",
       "      <td>A</td>\n",
       "      <td>2008</td>\n",
       "      <td>85.4588</td>\n",
       "      <td>NaN</td>\n",
       "    </tr>\n",
       "    <tr>\n",
       "      <th>3</th>\n",
       "      <td>DNK</td>\n",
       "      <td>HOMECOMP</td>\n",
       "      <td>TOT</td>\n",
       "      <td>PC_HH</td>\n",
       "      <td>A</td>\n",
       "      <td>2009</td>\n",
       "      <td>86.2344</td>\n",
       "      <td>NaN</td>\n",
       "    </tr>\n",
       "    <tr>\n",
       "      <th>4</th>\n",
       "      <td>DNK</td>\n",
       "      <td>HOMECOMP</td>\n",
       "      <td>TOT</td>\n",
       "      <td>PC_HH</td>\n",
       "      <td>A</td>\n",
       "      <td>2010</td>\n",
       "      <td>88.0249</td>\n",
       "      <td>NaN</td>\n",
       "    </tr>\n",
       "  </tbody>\n",
       "</table>\n",
       "</div>"
      ],
      "text/plain": [
       "  LOCATION INDICATOR SUBJECT MEASURE FREQUENCY  TIME    Value Flag Codes\n",
       "0      DNK  HOMECOMP     TOT   PC_HH         A  2006  84.9749        NaN\n",
       "1      DNK  HOMECOMP     TOT   PC_HH         A  2007  82.9604        NaN\n",
       "2      DNK  HOMECOMP     TOT   PC_HH         A  2008  85.4588        NaN\n",
       "3      DNK  HOMECOMP     TOT   PC_HH         A  2009  86.2344        NaN\n",
       "4      DNK  HOMECOMP     TOT   PC_HH         A  2010  88.0249        NaN"
      ]
     },
     "execution_count": 169,
     "metadata": {},
     "output_type": "execute_result"
    }
   ],
   "source": [
    "import pandas as pd\n",
    "import matplotlib.pyplot as plt\n",
    "comp=pd.read_csv(\"access_comp.csv\")\n",
    "comp.head(5)"
   ]
  },
  {
   "cell_type": "code",
   "execution_count": 170,
   "metadata": {},
   "outputs": [
    {
     "data": {
      "text/html": [
       "<div>\n",
       "<style scoped>\n",
       "    .dataframe tbody tr th:only-of-type {\n",
       "        vertical-align: middle;\n",
       "    }\n",
       "\n",
       "    .dataframe tbody tr th {\n",
       "        vertical-align: top;\n",
       "    }\n",
       "\n",
       "    .dataframe thead th {\n",
       "        text-align: right;\n",
       "    }\n",
       "</style>\n",
       "<table border=\"1\" class=\"dataframe\">\n",
       "  <thead>\n",
       "    <tr style=\"text-align: right;\">\n",
       "      <th></th>\n",
       "      <th>TIME</th>\n",
       "      <th>Value</th>\n",
       "    </tr>\n",
       "  </thead>\n",
       "  <tbody>\n",
       "    <tr>\n",
       "      <th>count</th>\n",
       "      <td>388.000000</td>\n",
       "      <td>388.000000</td>\n",
       "    </tr>\n",
       "    <tr>\n",
       "      <th>mean</th>\n",
       "      <td>2011.046392</td>\n",
       "      <td>69.458372</td>\n",
       "    </tr>\n",
       "    <tr>\n",
       "      <th>std</th>\n",
       "      <td>3.578274</td>\n",
       "      <td>18.216735</td>\n",
       "    </tr>\n",
       "    <tr>\n",
       "      <th>min</th>\n",
       "      <td>2005.000000</td>\n",
       "      <td>13.123448</td>\n",
       "    </tr>\n",
       "    <tr>\n",
       "      <th>25%</th>\n",
       "      <td>2008.000000</td>\n",
       "      <td>57.316925</td>\n",
       "    </tr>\n",
       "    <tr>\n",
       "      <th>50%</th>\n",
       "      <td>2011.000000</td>\n",
       "      <td>74.420400</td>\n",
       "    </tr>\n",
       "    <tr>\n",
       "      <th>75%</th>\n",
       "      <td>2013.000000</td>\n",
       "      <td>82.213024</td>\n",
       "    </tr>\n",
       "    <tr>\n",
       "      <th>max</th>\n",
       "      <td>2019.000000</td>\n",
       "      <td>97.610754</td>\n",
       "    </tr>\n",
       "  </tbody>\n",
       "</table>\n",
       "</div>"
      ],
      "text/plain": [
       "              TIME       Value\n",
       "count   388.000000  388.000000\n",
       "mean   2011.046392   69.458372\n",
       "std       3.578274   18.216735\n",
       "min    2005.000000   13.123448\n",
       "25%    2008.000000   57.316925\n",
       "50%    2011.000000   74.420400\n",
       "75%    2013.000000   82.213024\n",
       "max    2019.000000   97.610754"
      ]
     },
     "execution_count": 170,
     "metadata": {},
     "output_type": "execute_result"
    }
   ],
   "source": [
    "comp.describe()"
   ]
  },
  {
   "cell_type": "code",
   "execution_count": 171,
   "metadata": {},
   "outputs": [
    {
     "data": {
      "text/plain": [
       "array(['DNK', 'DEU', 'ISL', 'JPN', 'CZE', 'FRA', 'HUN', 'SVN', 'AUT',\n",
       "       'POL', 'ESP', 'TUR', 'CHL', 'GRC', 'IRL', 'KOR', 'NLD', 'AUS',\n",
       "       'CAN', 'FIN', 'USA', 'MEX', 'NOR', 'SVK', 'CHE', 'BRA', 'ISR',\n",
       "       'ITA', 'LUX', 'PRT', 'EST', 'BEL', 'SWE', 'GBR', 'NZL', 'LVA',\n",
       "       'LTU', 'COL', 'CRI'], dtype=object)"
      ]
     },
     "execution_count": 171,
     "metadata": {},
     "output_type": "execute_result"
    }
   ],
   "source": [
    "comp.LOCATION.unique()"
   ]
  },
  {
   "cell_type": "markdown",
   "metadata": {},
   "source": [
    "I will now keep only the relevant columns which will be used for the visualization: **LOCATION** (*the country*), **TIME** (*the year*), and **Value** (*percentage of computers at home*)."
   ]
  },
  {
   "cell_type": "code",
   "execution_count": 172,
   "metadata": {},
   "outputs": [
    {
     "data": {
      "text/html": [
       "<div>\n",
       "<style scoped>\n",
       "    .dataframe tbody tr th:only-of-type {\n",
       "        vertical-align: middle;\n",
       "    }\n",
       "\n",
       "    .dataframe tbody tr th {\n",
       "        vertical-align: top;\n",
       "    }\n",
       "\n",
       "    .dataframe thead th {\n",
       "        text-align: right;\n",
       "    }\n",
       "</style>\n",
       "<table border=\"1\" class=\"dataframe\">\n",
       "  <thead>\n",
       "    <tr style=\"text-align: right;\">\n",
       "      <th></th>\n",
       "      <th>LOCATION</th>\n",
       "      <th>TIME</th>\n",
       "      <th>Value</th>\n",
       "    </tr>\n",
       "  </thead>\n",
       "  <tbody>\n",
       "    <tr>\n",
       "      <th>0</th>\n",
       "      <td>DNK</td>\n",
       "      <td>2006</td>\n",
       "      <td>84.9749</td>\n",
       "    </tr>\n",
       "    <tr>\n",
       "      <th>1</th>\n",
       "      <td>DNK</td>\n",
       "      <td>2007</td>\n",
       "      <td>82.9604</td>\n",
       "    </tr>\n",
       "    <tr>\n",
       "      <th>2</th>\n",
       "      <td>DNK</td>\n",
       "      <td>2008</td>\n",
       "      <td>85.4588</td>\n",
       "    </tr>\n",
       "    <tr>\n",
       "      <th>3</th>\n",
       "      <td>DNK</td>\n",
       "      <td>2009</td>\n",
       "      <td>86.2344</td>\n",
       "    </tr>\n",
       "    <tr>\n",
       "      <th>4</th>\n",
       "      <td>DNK</td>\n",
       "      <td>2010</td>\n",
       "      <td>88.0249</td>\n",
       "    </tr>\n",
       "  </tbody>\n",
       "</table>\n",
       "</div>"
      ],
      "text/plain": [
       "  LOCATION  TIME    Value\n",
       "0      DNK  2006  84.9749\n",
       "1      DNK  2007  82.9604\n",
       "2      DNK  2008  85.4588\n",
       "3      DNK  2009  86.2344\n",
       "4      DNK  2010  88.0249"
      ]
     },
     "execution_count": 172,
     "metadata": {},
     "output_type": "execute_result"
    }
   ],
   "source": [
    "comp_new=comp.loc[:,[\"LOCATION\",\"TIME\",\"Value\"]]\n",
    "comp_new.head(5)"
   ]
  },
  {
   "cell_type": "markdown",
   "metadata": {},
   "source": [
    "As a test, let's plot how the percentage has evolved in **Denmark** and the **Mexico** for the past 14 years. First, it will make it easier if we convert the TIME column which is now an integer to a date:"
   ]
  },
  {
   "cell_type": "code",
   "execution_count": 173,
   "metadata": {},
   "outputs": [
    {
     "data": {
      "text/html": [
       "<div>\n",
       "<style scoped>\n",
       "    .dataframe tbody tr th:only-of-type {\n",
       "        vertical-align: middle;\n",
       "    }\n",
       "\n",
       "    .dataframe tbody tr th {\n",
       "        vertical-align: top;\n",
       "    }\n",
       "\n",
       "    .dataframe thead th {\n",
       "        text-align: right;\n",
       "    }\n",
       "</style>\n",
       "<table border=\"1\" class=\"dataframe\">\n",
       "  <thead>\n",
       "    <tr style=\"text-align: right;\">\n",
       "      <th></th>\n",
       "      <th>LOCATION</th>\n",
       "      <th>TIME</th>\n",
       "      <th>Value</th>\n",
       "      <th>Time</th>\n",
       "    </tr>\n",
       "  </thead>\n",
       "  <tbody>\n",
       "    <tr>\n",
       "      <th>0</th>\n",
       "      <td>DNK</td>\n",
       "      <td>2006</td>\n",
       "      <td>84.9749</td>\n",
       "      <td>2006-01-01</td>\n",
       "    </tr>\n",
       "    <tr>\n",
       "      <th>1</th>\n",
       "      <td>DNK</td>\n",
       "      <td>2007</td>\n",
       "      <td>82.9604</td>\n",
       "      <td>2007-01-01</td>\n",
       "    </tr>\n",
       "    <tr>\n",
       "      <th>2</th>\n",
       "      <td>DNK</td>\n",
       "      <td>2008</td>\n",
       "      <td>85.4588</td>\n",
       "      <td>2008-01-01</td>\n",
       "    </tr>\n",
       "    <tr>\n",
       "      <th>3</th>\n",
       "      <td>DNK</td>\n",
       "      <td>2009</td>\n",
       "      <td>86.2344</td>\n",
       "      <td>2009-01-01</td>\n",
       "    </tr>\n",
       "    <tr>\n",
       "      <th>4</th>\n",
       "      <td>DNK</td>\n",
       "      <td>2010</td>\n",
       "      <td>88.0249</td>\n",
       "      <td>2010-01-01</td>\n",
       "    </tr>\n",
       "  </tbody>\n",
       "</table>\n",
       "</div>"
      ],
      "text/plain": [
       "  LOCATION  TIME    Value       Time\n",
       "0      DNK  2006  84.9749 2006-01-01\n",
       "1      DNK  2007  82.9604 2007-01-01\n",
       "2      DNK  2008  85.4588 2008-01-01\n",
       "3      DNK  2009  86.2344 2009-01-01\n",
       "4      DNK  2010  88.0249 2010-01-01"
      ]
     },
     "execution_count": 173,
     "metadata": {},
     "output_type": "execute_result"
    }
   ],
   "source": [
    "comp_new.dtypes\n",
    "comp_new[\"Time\"]=pd.to_datetime(comp_new[\"TIME\"],format=\"%Y\")\n",
    "comp_new.head(5)"
   ]
  },
  {
   "cell_type": "code",
   "execution_count": 175,
   "metadata": {},
   "outputs": [
    {
     "data": {
      "text/html": [
       "<div>\n",
       "<style scoped>\n",
       "    .dataframe tbody tr th:only-of-type {\n",
       "        vertical-align: middle;\n",
       "    }\n",
       "\n",
       "    .dataframe tbody tr th {\n",
       "        vertical-align: top;\n",
       "    }\n",
       "\n",
       "    .dataframe thead th {\n",
       "        text-align: right;\n",
       "    }\n",
       "</style>\n",
       "<table border=\"1\" class=\"dataframe\">\n",
       "  <thead>\n",
       "    <tr style=\"text-align: right;\">\n",
       "      <th></th>\n",
       "      <th>Time</th>\n",
       "      <th>Value</th>\n",
       "    </tr>\n",
       "  </thead>\n",
       "  <tbody>\n",
       "    <tr>\n",
       "      <th>200</th>\n",
       "      <td>2005-01-01</td>\n",
       "      <td>18.56</td>\n",
       "    </tr>\n",
       "    <tr>\n",
       "      <th>201</th>\n",
       "      <td>2006-01-01</td>\n",
       "      <td>20.62</td>\n",
       "    </tr>\n",
       "    <tr>\n",
       "      <th>202</th>\n",
       "      <td>2007-01-01</td>\n",
       "      <td>22.12</td>\n",
       "    </tr>\n",
       "    <tr>\n",
       "      <th>203</th>\n",
       "      <td>2008-01-01</td>\n",
       "      <td>25.65</td>\n",
       "    </tr>\n",
       "    <tr>\n",
       "      <th>204</th>\n",
       "      <td>2009-01-01</td>\n",
       "      <td>26.76</td>\n",
       "    </tr>\n",
       "  </tbody>\n",
       "</table>\n",
       "</div>"
      ],
      "text/plain": [
       "          Time  Value\n",
       "200 2005-01-01  18.56\n",
       "201 2006-01-01  20.62\n",
       "202 2007-01-01  22.12\n",
       "203 2008-01-01  25.65\n",
       "204 2009-01-01  26.76"
      ]
     },
     "execution_count": 175,
     "metadata": {},
     "output_type": "execute_result"
    }
   ],
   "source": [
    "dnk=comp_new.loc[comp_new[\"LOCATION\"]==\"DNK\",[\"Time\",\"Value\"]]\n",
    "mex=comp_new.loc[comp_new[\"LOCATION\"]==\"MEX\",[\"Time\",\"Value\"]]\n",
    "mex.head()"
   ]
  },
  {
   "cell_type": "code",
   "execution_count": 176,
   "metadata": {},
   "outputs": [
    {
     "data": {
      "text/plain": [
       "<matplotlib.legend.Legend at 0x2a469cc76d0>"
      ]
     },
     "execution_count": 176,
     "metadata": {},
     "output_type": "execute_result"
    },
    {
     "data": {
      "image/png": "[encoded data removed]",
      "text/plain": [
       "<Figure size 432x288 with 1 Axes>"
      ]
     },
     "metadata": {},
     "output_type": "display_data"
    }
   ],
   "source": [
    "plt.plot(dnk.Time,dnk.Value,label=\"Denmark\")\n",
    "plt.plot(mex.Time,mex.Value,label=\"Mexico\")\n",
    "plt.legend()"
   ]
  },
  {
   "cell_type": "markdown",
   "metadata": {},
   "source": [
    "By taking the above as an example, we might expect a wide gap in access to computer at home between developed countries (*Denkmark* above) and developing (*Mexico* above)."
   ]
  },
  {
   "cell_type": "code",
   "execution_count": 177,
   "metadata": {},
   "outputs": [
    {
     "data": {
      "text/html": [
       "\n",
       "<div id=\"altair-viz-62c2d39c297041c29a51560d85020b41\"></div>\n",
       "<script type=\"text/javascript\">\n",
       "  (function(spec, embedOpt){\n",
       "    let outputDiv = document.currentScript.previousElementSibling;\n",
       "    if (outputDiv.id !== \"altair-viz-62c2d39c297041c29a51560d85020b41\") {\n",
       "      outputDiv = document.getElementById(\"altair-viz-62c2d39c297041c29a51560d85020b41\");\n",
       "    }\n",
       "    const paths = {\n",
       "      \"vega\": \"https://cdn.jsdelivr.net/npm//vega@5?noext\",\n",
       "      \"vega-lib\": \"https://cdn.jsdelivr.net/npm//vega-lib?noext\",\n",
       "      \"vega-lite\": \"https://cdn.jsdelivr.net/npm//vega-lite@4.8.1?noext\",\n",
       "      \"vega-embed\": \"https://cdn.jsdelivr.net/npm//vega-embed@6?noext\",\n",
       "    };\n",
       "\n",
       "    function loadScript(lib) {\n",
       "      return new Promise(function(resolve, reject) {\n",
       "        var s = document.createElement('script');\n",
       "        s.src = paths[lib];\n",
       "        s.async = true;\n",
       "        s.onload = () => resolve(paths[lib]);\n",
       "        s.onerror = () => reject(`Error loading script: ${paths[lib]}`);\n",
       "        document.getElementsByTagName(\"head\")[0].appendChild(s);\n",
       "      });\n",
       "    }\n",
       "\n",
       "    function showError(err) {\n",
       "      outputDiv.innerHTML = `<div class=\"error\" style=\"color:red;\">${err}</div>`;\n",
       "      throw err;\n",
       "    }\n",
       "\n",
       "    function displayChart(vegaEmbed) {\n",
       "      vegaEmbed(outputDiv, spec, embedOpt)\n",
       "        .catch(err => showError(`Javascript Error: ${err.message}<br>This usually means there's a typo in your chart specification. See the javascript console for the full traceback.`));\n",
       "    }\n",
       "\n",
       "    if(typeof define === \"function\" && define.amd) {\n",
       "      requirejs.config({paths});\n",
       "      require([\"vega-embed\"], displayChart, err => showError(`Error loading script: ${err.message}`));\n",
       "    } else if (typeof vegaEmbed === \"function\") {\n",
       "      displayChart(vegaEmbed);\n",
       "    } else {\n",
       "      loadScript(\"vega\")\n",
       "        .then(() => loadScript(\"vega-lite\"))\n",
       "        .then(() => loadScript(\"vega-embed\"))\n",
       "        .catch(showError)\n",
       "        .then(() => displayChart(vegaEmbed));\n",
       "    }\n",
       "  })({\"config\": {\"view\": {\"continuousWidth\": 400, \"continuousHeight\": 300}}, \"data\": {\"name\": \"data-16aecc8250296142a976e34d3f7fa4a8\"}, \"mark\": \"point\", \"encoding\": {\"color\": {\"type\": \"nominal\", \"field\": \"LOCATION\"}, \"x\": {\"type\": \"temporal\", \"field\": \"Time\"}, \"y\": {\"type\": \"quantitative\", \"field\": \"Value\"}}, \"$schema\": \"https://vega.github.io/schema/vega-lite/v4.8.1.json\", \"datasets\": {\"data-16aecc8250296142a976e34d3f7fa4a8\": [{\"LOCATION\": \"DNK\", \"TIME\": 2006, \"Value\": 84.9749, \"Time\": \"2006-01-01T00:00:00\"}, {\"LOCATION\": \"DNK\", \"TIME\": 2007, \"Value\": 82.9604, \"Time\": \"2007-01-01T00:00:00\"}, {\"LOCATION\": \"DNK\", \"TIME\": 2008, \"Value\": 85.4588, \"Time\": \"2008-01-01T00:00:00\"}, {\"LOCATION\": \"DNK\", \"TIME\": 2009, \"Value\": 86.2344, \"Time\": \"2009-01-01T00:00:00\"}, {\"LOCATION\": \"DNK\", \"TIME\": 2010, \"Value\": 88.0249, \"Time\": \"2010-01-01T00:00:00\"}, {\"LOCATION\": \"DNK\", \"TIME\": 2011, \"Value\": 90.4412, \"Time\": \"2011-01-01T00:00:00\"}, {\"LOCATION\": \"DNK\", \"TIME\": 2012, \"Value\": 92.2643, \"Time\": \"2012-01-01T00:00:00\"}, {\"LOCATION\": \"DNK\", \"TIME\": 2013, \"Value\": 93.0825, \"Time\": \"2013-01-01T00:00:00\"}, {\"LOCATION\": \"DNK\", \"TIME\": 2015, \"Value\": 92.2751, \"Time\": \"2015-01-01T00:00:00\"}, {\"LOCATION\": \"DNK\", \"TIME\": 2017, \"Value\": 93.13689000000001, \"Time\": \"2017-01-01T00:00:00\"}, {\"LOCATION\": \"DEU\", \"TIME\": 2006, \"Value\": 76.8558, \"Time\": \"2006-01-01T00:00:00\"}, {\"LOCATION\": \"DEU\", \"TIME\": 2007, \"Value\": 78.6466, \"Time\": \"2007-01-01T00:00:00\"}, {\"LOCATION\": \"DEU\", \"TIME\": 2008, \"Value\": 81.8193, \"Time\": \"2008-01-01T00:00:00\"}, {\"LOCATION\": \"DEU\", \"TIME\": 2009, \"Value\": 84.0926, \"Time\": \"2009-01-01T00:00:00\"}, {\"LOCATION\": \"DEU\", \"TIME\": 2010, \"Value\": 85.7406, \"Time\": \"2010-01-01T00:00:00\"}, {\"LOCATION\": \"DEU\", \"TIME\": 2011, \"Value\": 86.8648, \"Time\": \"2011-01-01T00:00:00\"}, {\"LOCATION\": \"DEU\", \"TIME\": 2012, \"Value\": 87.0997, \"Time\": \"2012-01-01T00:00:00\"}, {\"LOCATION\": \"DEU\", \"TIME\": 2013, \"Value\": 88.8744, \"Time\": \"2013-01-01T00:00:00\"}, {\"LOCATION\": \"DEU\", \"TIME\": 2015, \"Value\": 90.9926, \"Time\": \"2015-01-01T00:00:00\"}, {\"LOCATION\": \"DEU\", \"TIME\": 2017, \"Value\": 92.86555600000001, \"Time\": \"2017-01-01T00:00:00\"}, {\"LOCATION\": \"ISL\", \"TIME\": 2006, \"Value\": 84.6127, \"Time\": \"2006-01-01T00:00:00\"}, {\"LOCATION\": \"ISL\", \"TIME\": 2007, \"Value\": 89.1498, \"Time\": \"2007-01-01T00:00:00\"}, {\"LOCATION\": \"ISL\", \"TIME\": 2008, \"Value\": 91.9216, \"Time\": \"2008-01-01T00:00:00\"}, {\"LOCATION\": \"ISL\", \"TIME\": 2009, \"Value\": 92.4591, \"Time\": \"2009-01-01T00:00:00\"}, {\"LOCATION\": \"ISL\", \"TIME\": 2010, \"Value\": 93.056, \"Time\": \"2010-01-01T00:00:00\"}, {\"LOCATION\": \"ISL\", \"TIME\": 2011, \"Value\": 94.66, \"Time\": \"2011-01-01T00:00:00\"}, {\"LOCATION\": \"ISL\", \"TIME\": 2012, \"Value\": 95.5166, \"Time\": \"2012-01-01T00:00:00\"}, {\"LOCATION\": \"ISL\", \"TIME\": 2013, \"Value\": 96.7106, \"Time\": \"2013-01-01T00:00:00\"}, {\"LOCATION\": \"ISL\", \"TIME\": 2017, \"Value\": 97.29724499999999, \"Time\": \"2017-01-01T00:00:00\"}, {\"LOCATION\": \"JPN\", \"TIME\": 2005, \"Value\": 80.5, \"Time\": \"2005-01-01T00:00:00\"}, {\"LOCATION\": \"JPN\", \"TIME\": 2006, \"Value\": 80.8, \"Time\": \"2006-01-01T00:00:00\"}, {\"LOCATION\": \"JPN\", \"TIME\": 2007, \"Value\": 85.0, \"Time\": \"2007-01-01T00:00:00\"}, {\"LOCATION\": \"JPN\", \"TIME\": 2008, \"Value\": 85.9, \"Time\": \"2008-01-01T00:00:00\"}, {\"LOCATION\": \"JPN\", \"TIME\": 2009, \"Value\": 87.2, \"Time\": \"2009-01-01T00:00:00\"}, {\"LOCATION\": \"JPN\", \"TIME\": 2010, \"Value\": 83.4, \"Time\": \"2010-01-01T00:00:00\"}, {\"LOCATION\": \"JPN\", \"TIME\": 2011, \"Value\": 80.0, \"Time\": \"2011-01-01T00:00:00\"}, {\"LOCATION\": \"JPN\", \"TIME\": 2012, \"Value\": 77.9, \"Time\": \"2012-01-01T00:00:00\"}, {\"LOCATION\": \"JPN\", \"TIME\": 2013, \"Value\": 81.7, \"Time\": \"2013-01-01T00:00:00\"}, {\"LOCATION\": \"JPN\", \"TIME\": 2014, \"Value\": 78.0, \"Time\": \"2014-01-01T00:00:00\"}, {\"LOCATION\": \"JPN\", \"TIME\": 2015, \"Value\": 76.8, \"Time\": \"2015-01-01T00:00:00\"}, {\"LOCATION\": \"JPN\", \"TIME\": 2016, \"Value\": 73.0, \"Time\": \"2016-01-01T00:00:00\"}, {\"LOCATION\": \"JPN\", \"TIME\": 2017, \"Value\": 72.5, \"Time\": \"2017-01-01T00:00:00\"}, {\"LOCATION\": \"JPN\", \"TIME\": 2018, \"Value\": 74.0, \"Time\": \"2018-01-01T00:00:00\"}, {\"LOCATION\": \"CZE\", \"TIME\": 2006, \"Value\": 39.0395, \"Time\": \"2006-01-01T00:00:00\"}, {\"LOCATION\": \"CZE\", \"TIME\": 2007, \"Value\": 43.3968, \"Time\": \"2007-01-01T00:00:00\"}, {\"LOCATION\": \"CZE\", \"TIME\": 2008, \"Value\": 52.4138, \"Time\": \"2008-01-01T00:00:00\"}, {\"LOCATION\": \"CZE\", \"TIME\": 2009, \"Value\": 59.5863, \"Time\": \"2009-01-01T00:00:00\"}, {\"LOCATION\": \"CZE\", \"TIME\": 2010, \"Value\": 64.0561, \"Time\": \"2010-01-01T00:00:00\"}, {\"LOCATION\": \"CZE\", \"TIME\": 2011, \"Value\": 69.8985, \"Time\": \"2011-01-01T00:00:00\"}, {\"LOCATION\": \"CZE\", \"TIME\": 2012, \"Value\": 74.558, \"Time\": \"2012-01-01T00:00:00\"}, {\"LOCATION\": \"CZE\", \"TIME\": 2013, \"Value\": 73.8672, \"Time\": \"2013-01-01T00:00:00\"}, {\"LOCATION\": \"CZE\", \"TIME\": 2015, \"Value\": 78.9377, \"Time\": \"2015-01-01T00:00:00\"}, {\"LOCATION\": \"CZE\", \"TIME\": 2017, \"Value\": 82.18149, \"Time\": \"2017-01-01T00:00:00\"}, {\"LOCATION\": \"FRA\", \"TIME\": 2007, \"Value\": 65.5494, \"Time\": \"2007-01-01T00:00:00\"}, {\"LOCATION\": \"FRA\", \"TIME\": 2008, \"Value\": 68.3557, \"Time\": \"2008-01-01T00:00:00\"}, {\"LOCATION\": \"FRA\", \"TIME\": 2009, \"Value\": 74.2203, \"Time\": \"2009-01-01T00:00:00\"}, {\"LOCATION\": \"FRA\", \"TIME\": 2010, \"Value\": 76.4499, \"Time\": \"2010-01-01T00:00:00\"}, {\"LOCATION\": \"FRA\", \"TIME\": 2011, \"Value\": 78.1792, \"Time\": \"2011-01-01T00:00:00\"}, {\"LOCATION\": \"FRA\", \"TIME\": 2012, \"Value\": 81.0122, \"Time\": \"2012-01-01T00:00:00\"}, {\"LOCATION\": \"FRA\", \"TIME\": 2013, \"Value\": 81.5595, \"Time\": \"2013-01-01T00:00:00\"}, {\"LOCATION\": \"FRA\", \"TIME\": 2015, \"Value\": 81.5481, \"Time\": \"2015-01-01T00:00:00\"}, {\"LOCATION\": \"FRA\", \"TIME\": 2017, \"Value\": 84.124964, \"Time\": \"2017-01-01T00:00:00\"}, {\"LOCATION\": \"HUN\", \"TIME\": 2006, \"Value\": 48.803999999999995, \"Time\": \"2006-01-01T00:00:00\"}, {\"LOCATION\": \"HUN\", \"TIME\": 2007, \"Value\": 52.5651, \"Time\": \"2007-01-01T00:00:00\"}, {\"LOCATION\": \"HUN\", \"TIME\": 2008, \"Value\": 57.1866, \"Time\": \"2008-01-01T00:00:00\"}, {\"LOCATION\": \"HUN\", \"TIME\": 2009, \"Value\": 61.3626, \"Time\": \"2009-01-01T00:00:00\"}, {\"LOCATION\": \"HUN\", \"TIME\": 2010, \"Value\": 64.457, \"Time\": \"2010-01-01T00:00:00\"}, {\"LOCATION\": \"HUN\", \"TIME\": 2011, \"Value\": 67.8143, \"Time\": \"2011-01-01T00:00:00\"}, {\"LOCATION\": \"HUN\", \"TIME\": 2012, \"Value\": 69.7479, \"Time\": \"2012-01-01T00:00:00\"}, {\"LOCATION\": \"HUN\", \"TIME\": 2013, \"Value\": 71.3968, \"Time\": \"2013-01-01T00:00:00\"}, {\"LOCATION\": \"HUN\", \"TIME\": 2015, \"Value\": 74.9754, \"Time\": \"2015-01-01T00:00:00\"}, {\"LOCATION\": \"HUN\", \"TIME\": 2017, \"Value\": 79.674757, \"Time\": \"2017-01-01T00:00:00\"}, {\"LOCATION\": \"SVN\", \"TIME\": 2006, \"Value\": 65.2631, \"Time\": \"2006-01-01T00:00:00\"}, {\"LOCATION\": \"SVN\", \"TIME\": 2007, \"Value\": 65.9984, \"Time\": \"2007-01-01T00:00:00\"}, {\"LOCATION\": \"SVN\", \"TIME\": 2008, \"Value\": 65.1195, \"Time\": \"2008-01-01T00:00:00\"}, {\"LOCATION\": \"SVN\", \"TIME\": 2009, \"Value\": 71.2161, \"Time\": \"2009-01-01T00:00:00\"}, {\"LOCATION\": \"SVN\", \"TIME\": 2010, \"Value\": 70.4624, \"Time\": \"2010-01-01T00:00:00\"}, {\"LOCATION\": \"SVN\", \"TIME\": 2011, \"Value\": 74.4408, \"Time\": \"2011-01-01T00:00:00\"}, {\"LOCATION\": \"SVN\", \"TIME\": 2012, \"Value\": 76.1, \"Time\": \"2012-01-01T00:00:00\"}, {\"LOCATION\": \"SVN\", \"TIME\": 2013, \"Value\": 76.3561, \"Time\": \"2013-01-01T00:00:00\"}, {\"LOCATION\": \"SVN\", \"TIME\": 2015, \"Value\": 77.7509, \"Time\": \"2015-01-01T00:00:00\"}, {\"LOCATION\": \"SVN\", \"TIME\": 2017, \"Value\": 79.503036, \"Time\": \"2017-01-01T00:00:00\"}, {\"LOCATION\": \"AUT\", \"TIME\": 2006, \"Value\": 67.0669, \"Time\": \"2006-01-01T00:00:00\"}, {\"LOCATION\": \"AUT\", \"TIME\": 2007, \"Value\": 70.7432, \"Time\": \"2007-01-01T00:00:00\"}, {\"LOCATION\": \"AUT\", \"TIME\": 2008, \"Value\": 75.9463, \"Time\": \"2008-01-01T00:00:00\"}, {\"LOCATION\": \"AUT\", \"TIME\": 2009, \"Value\": 74.4629, \"Time\": \"2009-01-01T00:00:00\"}, {\"LOCATION\": \"AUT\", \"TIME\": 2010, \"Value\": 76.1859, \"Time\": \"2010-01-01T00:00:00\"}, {\"LOCATION\": \"AUT\", \"TIME\": 2011, \"Value\": 78.0696, \"Time\": \"2011-01-01T00:00:00\"}, {\"LOCATION\": \"AUT\", \"TIME\": 2012, \"Value\": 81.3037, \"Time\": \"2012-01-01T00:00:00\"}, {\"LOCATION\": \"AUT\", \"TIME\": 2013, \"Value\": 80.8504, \"Time\": \"2013-01-01T00:00:00\"}, {\"LOCATION\": \"AUT\", \"TIME\": 2015, \"Value\": 82.1364, \"Time\": \"2015-01-01T00:00:00\"}, {\"LOCATION\": \"AUT\", \"TIME\": 2017, \"Value\": 85.373276, \"Time\": \"2017-01-01T00:00:00\"}, {\"LOCATION\": \"POL\", \"TIME\": 2006, \"Value\": 45.4124, \"Time\": \"2006-01-01T00:00:00\"}, {\"LOCATION\": \"POL\", \"TIME\": 2007, \"Value\": 53.6893, \"Time\": \"2007-01-01T00:00:00\"}, {\"LOCATION\": \"POL\", \"TIME\": 2008, \"Value\": 58.8728, \"Time\": \"2008-01-01T00:00:00\"}, {\"LOCATION\": \"POL\", \"TIME\": 2009, \"Value\": 66.0852, \"Time\": \"2009-01-01T00:00:00\"}, {\"LOCATION\": \"POL\", \"TIME\": 2010, \"Value\": 69.0212, \"Time\": \"2010-01-01T00:00:00\"}, {\"LOCATION\": \"POL\", \"TIME\": 2011, \"Value\": 71.3147, \"Time\": \"2011-01-01T00:00:00\"}, {\"LOCATION\": \"POL\", \"TIME\": 2012, \"Value\": 73.3677, \"Time\": \"2012-01-01T00:00:00\"}, {\"LOCATION\": \"POL\", \"TIME\": 2013, \"Value\": 74.7447, \"Time\": \"2013-01-01T00:00:00\"}, {\"LOCATION\": \"POL\", \"TIME\": 2015, \"Value\": 77.9378, \"Time\": \"2015-01-01T00:00:00\"}, {\"LOCATION\": \"POL\", \"TIME\": 2017, \"Value\": 81.77694699999999, \"Time\": \"2017-01-01T00:00:00\"}, {\"LOCATION\": \"ESP\", \"TIME\": 2006, \"Value\": 55.8676, \"Time\": \"2006-01-01T00:00:00\"}, {\"LOCATION\": \"ESP\", \"TIME\": 2007, \"Value\": 58.9493, \"Time\": \"2007-01-01T00:00:00\"}, {\"LOCATION\": \"ESP\", \"TIME\": 2008, \"Value\": 62.1818, \"Time\": \"2008-01-01T00:00:00\"}, {\"LOCATION\": \"ESP\", \"TIME\": 2009, \"Value\": 65.1014, \"Time\": \"2009-01-01T00:00:00\"}, {\"LOCATION\": \"ESP\", \"TIME\": 2010, \"Value\": 67.4256, \"Time\": \"2010-01-01T00:00:00\"}, {\"LOCATION\": \"ESP\", \"TIME\": 2011, \"Value\": 70.328, \"Time\": \"2011-01-01T00:00:00\"}, {\"LOCATION\": \"ESP\", \"TIME\": 2012, \"Value\": 72.5888, \"Time\": \"2012-01-01T00:00:00\"}, {\"LOCATION\": \"ESP\", \"TIME\": 2013, \"Value\": 73.3335, \"Time\": \"2013-01-01T00:00:00\"}, {\"LOCATION\": \"ESP\", \"TIME\": 2015, \"Value\": 75.8652, \"Time\": \"2015-01-01T00:00:00\"}, {\"LOCATION\": \"ESP\", \"TIME\": 2017, \"Value\": 78.385013, \"Time\": \"2017-01-01T00:00:00\"}, {\"LOCATION\": \"TUR\", \"TIME\": 2007, \"Value\": 27.3081, \"Time\": \"2007-01-01T00:00:00\"}, {\"LOCATION\": \"TUR\", \"TIME\": 2008, \"Value\": 33.3911, \"Time\": \"2008-01-01T00:00:00\"}, {\"LOCATION\": \"TUR\", \"TIME\": 2009, \"Value\": 37.4048, \"Time\": \"2009-01-01T00:00:00\"}, {\"LOCATION\": \"TUR\", \"TIME\": 2010, \"Value\": 44.2265, \"Time\": \"2010-01-01T00:00:00\"}, {\"LOCATION\": \"TUR\", \"TIME\": 2012, \"Value\": 50.2477, \"Time\": \"2012-01-01T00:00:00\"}, {\"LOCATION\": \"TUR\", \"TIME\": 2013, \"Value\": 49.8193, \"Time\": \"2013-01-01T00:00:00\"}, {\"LOCATION\": \"TUR\", \"TIME\": 2015, \"Value\": 50.5579, \"Time\": \"2015-01-01T00:00:00\"}, {\"LOCATION\": \"TUR\", \"TIME\": 2017, \"Value\": 49.99992, \"Time\": \"2017-01-01T00:00:00\"}, {\"LOCATION\": \"CHL\", \"TIME\": 2006, \"Value\": 34.5, \"Time\": \"2006-01-01T00:00:00\"}, {\"LOCATION\": \"CHL\", \"TIME\": 2009, \"Value\": 43.9, \"Time\": \"2009-01-01T00:00:00\"}, {\"LOCATION\": \"CHL\", \"TIME\": 2012, \"Value\": 68.27844113, \"Time\": \"2012-01-01T00:00:00\"}, {\"LOCATION\": \"CHL\", \"TIME\": 2013, \"Value\": 56.44182681, \"Time\": \"2013-01-01T00:00:00\"}, {\"LOCATION\": \"CHL\", \"TIME\": 2014, \"Value\": 60.29196034, \"Time\": \"2014-01-01T00:00:00\"}, {\"LOCATION\": \"CHL\", \"TIME\": 2015, \"Value\": 56.396569299999996, \"Time\": \"2015-01-01T00:00:00\"}, {\"LOCATION\": \"CHL\", \"TIME\": 2016, \"Value\": 63.62938219, \"Time\": \"2016-01-01T00:00:00\"}, {\"LOCATION\": \"CHL\", \"TIME\": 2017, \"Value\": 60.15454498, \"Time\": \"2017-01-01T00:00:00\"}, {\"LOCATION\": \"GRC\", \"TIME\": 2006, \"Value\": 36.7012, \"Time\": \"2006-01-01T00:00:00\"}, {\"LOCATION\": \"GRC\", \"TIME\": 2007, \"Value\": 40.1674, \"Time\": \"2007-01-01T00:00:00\"}, {\"LOCATION\": \"GRC\", \"TIME\": 2008, \"Value\": 44.0037, \"Time\": \"2008-01-01T00:00:00\"}, {\"LOCATION\": \"GRC\", \"TIME\": 2009, \"Value\": 47.3287, \"Time\": \"2009-01-01T00:00:00\"}, {\"LOCATION\": \"GRC\", \"TIME\": 2010, \"Value\": 53.3865, \"Time\": \"2010-01-01T00:00:00\"}, {\"LOCATION\": \"GRC\", \"TIME\": 2011, \"Value\": 57.2357, \"Time\": \"2011-01-01T00:00:00\"}, {\"LOCATION\": \"GRC\", \"TIME\": 2012, \"Value\": 56.7914, \"Time\": \"2012-01-01T00:00:00\"}, {\"LOCATION\": \"GRC\", \"TIME\": 2013, \"Value\": 59.5484, \"Time\": \"2013-01-01T00:00:00\"}, {\"LOCATION\": \"GRC\", \"TIME\": 2015, \"Value\": 68.5681, \"Time\": \"2015-01-01T00:00:00\"}, {\"LOCATION\": \"GRC\", \"TIME\": 2017, \"Value\": 70.50049, \"Time\": \"2017-01-01T00:00:00\"}, {\"LOCATION\": \"IRL\", \"TIME\": 2006, \"Value\": 58.5742, \"Time\": \"2006-01-01T00:00:00\"}, {\"LOCATION\": \"IRL\", \"TIME\": 2007, \"Value\": 65.4871, \"Time\": \"2007-01-01T00:00:00\"}, {\"LOCATION\": \"IRL\", \"TIME\": 2008, \"Value\": 70.3481, \"Time\": \"2008-01-01T00:00:00\"}, {\"LOCATION\": \"IRL\", \"TIME\": 2009, \"Value\": 72.8382, \"Time\": \"2009-01-01T00:00:00\"}, {\"LOCATION\": \"IRL\", \"TIME\": 2010, \"Value\": 76.464, \"Time\": \"2010-01-01T00:00:00\"}, {\"LOCATION\": \"IRL\", \"TIME\": 2011, \"Value\": 80.5599, \"Time\": \"2011-01-01T00:00:00\"}, {\"LOCATION\": \"IRL\", \"TIME\": 2012, \"Value\": 82.7459, \"Time\": \"2012-01-01T00:00:00\"}, {\"LOCATION\": \"IRL\", \"TIME\": 2013, \"Value\": 83.5992, \"Time\": \"2013-01-01T00:00:00\"}, {\"LOCATION\": \"IRL\", \"TIME\": 2015, \"Value\": 83.5441, \"Time\": \"2015-01-01T00:00:00\"}, {\"LOCATION\": \"IRL\", \"TIME\": 2017, \"Value\": 83.75783, \"Time\": \"2017-01-01T00:00:00\"}, {\"LOCATION\": \"KOR\", \"TIME\": 2005, \"Value\": 78.88403753, \"Time\": \"2005-01-01T00:00:00\"}, {\"LOCATION\": \"KOR\", \"TIME\": 2006, \"Value\": 79.59442265, \"Time\": \"2006-01-01T00:00:00\"}, {\"LOCATION\": \"KOR\", \"TIME\": 2007, \"Value\": 80.4474333, \"Time\": \"2007-01-01T00:00:00\"}, {\"LOCATION\": \"KOR\", \"TIME\": 2008, \"Value\": 80.92197818, \"Time\": \"2008-01-01T00:00:00\"}, {\"LOCATION\": \"KOR\", \"TIME\": 2009, \"Value\": 81.42711245, \"Time\": \"2009-01-01T00:00:00\"}, {\"LOCATION\": \"KOR\", \"TIME\": 2010, \"Value\": 81.842274, \"Time\": \"2010-01-01T00:00:00\"}, {\"LOCATION\": \"KOR\", \"TIME\": 2011, \"Value\": 81.88133549, \"Time\": \"2011-01-01T00:00:00\"}, {\"LOCATION\": \"KOR\", \"TIME\": 2012, \"Value\": 82.30762592, \"Time\": \"2012-01-01T00:00:00\"}, {\"LOCATION\": \"KOR\", \"TIME\": 2013, \"Value\": 80.60176181, \"Time\": \"2013-01-01T00:00:00\"}, {\"LOCATION\": \"KOR\", \"TIME\": 2014, \"Value\": 78.24889324, \"Time\": \"2014-01-01T00:00:00\"}, {\"LOCATION\": \"KOR\", \"TIME\": 2015, \"Value\": 77.06767599, \"Time\": \"2015-01-01T00:00:00\"}, {\"LOCATION\": \"KOR\", \"TIME\": 2016, \"Value\": 75.28630596, \"Time\": \"2016-01-01T00:00:00\"}, {\"LOCATION\": \"KOR\", \"TIME\": 2017, \"Value\": 74.70783801, \"Time\": \"2017-01-01T00:00:00\"}, {\"LOCATION\": \"KOR\", \"TIME\": 2018, \"Value\": 72.42437955, \"Time\": \"2018-01-01T00:00:00\"}, {\"LOCATION\": \"KOR\", \"TIME\": 2019, \"Value\": 71.74420913, \"Time\": \"2019-01-01T00:00:00\"}, {\"LOCATION\": \"NLD\", \"TIME\": 2006, \"Value\": 80.039, \"Time\": \"2006-01-01T00:00:00\"}, {\"LOCATION\": \"NLD\", \"TIME\": 2007, \"Value\": 86.3036, \"Time\": \"2007-01-01T00:00:00\"}, {\"LOCATION\": \"NLD\", \"TIME\": 2008, \"Value\": 87.7319, \"Time\": \"2008-01-01T00:00:00\"}, {\"LOCATION\": \"NLD\", \"TIME\": 2009, \"Value\": 90.7532, \"Time\": \"2009-01-01T00:00:00\"}, {\"LOCATION\": \"NLD\", \"TIME\": 2010, \"Value\": 91.9733, \"Time\": \"2010-01-01T00:00:00\"}, {\"LOCATION\": \"NLD\", \"TIME\": 2011, \"Value\": 94.1582, \"Time\": \"2011-01-01T00:00:00\"}, {\"LOCATION\": \"NLD\", \"TIME\": 2012, \"Value\": 94.505, \"Time\": \"2012-01-01T00:00:00\"}, {\"LOCATION\": \"NLD\", \"TIME\": 2013, \"Value\": 95.1694, \"Time\": \"2013-01-01T00:00:00\"}, {\"LOCATION\": \"NLD\", \"TIME\": 2015, \"Value\": 96.2006, \"Time\": \"2015-01-01T00:00:00\"}, {\"LOCATION\": \"NLD\", \"TIME\": 2017, \"Value\": 97.610754, \"Time\": \"2017-01-01T00:00:00\"}, {\"LOCATION\": \"AUS\", \"TIME\": 2005, \"Value\": 70.0, \"Time\": \"2005-01-01T00:00:00\"}, {\"LOCATION\": \"AUS\", \"TIME\": 2006, \"Value\": 73.0, \"Time\": \"2006-01-01T00:00:00\"}, {\"LOCATION\": \"AUS\", \"TIME\": 2007, \"Value\": 75.0, \"Time\": \"2007-01-01T00:00:00\"}, {\"LOCATION\": \"AUS\", \"TIME\": 2008, \"Value\": 78.0, \"Time\": \"2008-01-01T00:00:00\"}, {\"LOCATION\": \"AUS\", \"TIME\": 2010, \"Value\": 82.57, \"Time\": \"2010-01-01T00:00:00\"}, {\"LOCATION\": \"AUS\", \"TIME\": 2014, \"Value\": 82.96, \"Time\": \"2014-01-01T00:00:00\"}, {\"LOCATION\": \"AUS\", \"TIME\": 2016, \"Value\": 82.44, \"Time\": \"2016-01-01T00:00:00\"}, {\"LOCATION\": \"CAN\", \"TIME\": 2005, \"Value\": 72.0, \"Time\": \"2005-01-01T00:00:00\"}, {\"LOCATION\": \"CAN\", \"TIME\": 2006, \"Value\": 75.4, \"Time\": \"2006-01-01T00:00:00\"}, {\"LOCATION\": \"CAN\", \"TIME\": 2007, \"Value\": 78.4, \"Time\": \"2007-01-01T00:00:00\"}, {\"LOCATION\": \"CAN\", \"TIME\": 2008, \"Value\": 79.4, \"Time\": \"2008-01-01T00:00:00\"}, {\"LOCATION\": \"CAN\", \"TIME\": 2009, \"Value\": 81.7, \"Time\": \"2009-01-01T00:00:00\"}, {\"LOCATION\": \"CAN\", \"TIME\": 2013, \"Value\": 85.6, \"Time\": \"2013-01-01T00:00:00\"}, {\"LOCATION\": \"FIN\", \"TIME\": 2006, \"Value\": 71.1027, \"Time\": \"2006-01-01T00:00:00\"}, {\"LOCATION\": \"FIN\", \"TIME\": 2007, \"Value\": 73.9631, \"Time\": \"2007-01-01T00:00:00\"}, {\"LOCATION\": \"FIN\", \"TIME\": 2008, \"Value\": 75.7674, \"Time\": \"2008-01-01T00:00:00\"}, {\"LOCATION\": \"FIN\", \"TIME\": 2009, \"Value\": 80.1388, \"Time\": \"2009-01-01T00:00:00\"}, {\"LOCATION\": \"FIN\", \"TIME\": 2010, \"Value\": 81.9856, \"Time\": \"2010-01-01T00:00:00\"}, {\"LOCATION\": \"FIN\", \"TIME\": 2011, \"Value\": 85.1187, \"Time\": \"2011-01-01T00:00:00\"}, {\"LOCATION\": \"FIN\", \"TIME\": 2012, \"Value\": 87.5615, \"Time\": \"2012-01-01T00:00:00\"}, {\"LOCATION\": \"FIN\", \"TIME\": 2013, \"Value\": 88.7494, \"Time\": \"2013-01-01T00:00:00\"}, {\"LOCATION\": \"FIN\", \"TIME\": 2015, \"Value\": 89.3321, \"Time\": \"2015-01-01T00:00:00\"}, {\"LOCATION\": \"FIN\", \"TIME\": 2017, \"Value\": 93.49728, \"Time\": \"2017-01-01T00:00:00\"}, {\"LOCATION\": \"USA\", \"TIME\": 2010, \"Value\": 74.87, \"Time\": \"2010-01-01T00:00:00\"}, {\"LOCATION\": \"USA\", \"TIME\": 2011, \"Value\": 75.57, \"Time\": \"2011-01-01T00:00:00\"}, {\"LOCATION\": \"USA\", \"TIME\": 2012, \"Value\": 78.87, \"Time\": \"2012-01-01T00:00:00\"}, {\"LOCATION\": \"USA\", \"TIME\": 2013, \"Value\": 72.03, \"Time\": \"2013-01-01T00:00:00\"}, {\"LOCATION\": \"MEX\", \"TIME\": 2005, \"Value\": 18.56, \"Time\": \"2005-01-01T00:00:00\"}, {\"LOCATION\": \"MEX\", \"TIME\": 2006, \"Value\": 20.62, \"Time\": \"2006-01-01T00:00:00\"}, {\"LOCATION\": \"MEX\", \"TIME\": 2007, \"Value\": 22.12, \"Time\": \"2007-01-01T00:00:00\"}, {\"LOCATION\": \"MEX\", \"TIME\": 2008, \"Value\": 25.65, \"Time\": \"2008-01-01T00:00:00\"}, {\"LOCATION\": \"MEX\", \"TIME\": 2009, \"Value\": 26.76, \"Time\": \"2009-01-01T00:00:00\"}, {\"LOCATION\": \"MEX\", \"TIME\": 2010, \"Value\": 29.79, \"Time\": \"2010-01-01T00:00:00\"}, {\"LOCATION\": \"MEX\", \"TIME\": 2011, \"Value\": 30.04, \"Time\": \"2011-01-01T00:00:00\"}, {\"LOCATION\": \"MEX\", \"TIME\": 2012, \"Value\": 32.19, \"Time\": \"2012-01-01T00:00:00\"}, {\"LOCATION\": \"MEX\", \"TIME\": 2013, \"Value\": 35.79285774, \"Time\": \"2013-01-01T00:00:00\"}, {\"LOCATION\": \"MEX\", \"TIME\": 2014, \"Value\": 38.29201478, \"Time\": \"2014-01-01T00:00:00\"}, {\"LOCATION\": \"MEX\", \"TIME\": 2015, \"Value\": 44.91111992, \"Time\": \"2015-01-01T00:00:00\"}, {\"LOCATION\": \"MEX\", \"TIME\": 2016, \"Value\": 45.59302965, \"Time\": \"2016-01-01T00:00:00\"}, {\"LOCATION\": \"MEX\", \"TIME\": 2017, \"Value\": 45.41874514, \"Time\": \"2017-01-01T00:00:00\"}, {\"LOCATION\": \"MEX\", \"TIME\": 2018, \"Value\": 44.88286427, \"Time\": \"2018-01-01T00:00:00\"}, {\"LOCATION\": \"MEX\", \"TIME\": 2019, \"Value\": 44.34457378, \"Time\": \"2019-01-01T00:00:00\"}, {\"LOCATION\": \"NOR\", \"TIME\": 2006, \"Value\": 75.3507, \"Time\": \"2006-01-01T00:00:00\"}, {\"LOCATION\": \"NOR\", \"TIME\": 2007, \"Value\": 82.4171, \"Time\": \"2007-01-01T00:00:00\"}, {\"LOCATION\": \"NOR\", \"TIME\": 2008, \"Value\": 85.8021, \"Time\": \"2008-01-01T00:00:00\"}, {\"LOCATION\": \"NOR\", \"TIME\": 2009, \"Value\": 87.5946, \"Time\": \"2009-01-01T00:00:00\"}, {\"LOCATION\": \"NOR\", \"TIME\": 2010, \"Value\": 90.9441, \"Time\": \"2010-01-01T00:00:00\"}, {\"LOCATION\": \"NOR\", \"TIME\": 2011, \"Value\": 90.9743, \"Time\": \"2011-01-01T00:00:00\"}, {\"LOCATION\": \"NOR\", \"TIME\": 2012, \"Value\": 91.8971, \"Time\": \"2012-01-01T00:00:00\"}, {\"LOCATION\": \"NOR\", \"TIME\": 2013, \"Value\": 93.2816, \"Time\": \"2013-01-01T00:00:00\"}, {\"LOCATION\": \"NOR\", \"TIME\": 2015, \"Value\": 96.4735, \"Time\": \"2015-01-01T00:00:00\"}, {\"LOCATION\": \"NOR\", \"TIME\": 2017, \"Value\": 94.905746, \"Time\": \"2017-01-01T00:00:00\"}, {\"LOCATION\": \"SVK\", \"TIME\": 2006, \"Value\": 50.0949, \"Time\": \"2006-01-01T00:00:00\"}, {\"LOCATION\": \"SVK\", \"TIME\": 2007, \"Value\": 55.4297, \"Time\": \"2007-01-01T00:00:00\"}, {\"LOCATION\": \"SVK\", \"TIME\": 2008, \"Value\": 63.2266, \"Time\": \"2008-01-01T00:00:00\"}, {\"LOCATION\": \"SVK\", \"TIME\": 2009, \"Value\": 64.0456, \"Time\": \"2009-01-01T00:00:00\"}, {\"LOCATION\": \"SVK\", \"TIME\": 2010, \"Value\": 72.1756, \"Time\": \"2010-01-01T00:00:00\"}, {\"LOCATION\": \"SVK\", \"TIME\": 2011, \"Value\": 75.4321, \"Time\": \"2011-01-01T00:00:00\"}, {\"LOCATION\": \"SVK\", \"TIME\": 2012, \"Value\": 78.8125, \"Time\": \"2012-01-01T00:00:00\"}, {\"LOCATION\": \"SVK\", \"TIME\": 2013, \"Value\": 80.0754, \"Time\": \"2013-01-01T00:00:00\"}, {\"LOCATION\": \"SVK\", \"TIME\": 2015, \"Value\": 80.4795, \"Time\": \"2015-01-01T00:00:00\"}, {\"LOCATION\": \"SVK\", \"TIME\": 2017, \"Value\": 81.79907, \"Time\": \"2017-01-01T00:00:00\"}, {\"LOCATION\": \"CHE\", \"TIME\": 2005, \"Value\": 76.5, \"Time\": \"2005-01-01T00:00:00\"}, {\"LOCATION\": \"CHE\", \"TIME\": 2006, \"Value\": 77.4, \"Time\": \"2006-01-01T00:00:00\"}, {\"LOCATION\": \"CHE\", \"TIME\": 2007, \"Value\": 79.2, \"Time\": \"2007-01-01T00:00:00\"}, {\"LOCATION\": \"CHE\", \"TIME\": 2008, \"Value\": 81.4, \"Time\": \"2008-01-01T00:00:00\"}, {\"LOCATION\": \"CHE\", \"TIME\": 2009, \"Value\": 82.5, \"Time\": \"2009-01-01T00:00:00\"}, {\"LOCATION\": \"CHE\", \"TIME\": 2010, \"Value\": 83.6, \"Time\": \"2010-01-01T00:00:00\"}, {\"LOCATION\": \"CHE\", \"TIME\": 2011, \"Value\": 84.89, \"Time\": \"2011-01-01T00:00:00\"}, {\"LOCATION\": \"CHE\", \"TIME\": 2012, \"Value\": 86.6, \"Time\": \"2012-01-01T00:00:00\"}, {\"LOCATION\": \"CHE\", \"TIME\": 2013, \"Value\": 88.6, \"Time\": \"2013-01-01T00:00:00\"}, {\"LOCATION\": \"CHE\", \"TIME\": 2014, \"Value\": 90.25, \"Time\": \"2014-01-01T00:00:00\"}, {\"LOCATION\": \"BRA\", \"TIME\": 2008, \"Value\": 24.6, \"Time\": \"2008-01-01T00:00:00\"}, {\"LOCATION\": \"BRA\", \"TIME\": 2009, \"Value\": 32.3, \"Time\": \"2009-01-01T00:00:00\"}, {\"LOCATION\": \"BRA\", \"TIME\": 2010, \"Value\": 34.9, \"Time\": \"2010-01-01T00:00:00\"}, {\"LOCATION\": \"BRA\", \"TIME\": 2011, \"Value\": 42.6, \"Time\": \"2011-01-01T00:00:00\"}, {\"LOCATION\": \"BRA\", \"TIME\": 2012, \"Value\": 45.8, \"Time\": \"2012-01-01T00:00:00\"}, {\"LOCATION\": \"BRA\", \"TIME\": 2013, \"Value\": 48.7, \"Time\": \"2013-01-01T00:00:00\"}, {\"LOCATION\": \"BRA\", \"TIME\": 2014, \"Value\": 50.5, \"Time\": \"2014-01-01T00:00:00\"}, {\"LOCATION\": \"BRA\", \"TIME\": 2015, \"Value\": 47.9, \"Time\": \"2015-01-01T00:00:00\"}, {\"LOCATION\": \"BRA\", \"TIME\": 2016, \"Value\": 46.1, \"Time\": \"2016-01-01T00:00:00\"}, {\"LOCATION\": \"BRA\", \"TIME\": 2017, \"Value\": 46.3, \"Time\": \"2017-01-01T00:00:00\"}, {\"LOCATION\": \"BRA\", \"TIME\": 2018, \"Value\": 41.75858235, \"Time\": \"2018-01-01T00:00:00\"}, {\"LOCATION\": \"BRA\", \"TIME\": 2019, \"Value\": 39.4, \"Time\": \"2019-01-01T00:00:00\"}, {\"LOCATION\": \"ISR\", \"TIME\": 2005, \"Value\": 62.4, \"Time\": \"2005-01-01T00:00:00\"}, {\"LOCATION\": \"ISR\", \"TIME\": 2006, \"Value\": 65.8, \"Time\": \"2006-01-01T00:00:00\"}, {\"LOCATION\": \"ISR\", \"TIME\": 2007, \"Value\": 68.9, \"Time\": \"2007-01-01T00:00:00\"}, {\"LOCATION\": \"ISR\", \"TIME\": 2008, \"Value\": 71.0, \"Time\": \"2008-01-01T00:00:00\"}, {\"LOCATION\": \"ISR\", \"TIME\": 2009, \"Value\": 74.4, \"Time\": \"2009-01-01T00:00:00\"}, {\"LOCATION\": \"ISR\", \"TIME\": 2010, \"Value\": 76.7, \"Time\": \"2010-01-01T00:00:00\"}, {\"LOCATION\": \"ISR\", \"TIME\": 2011, \"Value\": 78.2, \"Time\": \"2011-01-01T00:00:00\"}, {\"LOCATION\": \"ISR\", \"TIME\": 2012, \"Value\": 80.38, \"Time\": \"2012-01-01T00:00:00\"}, {\"LOCATION\": \"ISR\", \"TIME\": 2013, \"Value\": 80.72, \"Time\": \"2013-01-01T00:00:00\"}, {\"LOCATION\": \"ISR\", \"TIME\": 2014, \"Value\": 81.25, \"Time\": \"2014-01-01T00:00:00\"}, {\"LOCATION\": \"ISR\", \"TIME\": 2015, \"Value\": 80.3, \"Time\": \"2015-01-01T00:00:00\"}, {\"LOCATION\": \"ISR\", \"TIME\": 2016, \"Value\": 78.08, \"Time\": \"2016-01-01T00:00:00\"}, {\"LOCATION\": \"ISR\", \"TIME\": 2017, \"Value\": 78.02, \"Time\": \"2017-01-01T00:00:00\"}, {\"LOCATION\": \"ITA\", \"TIME\": 2006, \"Value\": 51.5822, \"Time\": \"2006-01-01T00:00:00\"}, {\"LOCATION\": \"ITA\", \"TIME\": 2007, \"Value\": 53.3796, \"Time\": \"2007-01-01T00:00:00\"}, {\"LOCATION\": \"ITA\", \"TIME\": 2008, \"Value\": 55.9745, \"Time\": \"2008-01-01T00:00:00\"}, {\"LOCATION\": \"ITA\", \"TIME\": 2009, \"Value\": 61.2675, \"Time\": \"2009-01-01T00:00:00\"}, {\"LOCATION\": \"ITA\", \"TIME\": 2010, \"Value\": 64.8464, \"Time\": \"2010-01-01T00:00:00\"}, {\"LOCATION\": \"ITA\", \"TIME\": 2011, \"Value\": 66.1957, \"Time\": \"2011-01-01T00:00:00\"}, {\"LOCATION\": \"ITA\", \"TIME\": 2012, \"Value\": 67.0906, \"Time\": \"2012-01-01T00:00:00\"}, {\"LOCATION\": \"ITA\", \"TIME\": 2013, \"Value\": 71.1443, \"Time\": \"2013-01-01T00:00:00\"}, {\"LOCATION\": \"ITA\", \"TIME\": 2015, \"Value\": 72.5436, \"Time\": \"2015-01-01T00:00:00\"}, {\"LOCATION\": \"ITA\", \"TIME\": 2017, \"Value\": 72.50204699999999, \"Time\": \"2017-01-01T00:00:00\"}, {\"LOCATION\": \"LUX\", \"TIME\": 2006, \"Value\": 77.2517, \"Time\": \"2006-01-01T00:00:00\"}, {\"LOCATION\": \"LUX\", \"TIME\": 2007, \"Value\": 79.9669, \"Time\": \"2007-01-01T00:00:00\"}, {\"LOCATION\": \"LUX\", \"TIME\": 2008, \"Value\": 82.8419, \"Time\": \"2008-01-01T00:00:00\"}, {\"LOCATION\": \"LUX\", \"TIME\": 2009, \"Value\": 87.9317, \"Time\": \"2009-01-01T00:00:00\"}, {\"LOCATION\": \"LUX\", \"TIME\": 2010, \"Value\": 90.2148, \"Time\": \"2010-01-01T00:00:00\"}, {\"LOCATION\": \"LUX\", \"TIME\": 2011, \"Value\": 91.7325, \"Time\": \"2011-01-01T00:00:00\"}, {\"LOCATION\": \"LUX\", \"TIME\": 2012, \"Value\": 92.1312, \"Time\": \"2012-01-01T00:00:00\"}, {\"LOCATION\": \"LUX\", \"TIME\": 2013, \"Value\": 94.2733, \"Time\": \"2013-01-01T00:00:00\"}, {\"LOCATION\": \"LUX\", \"TIME\": 2015, \"Value\": 95.3357, \"Time\": \"2015-01-01T00:00:00\"}, {\"LOCATION\": \"LUX\", \"TIME\": 2017, \"Value\": 95.44832, \"Time\": \"2017-01-01T00:00:00\"}, {\"LOCATION\": \"PRT\", \"TIME\": 2006, \"Value\": 45.5876, \"Time\": \"2006-01-01T00:00:00\"}, {\"LOCATION\": \"PRT\", \"TIME\": 2007, \"Value\": 48.3165, \"Time\": \"2007-01-01T00:00:00\"}, {\"LOCATION\": \"PRT\", \"TIME\": 2008, \"Value\": 49.8432, \"Time\": \"2008-01-01T00:00:00\"}, {\"LOCATION\": \"PRT\", \"TIME\": 2009, \"Value\": 55.9881, \"Time\": \"2009-01-01T00:00:00\"}, {\"LOCATION\": \"PRT\", \"TIME\": 2010, \"Value\": 59.4949, \"Time\": \"2010-01-01T00:00:00\"}, {\"LOCATION\": \"PRT\", \"TIME\": 2011, \"Value\": 63.7269, \"Time\": \"2011-01-01T00:00:00\"}, {\"LOCATION\": \"PRT\", \"TIME\": 2012, \"Value\": 66.0973, \"Time\": \"2012-01-01T00:00:00\"}, {\"LOCATION\": \"PRT\", \"TIME\": 2013, \"Value\": 66.6784, \"Time\": \"2013-01-01T00:00:00\"}, {\"LOCATION\": \"PRT\", \"TIME\": 2015, \"Value\": 71.105, \"Time\": \"2015-01-01T00:00:00\"}, {\"LOCATION\": \"PRT\", \"TIME\": 2017, \"Value\": 71.491176, \"Time\": \"2017-01-01T00:00:00\"}, {\"LOCATION\": \"EST\", \"TIME\": 2006, \"Value\": 52.0362, \"Time\": \"2006-01-01T00:00:00\"}, {\"LOCATION\": \"EST\", \"TIME\": 2007, \"Value\": 56.4735, \"Time\": \"2007-01-01T00:00:00\"}, {\"LOCATION\": \"EST\", \"TIME\": 2008, \"Value\": 58.8312, \"Time\": \"2008-01-01T00:00:00\"}, {\"LOCATION\": \"EST\", \"TIME\": 2009, \"Value\": 64.0047, \"Time\": \"2009-01-01T00:00:00\"}, {\"LOCATION\": \"EST\", \"TIME\": 2010, \"Value\": 68.3044, \"Time\": \"2010-01-01T00:00:00\"}, {\"LOCATION\": \"EST\", \"TIME\": 2011, \"Value\": 70.0402, \"Time\": \"2011-01-01T00:00:00\"}, {\"LOCATION\": \"EST\", \"TIME\": 2012, \"Value\": 74.3429, \"Time\": \"2012-01-01T00:00:00\"}, {\"LOCATION\": \"EST\", \"TIME\": 2013, \"Value\": 78.9933, \"Time\": \"2013-01-01T00:00:00\"}, {\"LOCATION\": \"EST\", \"TIME\": 2015, \"Value\": 87.8821, \"Time\": \"2015-01-01T00:00:00\"}, {\"LOCATION\": \"EST\", \"TIME\": 2017, \"Value\": 86.90904, \"Time\": \"2017-01-01T00:00:00\"}, {\"LOCATION\": \"BEL\", \"TIME\": 2006, \"Value\": 57.5354, \"Time\": \"2006-01-01T00:00:00\"}, {\"LOCATION\": \"BEL\", \"TIME\": 2007, \"Value\": 67.1963, \"Time\": \"2007-01-01T00:00:00\"}, {\"LOCATION\": \"BEL\", \"TIME\": 2008, \"Value\": 70.0005, \"Time\": \"2008-01-01T00:00:00\"}, {\"LOCATION\": \"BEL\", \"TIME\": 2009, \"Value\": 71.1498, \"Time\": \"2009-01-01T00:00:00\"}, {\"LOCATION\": \"BEL\", \"TIME\": 2010, \"Value\": 76.7229, \"Time\": \"2010-01-01T00:00:00\"}, {\"LOCATION\": \"BEL\", \"TIME\": 2011, \"Value\": 78.8848, \"Time\": \"2011-01-01T00:00:00\"}, {\"LOCATION\": \"BEL\", \"TIME\": 2012, \"Value\": 80.3305, \"Time\": \"2012-01-01T00:00:00\"}, {\"LOCATION\": \"BEL\", \"TIME\": 2013, \"Value\": 81.8651, \"Time\": \"2013-01-01T00:00:00\"}, {\"LOCATION\": \"BEL\", \"TIME\": 2015, \"Value\": 82.0915, \"Time\": \"2015-01-01T00:00:00\"}, {\"LOCATION\": \"BEL\", \"TIME\": 2017, \"Value\": 85.119057, \"Time\": \"2017-01-01T00:00:00\"}, {\"LOCATION\": \"SWE\", \"TIME\": 2006, \"Value\": 82.4821, \"Time\": \"2006-01-01T00:00:00\"}, {\"LOCATION\": \"SWE\", \"TIME\": 2007, \"Value\": 82.8719, \"Time\": \"2007-01-01T00:00:00\"}, {\"LOCATION\": \"SWE\", \"TIME\": 2008, \"Value\": 87.0993, \"Time\": \"2008-01-01T00:00:00\"}, {\"LOCATION\": \"SWE\", \"TIME\": 2009, \"Value\": 87.5799, \"Time\": \"2009-01-01T00:00:00\"}, {\"LOCATION\": \"SWE\", \"TIME\": 2010, \"Value\": 89.5021, \"Time\": \"2010-01-01T00:00:00\"}, {\"LOCATION\": \"SWE\", \"TIME\": 2011, \"Value\": 91.5874, \"Time\": \"2011-01-01T00:00:00\"}, {\"LOCATION\": \"SWE\", \"TIME\": 2012, \"Value\": 92.2936, \"Time\": \"2012-01-01T00:00:00\"}, {\"LOCATION\": \"SWE\", \"TIME\": 2013, \"Value\": 91.8984, \"Time\": \"2013-01-01T00:00:00\"}, {\"LOCATION\": \"SWE\", \"TIME\": 2015, \"Value\": 88.25, \"Time\": \"2015-01-01T00:00:00\"}, {\"LOCATION\": \"SWE\", \"TIME\": 2017, \"Value\": 92.81636999999999, \"Time\": \"2017-01-01T00:00:00\"}, {\"LOCATION\": \"GBR\", \"TIME\": 2006, \"Value\": 71.4986, \"Time\": \"2006-01-01T00:00:00\"}, {\"LOCATION\": \"GBR\", \"TIME\": 2007, \"Value\": 75.3778, \"Time\": \"2007-01-01T00:00:00\"}, {\"LOCATION\": \"GBR\", \"TIME\": 2008, \"Value\": 78.0062, \"Time\": \"2008-01-01T00:00:00\"}, {\"LOCATION\": \"GBR\", \"TIME\": 2009, \"Value\": 81.1916, \"Time\": \"2009-01-01T00:00:00\"}, {\"LOCATION\": \"GBR\", \"TIME\": 2010, \"Value\": 82.5671, \"Time\": \"2010-01-01T00:00:00\"}, {\"LOCATION\": \"GBR\", \"TIME\": 2011, \"Value\": 84.5598, \"Time\": \"2011-01-01T00:00:00\"}, {\"LOCATION\": \"GBR\", \"TIME\": 2012, \"Value\": 87.2189, \"Time\": \"2012-01-01T00:00:00\"}, {\"LOCATION\": \"GBR\", \"TIME\": 2013, \"Value\": 88.2038, \"Time\": \"2013-01-01T00:00:00\"}, {\"LOCATION\": \"GBR\", \"TIME\": 2015, \"Value\": 89.8955, \"Time\": \"2015-01-01T00:00:00\"}, {\"LOCATION\": \"GBR\", \"TIME\": 2017, \"Value\": 91.668355, \"Time\": \"2017-01-01T00:00:00\"}, {\"LOCATION\": \"NZL\", \"TIME\": 2006, \"Value\": 72.0, \"Time\": \"2006-01-01T00:00:00\"}, {\"LOCATION\": \"NZL\", \"TIME\": 2009, \"Value\": 80.0, \"Time\": \"2009-01-01T00:00:00\"}, {\"LOCATION\": \"NZL\", \"TIME\": 2012, \"Value\": 78.0, \"Time\": \"2012-01-01T00:00:00\"}, {\"LOCATION\": \"LVA\", \"TIME\": 2006, \"Value\": 40.648, \"Time\": \"2006-01-01T00:00:00\"}, {\"LOCATION\": \"LVA\", \"TIME\": 2007, \"Value\": 49.2205, \"Time\": \"2007-01-01T00:00:00\"}, {\"LOCATION\": \"LVA\", \"TIME\": 2008, \"Value\": 56.6547, \"Time\": \"2008-01-01T00:00:00\"}, {\"LOCATION\": \"LVA\", \"TIME\": 2009, \"Value\": 60.111000000000004, \"Time\": \"2009-01-01T00:00:00\"}, {\"LOCATION\": \"LVA\", \"TIME\": 2010, \"Value\": 62.7755, \"Time\": \"2010-01-01T00:00:00\"}, {\"LOCATION\": \"LVA\", \"TIME\": 2011, \"Value\": 64.3118, \"Time\": \"2011-01-01T00:00:00\"}, {\"LOCATION\": \"LVA\", \"TIME\": 2012, \"Value\": 69.5155, \"Time\": \"2012-01-01T00:00:00\"}, {\"LOCATION\": \"LVA\", \"TIME\": 2013, \"Value\": 71.7196, \"Time\": \"2013-01-01T00:00:00\"}, {\"LOCATION\": \"LVA\", \"TIME\": 2015, \"Value\": 76.1467, \"Time\": \"2015-01-01T00:00:00\"}, {\"LOCATION\": \"LVA\", \"TIME\": 2017, \"Value\": 77.389836, \"Time\": \"2017-01-01T00:00:00\"}, {\"LOCATION\": \"LTU\", \"TIME\": 2006, \"Value\": 39.8406, \"Time\": \"2006-01-01T00:00:00\"}, {\"LOCATION\": \"LTU\", \"TIME\": 2007, \"Value\": 46.2723, \"Time\": \"2007-01-01T00:00:00\"}, {\"LOCATION\": \"LTU\", \"TIME\": 2008, \"Value\": 52.0273, \"Time\": \"2008-01-01T00:00:00\"}, {\"LOCATION\": \"LTU\", \"TIME\": 2009, \"Value\": 57.343999999999994, \"Time\": \"2009-01-01T00:00:00\"}, {\"LOCATION\": \"LTU\", \"TIME\": 2010, \"Value\": 59.2287, \"Time\": \"2010-01-01T00:00:00\"}, {\"LOCATION\": \"LTU\", \"TIME\": 2011, \"Value\": 60.2072, \"Time\": \"2011-01-01T00:00:00\"}, {\"LOCATION\": \"LTU\", \"TIME\": 2012, \"Value\": 62.1365, \"Time\": \"2012-01-01T00:00:00\"}, {\"LOCATION\": \"LTU\", \"TIME\": 2013, \"Value\": 65.8774, \"Time\": \"2013-01-01T00:00:00\"}, {\"LOCATION\": \"LTU\", \"TIME\": 2015, \"Value\": 67.6401, \"Time\": \"2015-01-01T00:00:00\"}, {\"LOCATION\": \"LTU\", \"TIME\": 2017, \"Value\": 73.00916, \"Time\": \"2017-01-01T00:00:00\"}, {\"LOCATION\": \"COL\", \"TIME\": 2008, \"Value\": 13.12344786, \"Time\": \"2008-01-01T00:00:00\"}, {\"LOCATION\": \"COL\", \"TIME\": 2009, \"Value\": 14.93281006, \"Time\": \"2009-01-01T00:00:00\"}, {\"LOCATION\": \"COL\", \"TIME\": 2010, \"Value\": 19.23383476, \"Time\": \"2010-01-01T00:00:00\"}, {\"LOCATION\": \"COL\", \"TIME\": 2011, \"Value\": 23.35388017, \"Time\": \"2011-01-01T00:00:00\"}, {\"LOCATION\": \"COL\", \"TIME\": 2012, \"Value\": 38.51754906, \"Time\": \"2012-01-01T00:00:00\"}, {\"LOCATION\": \"COL\", \"TIME\": 2013, \"Value\": 42.17471877, \"Time\": \"2013-01-01T00:00:00\"}, {\"LOCATION\": \"COL\", \"TIME\": 2014, \"Value\": 44.4665857, \"Time\": \"2014-01-01T00:00:00\"}, {\"LOCATION\": \"COL\", \"TIME\": 2015, \"Value\": 45.5, \"Time\": \"2015-01-01T00:00:00\"}, {\"LOCATION\": \"COL\", \"TIME\": 2016, \"Value\": 45.20757813, \"Time\": \"2016-01-01T00:00:00\"}, {\"LOCATION\": \"COL\", \"TIME\": 2018, \"Value\": 41.60826519, \"Time\": \"2018-01-01T00:00:00\"}, {\"LOCATION\": \"CRI\", \"TIME\": 2005, \"Value\": 27.0, \"Time\": \"2005-01-01T00:00:00\"}, {\"LOCATION\": \"CRI\", \"TIME\": 2006, \"Value\": 28.19843139, \"Time\": \"2006-01-01T00:00:00\"}, {\"LOCATION\": \"CRI\", \"TIME\": 2007, \"Value\": 31.62, \"Time\": \"2007-01-01T00:00:00\"}, {\"LOCATION\": \"CRI\", \"TIME\": 2008, \"Value\": 34.429728999999995, \"Time\": \"2008-01-01T00:00:00\"}, {\"LOCATION\": \"CRI\", \"TIME\": 2009, \"Value\": 38.00768838, \"Time\": \"2009-01-01T00:00:00\"}, {\"LOCATION\": \"CRI\", \"TIME\": 2010, \"Value\": 41.27215501, \"Time\": \"2010-01-01T00:00:00\"}, {\"LOCATION\": \"CRI\", \"TIME\": 2011, \"Value\": 45.34296914, \"Time\": \"2011-01-01T00:00:00\"}, {\"LOCATION\": \"CRI\", \"TIME\": 2012, \"Value\": 48.96160325, \"Time\": \"2012-01-01T00:00:00\"}, {\"LOCATION\": \"CRI\", \"TIME\": 2013, \"Value\": 51.00880095, \"Time\": \"2013-01-01T00:00:00\"}, {\"LOCATION\": \"CRI\", \"TIME\": 2014, \"Value\": 52.30559341, \"Time\": \"2014-01-01T00:00:00\"}, {\"LOCATION\": \"CRI\", \"TIME\": 2015, \"Value\": 53.2, \"Time\": \"2015-01-01T00:00:00\"}, {\"LOCATION\": \"CRI\", \"TIME\": 2016, \"Value\": 51.7, \"Time\": \"2016-01-01T00:00:00\"}, {\"LOCATION\": \"CRI\", \"TIME\": 2017, \"Value\": 51.0, \"Time\": \"2017-01-01T00:00:00\"}, {\"LOCATION\": \"CRI\", \"TIME\": 2018, \"Value\": 50.42008949, \"Time\": \"2018-01-01T00:00:00\"}, {\"LOCATION\": \"CRI\", \"TIME\": 2019, \"Value\": 49.93197779, \"Time\": \"2019-01-01T00:00:00\"}]}}, {\"mode\": \"vega-lite\"});\n",
       "</script>"
      ],
      "text/plain": [
       "alt.Chart(...)"
      ]
     },
     "execution_count": 177,
     "metadata": {},
     "output_type": "execute_result"
    }
   ],
   "source": [
    "import altair as alt\n",
    "Chart(comp_new).mark_point().encode(x=\"Time\",y=\"Value\",color=\"LOCATION\")"
   ]
  },
  {
   "cell_type": "code",
   "execution_count": 178,
   "metadata": {},
   "outputs": [
    {
     "data": {
      "text/plain": [
       "39"
      ]
     },
     "execution_count": 178,
     "metadata": {},
     "output_type": "execute_result"
    }
   ],
   "source": [
    "comp_new[\"LOCATION\"].nunique()"
   ]
  },
  {
   "cell_type": "markdown",
   "metadata": {},
   "source": [
    "There are too many unique codes and it is not quite clear which country is which. Therefore, let's organize the data in the following way:\n",
    "- First, let's use the IBAN country codes (https://www.iban.com/country-codes) to add a country name to the dataframe.\n",
    "- Second, let's organize the countries into groups by their HDI on 2020 (https://worldpopulationreview.com/country-rankings/hdi-by-country). \n",
    "\n",
    "This will allow us to better understand the gap between countries and regions when it comes to access to a computer at home.\n",
    "\n",
    "```\n",
    "To accomplish that I will first download a list of countries and their codes and HDI as a separate dataframes. \n",
    "I will inner join them with the comp_new data frame and will then create a label based off the HDI.\n",
    "Lastly, I leave only relevant columns to have a cleaner dataframe.\n",
    "\n",
    "```"
   ]
  },
  {
   "cell_type": "code",
   "execution_count": 179,
   "metadata": {},
   "outputs": [
    {
     "data": {
      "text/html": [
       "<div>\n",
       "<style scoped>\n",
       "    .dataframe tbody tr th:only-of-type {\n",
       "        vertical-align: middle;\n",
       "    }\n",
       "\n",
       "    .dataframe tbody tr th {\n",
       "        vertical-align: top;\n",
       "    }\n",
       "\n",
       "    .dataframe thead th {\n",
       "        text-align: right;\n",
       "    }\n",
       "</style>\n",
       "<table border=\"1\" class=\"dataframe\">\n",
       "  <thead>\n",
       "    <tr style=\"text-align: right;\">\n",
       "      <th></th>\n",
       "      <th>Country</th>\n",
       "      <th>Two_code</th>\n",
       "      <th>Three_code</th>\n",
       "      <th>number_code</th>\n",
       "    </tr>\n",
       "  </thead>\n",
       "  <tbody>\n",
       "    <tr>\n",
       "      <th>0</th>\n",
       "      <td>Afghanistan</td>\n",
       "      <td>AF</td>\n",
       "      <td>AFG</td>\n",
       "      <td>4</td>\n",
       "    </tr>\n",
       "    <tr>\n",
       "      <th>1</th>\n",
       "      <td>Albania</td>\n",
       "      <td>AL</td>\n",
       "      <td>ALB</td>\n",
       "      <td>8</td>\n",
       "    </tr>\n",
       "    <tr>\n",
       "      <th>2</th>\n",
       "      <td>Algeria</td>\n",
       "      <td>DZ</td>\n",
       "      <td>DZA</td>\n",
       "      <td>12</td>\n",
       "    </tr>\n",
       "    <tr>\n",
       "      <th>3</th>\n",
       "      <td>American Samoa</td>\n",
       "      <td>AS</td>\n",
       "      <td>ASM</td>\n",
       "      <td>16</td>\n",
       "    </tr>\n",
       "    <tr>\n",
       "      <th>4</th>\n",
       "      <td>Andorra</td>\n",
       "      <td>AD</td>\n",
       "      <td>AND</td>\n",
       "      <td>20</td>\n",
       "    </tr>\n",
       "  </tbody>\n",
       "</table>\n",
       "</div>"
      ],
      "text/plain": [
       "          Country Two_code Three_code  number_code\n",
       "0     Afghanistan       AF        AFG            4\n",
       "1         Albania       AL        ALB            8\n",
       "2         Algeria       DZ        DZA           12\n",
       "3  American Samoa       AS        ASM           16\n",
       "4         Andorra       AD        AND           20"
      ]
     },
     "execution_count": 179,
     "metadata": {},
     "output_type": "execute_result"
    }
   ],
   "source": [
    "codes=pd.read_csv(\"country_code.csv\")\n",
    "codes.head(5)"
   ]
  },
  {
   "cell_type": "code",
   "execution_count": 180,
   "metadata": {},
   "outputs": [
    {
     "data": {
      "text/html": [
       "<div>\n",
       "<style scoped>\n",
       "    .dataframe tbody tr th:only-of-type {\n",
       "        vertical-align: middle;\n",
       "    }\n",
       "\n",
       "    .dataframe tbody tr th {\n",
       "        vertical-align: top;\n",
       "    }\n",
       "\n",
       "    .dataframe thead th {\n",
       "        text-align: right;\n",
       "    }\n",
       "</style>\n",
       "<table border=\"1\" class=\"dataframe\">\n",
       "  <thead>\n",
       "    <tr style=\"text-align: right;\">\n",
       "      <th></th>\n",
       "      <th>Country</th>\n",
       "      <th>Three_code</th>\n",
       "    </tr>\n",
       "  </thead>\n",
       "  <tbody>\n",
       "    <tr>\n",
       "      <th>0</th>\n",
       "      <td>Afghanistan</td>\n",
       "      <td>AFG</td>\n",
       "    </tr>\n",
       "    <tr>\n",
       "      <th>1</th>\n",
       "      <td>Albania</td>\n",
       "      <td>ALB</td>\n",
       "    </tr>\n",
       "    <tr>\n",
       "      <th>2</th>\n",
       "      <td>Algeria</td>\n",
       "      <td>DZA</td>\n",
       "    </tr>\n",
       "    <tr>\n",
       "      <th>3</th>\n",
       "      <td>American Samoa</td>\n",
       "      <td>ASM</td>\n",
       "    </tr>\n",
       "    <tr>\n",
       "      <th>4</th>\n",
       "      <td>Andorra</td>\n",
       "      <td>AND</td>\n",
       "    </tr>\n",
       "  </tbody>\n",
       "</table>\n",
       "</div>"
      ],
      "text/plain": [
       "          Country Three_code\n",
       "0     Afghanistan        AFG\n",
       "1         Albania        ALB\n",
       "2         Algeria        DZA\n",
       "3  American Samoa        ASM\n",
       "4         Andorra        AND"
      ]
     },
     "execution_count": 180,
     "metadata": {},
     "output_type": "execute_result"
    }
   ],
   "source": [
    "codes=codes.loc[:,[\"Country\",\"Three_code\"]]\n",
    "codes.head(5)"
   ]
  },
  {
   "cell_type": "code",
   "execution_count": 181,
   "metadata": {},
   "outputs": [
    {
     "data": {
      "text/html": [
       "<div>\n",
       "<style scoped>\n",
       "    .dataframe tbody tr th:only-of-type {\n",
       "        vertical-align: middle;\n",
       "    }\n",
       "\n",
       "    .dataframe tbody tr th {\n",
       "        vertical-align: top;\n",
       "    }\n",
       "\n",
       "    .dataframe thead th {\n",
       "        text-align: right;\n",
       "    }\n",
       "</style>\n",
       "<table border=\"1\" class=\"dataframe\">\n",
       "  <thead>\n",
       "    <tr style=\"text-align: right;\">\n",
       "      <th></th>\n",
       "      <th>country</th>\n",
       "      <th>hdi</th>\n",
       "      <th>pop2020</th>\n",
       "    </tr>\n",
       "  </thead>\n",
       "  <tbody>\n",
       "    <tr>\n",
       "      <th>0</th>\n",
       "      <td>Norway</td>\n",
       "      <td>0.954</td>\n",
       "      <td>5421.241</td>\n",
       "    </tr>\n",
       "    <tr>\n",
       "      <th>1</th>\n",
       "      <td>Switzerland</td>\n",
       "      <td>0.946</td>\n",
       "      <td>8654.622</td>\n",
       "    </tr>\n",
       "    <tr>\n",
       "      <th>2</th>\n",
       "      <td>Ireland</td>\n",
       "      <td>0.942</td>\n",
       "      <td>4937.786</td>\n",
       "    </tr>\n",
       "    <tr>\n",
       "      <th>3</th>\n",
       "      <td>Hong Kong</td>\n",
       "      <td>0.939</td>\n",
       "      <td>7496.981</td>\n",
       "    </tr>\n",
       "    <tr>\n",
       "      <th>4</th>\n",
       "      <td>Germany</td>\n",
       "      <td>0.939</td>\n",
       "      <td>83783.942</td>\n",
       "    </tr>\n",
       "  </tbody>\n",
       "</table>\n",
       "</div>"
      ],
      "text/plain": [
       "       country    hdi    pop2020\n",
       "0       Norway  0.954   5421.241\n",
       "1  Switzerland  0.946   8654.622\n",
       "2      Ireland  0.942   4937.786\n",
       "3    Hong Kong  0.939   7496.981\n",
       "4      Germany  0.939  83783.942"
      ]
     },
     "execution_count": 181,
     "metadata": {},
     "output_type": "execute_result"
    }
   ],
   "source": [
    "hdi=pd.read_csv(\"hdi.csv\")\n",
    "hdi.head(5)"
   ]
  },
  {
   "cell_type": "code",
   "execution_count": 182,
   "metadata": {},
   "outputs": [
    {
     "data": {
      "text/html": [
       "<div>\n",
       "<style scoped>\n",
       "    .dataframe tbody tr th:only-of-type {\n",
       "        vertical-align: middle;\n",
       "    }\n",
       "\n",
       "    .dataframe tbody tr th {\n",
       "        vertical-align: top;\n",
       "    }\n",
       "\n",
       "    .dataframe thead th {\n",
       "        text-align: right;\n",
       "    }\n",
       "</style>\n",
       "<table border=\"1\" class=\"dataframe\">\n",
       "  <thead>\n",
       "    <tr style=\"text-align: right;\">\n",
       "      <th></th>\n",
       "      <th>LOCATION</th>\n",
       "      <th>TIME</th>\n",
       "      <th>Value</th>\n",
       "      <th>Time</th>\n",
       "      <th>Country</th>\n",
       "      <th>hdi</th>\n",
       "    </tr>\n",
       "  </thead>\n",
       "  <tbody>\n",
       "    <tr>\n",
       "      <th>0</th>\n",
       "      <td>DNK</td>\n",
       "      <td>2006</td>\n",
       "      <td>84.9749</td>\n",
       "      <td>2006-01-01</td>\n",
       "      <td>Denmark</td>\n",
       "      <td>0.93</td>\n",
       "    </tr>\n",
       "    <tr>\n",
       "      <th>1</th>\n",
       "      <td>DNK</td>\n",
       "      <td>2007</td>\n",
       "      <td>82.9604</td>\n",
       "      <td>2007-01-01</td>\n",
       "      <td>Denmark</td>\n",
       "      <td>0.93</td>\n",
       "    </tr>\n",
       "    <tr>\n",
       "      <th>2</th>\n",
       "      <td>DNK</td>\n",
       "      <td>2008</td>\n",
       "      <td>85.4588</td>\n",
       "      <td>2008-01-01</td>\n",
       "      <td>Denmark</td>\n",
       "      <td>0.93</td>\n",
       "    </tr>\n",
       "    <tr>\n",
       "      <th>3</th>\n",
       "      <td>DNK</td>\n",
       "      <td>2009</td>\n",
       "      <td>86.2344</td>\n",
       "      <td>2009-01-01</td>\n",
       "      <td>Denmark</td>\n",
       "      <td>0.93</td>\n",
       "    </tr>\n",
       "    <tr>\n",
       "      <th>4</th>\n",
       "      <td>DNK</td>\n",
       "      <td>2010</td>\n",
       "      <td>88.0249</td>\n",
       "      <td>2010-01-01</td>\n",
       "      <td>Denmark</td>\n",
       "      <td>0.93</td>\n",
       "    </tr>\n",
       "  </tbody>\n",
       "</table>\n",
       "</div>"
      ],
      "text/plain": [
       "  LOCATION  TIME    Value       Time  Country   hdi\n",
       "0      DNK  2006  84.9749 2006-01-01  Denmark  0.93\n",
       "1      DNK  2007  82.9604 2007-01-01  Denmark  0.93\n",
       "2      DNK  2008  85.4588 2008-01-01  Denmark  0.93\n",
       "3      DNK  2009  86.2344 2009-01-01  Denmark  0.93\n",
       "4      DNK  2010  88.0249 2010-01-01  Denmark  0.93"
      ]
     },
     "execution_count": 182,
     "metadata": {},
     "output_type": "execute_result"
    }
   ],
   "source": [
    "comp_new_2=pd.merge(comp_new,codes,how=\"inner\",left_on=\"LOCATION\",right_on=\"Three_code\")\n",
    "comp_new_2=pd.merge(comp_new_2,hdi,how=\"inner\",left_on=\"Country\",right_on=\"country\")\n",
    "comp_new_2=comp_new_2.loc[:,[\"LOCATION\",\"TIME\",\"Value\",\"Time\",\"Country\",\"hdi\"]]\n",
    "comp_new_2.head(5)"
   ]
  },
  {
   "cell_type": "markdown",
   "metadata": {},
   "source": [
    "Now, we have all the information we need. Let's look at the range of HDI for the 39 countries in our data:"
   ]
  },
  {
   "cell_type": "code",
   "execution_count": 183,
   "metadata": {},
   "outputs": [
    {
     "data": {
      "text/plain": [
       "array([0.93 , 0.939, 0.938, 0.915, 0.891, 0.845, 0.902, 0.914, 0.872,\n",
       "       0.893, 0.806, 0.847, 0.942, 0.922, 0.925, 0.767, 0.954, 0.857,\n",
       "       0.946, 0.761, 0.906, 0.883, 0.909, 0.85 , 0.882, 0.919, 0.937,\n",
       "       0.921, 0.854, 0.869, 0.794])"
      ]
     },
     "execution_count": 183,
     "metadata": {},
     "output_type": "execute_result"
    }
   ],
   "source": [
    "comp_new_2[\"hdi\"].unique()"
   ]
  },
  {
   "cell_type": "markdown",
   "metadata": {},
   "source": [
    "Let's group the countries now. HDI's above 0.90 will be grouped as **high** for highly developed. HDI's from 0.80 to 0.90 will be labeled **medium-high**, and those below 0.80 will be labeled **medium**. The labeling is somewhat arbitraty especially given we are using the HDI for 2020 to classify the country. However, it will be helpful to illustrate the differences and see if there are any *outliers* in the data: countries with high HDI but with low access to computers from home or vice and versa.\n",
    "\n",
    "To accomplish this, I will go through a for loop and if statements which will read a country's HDI and classify it based on the labels mentioned above:"
   ]
  },
  {
   "cell_type": "code",
   "execution_count": 185,
   "metadata": {},
   "outputs": [
    {
     "data": {
      "text/plain": [
       "339"
      ]
     },
     "execution_count": 185,
     "metadata": {},
     "output_type": "execute_result"
    }
   ],
   "source": [
    "status=[]\n",
    "for i in range(len(comp_new_2)):\n",
    "    if comp_new_2.iloc[i,5]>=0.90:\n",
    "        status.append(\"High\")\n",
    "    elif comp_new_2.iloc[i,5]<0.80:\n",
    "        status.append(\"Medium\")\n",
    "    else:\n",
    "        status.append(\"Medium-High\")\n",
    "\n",
    "len(status)"
   ]
  },
  {
   "cell_type": "code",
   "execution_count": 186,
   "metadata": {},
   "outputs": [
    {
     "data": {
      "text/html": [
       "<div>\n",
       "<style scoped>\n",
       "    .dataframe tbody tr th:only-of-type {\n",
       "        vertical-align: middle;\n",
       "    }\n",
       "\n",
       "    .dataframe tbody tr th {\n",
       "        vertical-align: top;\n",
       "    }\n",
       "\n",
       "    .dataframe thead th {\n",
       "        text-align: right;\n",
       "    }\n",
       "</style>\n",
       "<table border=\"1\" class=\"dataframe\">\n",
       "  <thead>\n",
       "    <tr style=\"text-align: right;\">\n",
       "      <th></th>\n",
       "      <th>LOCATION</th>\n",
       "      <th>TIME</th>\n",
       "      <th>Value</th>\n",
       "      <th>Time</th>\n",
       "      <th>Country</th>\n",
       "      <th>Status</th>\n",
       "    </tr>\n",
       "  </thead>\n",
       "  <tbody>\n",
       "    <tr>\n",
       "      <th>0</th>\n",
       "      <td>DNK</td>\n",
       "      <td>2006</td>\n",
       "      <td>84.9749</td>\n",
       "      <td>2006-01-01</td>\n",
       "      <td>Denmark</td>\n",
       "      <td>High</td>\n",
       "    </tr>\n",
       "    <tr>\n",
       "      <th>1</th>\n",
       "      <td>DNK</td>\n",
       "      <td>2007</td>\n",
       "      <td>82.9604</td>\n",
       "      <td>2007-01-01</td>\n",
       "      <td>Denmark</td>\n",
       "      <td>High</td>\n",
       "    </tr>\n",
       "    <tr>\n",
       "      <th>2</th>\n",
       "      <td>DNK</td>\n",
       "      <td>2008</td>\n",
       "      <td>85.4588</td>\n",
       "      <td>2008-01-01</td>\n",
       "      <td>Denmark</td>\n",
       "      <td>High</td>\n",
       "    </tr>\n",
       "    <tr>\n",
       "      <th>3</th>\n",
       "      <td>DNK</td>\n",
       "      <td>2009</td>\n",
       "      <td>86.2344</td>\n",
       "      <td>2009-01-01</td>\n",
       "      <td>Denmark</td>\n",
       "      <td>High</td>\n",
       "    </tr>\n",
       "    <tr>\n",
       "      <th>4</th>\n",
       "      <td>DNK</td>\n",
       "      <td>2010</td>\n",
       "      <td>88.0249</td>\n",
       "      <td>2010-01-01</td>\n",
       "      <td>Denmark</td>\n",
       "      <td>High</td>\n",
       "    </tr>\n",
       "  </tbody>\n",
       "</table>\n",
       "</div>"
      ],
      "text/plain": [
       "  LOCATION  TIME    Value       Time  Country Status\n",
       "0      DNK  2006  84.9749 2006-01-01  Denmark   High\n",
       "1      DNK  2007  82.9604 2007-01-01  Denmark   High\n",
       "2      DNK  2008  85.4588 2008-01-01  Denmark   High\n",
       "3      DNK  2009  86.2344 2009-01-01  Denmark   High\n",
       "4      DNK  2010  88.0249 2010-01-01  Denmark   High"
      ]
     },
     "execution_count": 186,
     "metadata": {},
     "output_type": "execute_result"
    }
   ],
   "source": [
    "comp_new_2=comp_new_2.assign(Status= status)\n",
    "comp_new_2=comp_new_2.loc[:,[\"LOCATION\",\"TIME\",\"Value\",\"Time\",\"Country\",\"Status\"]]\n",
    "comp_new_2.head(5)"
   ]
  },
  {
   "cell_type": "code",
   "execution_count": 187,
   "metadata": {},
   "outputs": [
    {
     "data": {
      "text/plain": [
       "array(['High', 'Medium-High', 'Medium'], dtype=object)"
      ]
     },
     "execution_count": 187,
     "metadata": {},
     "output_type": "execute_result"
    }
   ],
   "source": [
    "comp_new_2.Status.unique()"
   ]
  },
  {
   "cell_type": "markdown",
   "metadata": {},
   "source": [
    "Now, we can replot the data and group the changes in access to computer through time by the HDI in each country:"
   ]
  },
  {
   "cell_type": "code",
   "execution_count": 189,
   "metadata": {},
   "outputs": [
    {
     "data": {
      "text/html": [
       "\n",
       "<div id=\"altair-viz-fa803f75fbaf4318a3cd673b724d04a2\"></div>\n",
       "<script type=\"text/javascript\">\n",
       "  (function(spec, embedOpt){\n",
       "    let outputDiv = document.currentScript.previousElementSibling;\n",
       "    if (outputDiv.id !== \"altair-viz-fa803f75fbaf4318a3cd673b724d04a2\") {\n",
       "      outputDiv = document.getElementById(\"altair-viz-fa803f75fbaf4318a3cd673b724d04a2\");\n",
       "    }\n",
       "    const paths = {\n",
       "      \"vega\": \"https://cdn.jsdelivr.net/npm//vega@5?noext\",\n",
       "      \"vega-lib\": \"https://cdn.jsdelivr.net/npm//vega-lib?noext\",\n",
       "      \"vega-lite\": \"https://cdn.jsdelivr.net/npm//vega-lite@4.8.1?noext\",\n",
       "      \"vega-embed\": \"https://cdn.jsdelivr.net/npm//vega-embed@6?noext\",\n",
       "    };\n",
       "\n",
       "    function loadScript(lib) {\n",
       "      return new Promise(function(resolve, reject) {\n",
       "        var s = document.createElement('script');\n",
       "        s.src = paths[lib];\n",
       "        s.async = true;\n",
       "        s.onload = () => resolve(paths[lib]);\n",
       "        s.onerror = () => reject(`Error loading script: ${paths[lib]}`);\n",
       "        document.getElementsByTagName(\"head\")[0].appendChild(s);\n",
       "      });\n",
       "    }\n",
       "\n",
       "    function showError(err) {\n",
       "      outputDiv.innerHTML = `<div class=\"error\" style=\"color:red;\">${err}</div>`;\n",
       "      throw err;\n",
       "    }\n",
       "\n",
       "    function displayChart(vegaEmbed) {\n",
       "      vegaEmbed(outputDiv, spec, embedOpt)\n",
       "        .catch(err => showError(`Javascript Error: ${err.message}<br>This usually means there's a typo in your chart specification. See the javascript console for the full traceback.`));\n",
       "    }\n",
       "\n",
       "    if(typeof define === \"function\" && define.amd) {\n",
       "      requirejs.config({paths});\n",
       "      require([\"vega-embed\"], displayChart, err => showError(`Error loading script: ${err.message}`));\n",
       "    } else if (typeof vegaEmbed === \"function\") {\n",
       "      displayChart(vegaEmbed);\n",
       "    } else {\n",
       "      loadScript(\"vega\")\n",
       "        .then(() => loadScript(\"vega-lite\"))\n",
       "        .then(() => loadScript(\"vega-embed\"))\n",
       "        .catch(showError)\n",
       "        .then(() => displayChart(vegaEmbed));\n",
       "    }\n",
       "  })({\"config\": {\"view\": {\"continuousWidth\": 400, \"continuousHeight\": 300}}, \"data\": {\"name\": \"data-d7b6e74cab5afe14474424bbe993d417\"}, \"mark\": \"point\", \"encoding\": {\"color\": {\"type\": \"nominal\", \"field\": \"Status\"}, \"x\": {\"type\": \"temporal\", \"field\": \"Time\"}, \"y\": {\"type\": \"quantitative\", \"field\": \"Value\"}}, \"$schema\": \"https://vega.github.io/schema/vega-lite/v4.8.1.json\", \"datasets\": {\"data-d7b6e74cab5afe14474424bbe993d417\": [{\"LOCATION\": \"DNK\", \"TIME\": 2006, \"Value\": 84.9749, \"Time\": \"2006-01-01T00:00:00\", \"Country\": \"Denmark\", \"Status\": \"High\"}, {\"LOCATION\": \"DNK\", \"TIME\": 2007, \"Value\": 82.9604, \"Time\": \"2007-01-01T00:00:00\", \"Country\": \"Denmark\", \"Status\": \"High\"}, {\"LOCATION\": \"DNK\", \"TIME\": 2008, \"Value\": 85.4588, \"Time\": \"2008-01-01T00:00:00\", \"Country\": \"Denmark\", \"Status\": \"High\"}, {\"LOCATION\": \"DNK\", \"TIME\": 2009, \"Value\": 86.2344, \"Time\": \"2009-01-01T00:00:00\", \"Country\": \"Denmark\", \"Status\": \"High\"}, {\"LOCATION\": \"DNK\", \"TIME\": 2010, \"Value\": 88.0249, \"Time\": \"2010-01-01T00:00:00\", \"Country\": \"Denmark\", \"Status\": \"High\"}, {\"LOCATION\": \"DNK\", \"TIME\": 2011, \"Value\": 90.4412, \"Time\": \"2011-01-01T00:00:00\", \"Country\": \"Denmark\", \"Status\": \"High\"}, {\"LOCATION\": \"DNK\", \"TIME\": 2012, \"Value\": 92.2643, \"Time\": \"2012-01-01T00:00:00\", \"Country\": \"Denmark\", \"Status\": \"High\"}, {\"LOCATION\": \"DNK\", \"TIME\": 2013, \"Value\": 93.0825, \"Time\": \"2013-01-01T00:00:00\", \"Country\": \"Denmark\", \"Status\": \"High\"}, {\"LOCATION\": \"DNK\", \"TIME\": 2015, \"Value\": 92.2751, \"Time\": \"2015-01-01T00:00:00\", \"Country\": \"Denmark\", \"Status\": \"High\"}, {\"LOCATION\": \"DNK\", \"TIME\": 2017, \"Value\": 93.13689000000001, \"Time\": \"2017-01-01T00:00:00\", \"Country\": \"Denmark\", \"Status\": \"High\"}, {\"LOCATION\": \"DEU\", \"TIME\": 2006, \"Value\": 76.8558, \"Time\": \"2006-01-01T00:00:00\", \"Country\": \"Germany\", \"Status\": \"High\"}, {\"LOCATION\": \"DEU\", \"TIME\": 2007, \"Value\": 78.6466, \"Time\": \"2007-01-01T00:00:00\", \"Country\": \"Germany\", \"Status\": \"High\"}, {\"LOCATION\": \"DEU\", \"TIME\": 2008, \"Value\": 81.8193, \"Time\": \"2008-01-01T00:00:00\", \"Country\": \"Germany\", \"Status\": \"High\"}, {\"LOCATION\": \"DEU\", \"TIME\": 2009, \"Value\": 84.0926, \"Time\": \"2009-01-01T00:00:00\", \"Country\": \"Germany\", \"Status\": \"High\"}, {\"LOCATION\": \"DEU\", \"TIME\": 2010, \"Value\": 85.7406, \"Time\": \"2010-01-01T00:00:00\", \"Country\": \"Germany\", \"Status\": \"High\"}, {\"LOCATION\": \"DEU\", \"TIME\": 2011, \"Value\": 86.8648, \"Time\": \"2011-01-01T00:00:00\", \"Country\": \"Germany\", \"Status\": \"High\"}, {\"LOCATION\": \"DEU\", \"TIME\": 2012, \"Value\": 87.0997, \"Time\": \"2012-01-01T00:00:00\", \"Country\": \"Germany\", \"Status\": \"High\"}, {\"LOCATION\": \"DEU\", \"TIME\": 2013, \"Value\": 88.8744, \"Time\": \"2013-01-01T00:00:00\", \"Country\": \"Germany\", \"Status\": \"High\"}, {\"LOCATION\": \"DEU\", \"TIME\": 2015, \"Value\": 90.9926, \"Time\": \"2015-01-01T00:00:00\", \"Country\": \"Germany\", \"Status\": \"High\"}, {\"LOCATION\": \"DEU\", \"TIME\": 2017, \"Value\": 92.86555600000001, \"Time\": \"2017-01-01T00:00:00\", \"Country\": \"Germany\", \"Status\": \"High\"}, {\"LOCATION\": \"ISL\", \"TIME\": 2006, \"Value\": 84.6127, \"Time\": \"2006-01-01T00:00:00\", \"Country\": \"Iceland\", \"Status\": \"High\"}, {\"LOCATION\": \"ISL\", \"TIME\": 2007, \"Value\": 89.1498, \"Time\": \"2007-01-01T00:00:00\", \"Country\": \"Iceland\", \"Status\": \"High\"}, {\"LOCATION\": \"ISL\", \"TIME\": 2008, \"Value\": 91.9216, \"Time\": \"2008-01-01T00:00:00\", \"Country\": \"Iceland\", \"Status\": \"High\"}, {\"LOCATION\": \"ISL\", \"TIME\": 2009, \"Value\": 92.4591, \"Time\": \"2009-01-01T00:00:00\", \"Country\": \"Iceland\", \"Status\": \"High\"}, {\"LOCATION\": \"ISL\", \"TIME\": 2010, \"Value\": 93.056, \"Time\": \"2010-01-01T00:00:00\", \"Country\": \"Iceland\", \"Status\": \"High\"}, {\"LOCATION\": \"ISL\", \"TIME\": 2011, \"Value\": 94.66, \"Time\": \"2011-01-01T00:00:00\", \"Country\": \"Iceland\", \"Status\": \"High\"}, {\"LOCATION\": \"ISL\", \"TIME\": 2012, \"Value\": 95.5166, \"Time\": \"2012-01-01T00:00:00\", \"Country\": \"Iceland\", \"Status\": \"High\"}, {\"LOCATION\": \"ISL\", \"TIME\": 2013, \"Value\": 96.7106, \"Time\": \"2013-01-01T00:00:00\", \"Country\": \"Iceland\", \"Status\": \"High\"}, {\"LOCATION\": \"ISL\", \"TIME\": 2017, \"Value\": 97.29724499999999, \"Time\": \"2017-01-01T00:00:00\", \"Country\": \"Iceland\", \"Status\": \"High\"}, {\"LOCATION\": \"JPN\", \"TIME\": 2005, \"Value\": 80.5, \"Time\": \"2005-01-01T00:00:00\", \"Country\": \"Japan\", \"Status\": \"High\"}, {\"LOCATION\": \"JPN\", \"TIME\": 2006, \"Value\": 80.8, \"Time\": \"2006-01-01T00:00:00\", \"Country\": \"Japan\", \"Status\": \"High\"}, {\"LOCATION\": \"JPN\", \"TIME\": 2007, \"Value\": 85.0, \"Time\": \"2007-01-01T00:00:00\", \"Country\": \"Japan\", \"Status\": \"High\"}, {\"LOCATION\": \"JPN\", \"TIME\": 2008, \"Value\": 85.9, \"Time\": \"2008-01-01T00:00:00\", \"Country\": \"Japan\", \"Status\": \"High\"}, {\"LOCATION\": \"JPN\", \"TIME\": 2009, \"Value\": 87.2, \"Time\": \"2009-01-01T00:00:00\", \"Country\": \"Japan\", \"Status\": \"High\"}, {\"LOCATION\": \"JPN\", \"TIME\": 2010, \"Value\": 83.4, \"Time\": \"2010-01-01T00:00:00\", \"Country\": \"Japan\", \"Status\": \"High\"}, {\"LOCATION\": \"JPN\", \"TIME\": 2011, \"Value\": 80.0, \"Time\": \"2011-01-01T00:00:00\", \"Country\": \"Japan\", \"Status\": \"High\"}, {\"LOCATION\": \"JPN\", \"TIME\": 2012, \"Value\": 77.9, \"Time\": \"2012-01-01T00:00:00\", \"Country\": \"Japan\", \"Status\": \"High\"}, {\"LOCATION\": \"JPN\", \"TIME\": 2013, \"Value\": 81.7, \"Time\": \"2013-01-01T00:00:00\", \"Country\": \"Japan\", \"Status\": \"High\"}, {\"LOCATION\": \"JPN\", \"TIME\": 2014, \"Value\": 78.0, \"Time\": \"2014-01-01T00:00:00\", \"Country\": \"Japan\", \"Status\": \"High\"}, {\"LOCATION\": \"JPN\", \"TIME\": 2015, \"Value\": 76.8, \"Time\": \"2015-01-01T00:00:00\", \"Country\": \"Japan\", \"Status\": \"High\"}, {\"LOCATION\": \"JPN\", \"TIME\": 2016, \"Value\": 73.0, \"Time\": \"2016-01-01T00:00:00\", \"Country\": \"Japan\", \"Status\": \"High\"}, {\"LOCATION\": \"JPN\", \"TIME\": 2017, \"Value\": 72.5, \"Time\": \"2017-01-01T00:00:00\", \"Country\": \"Japan\", \"Status\": \"High\"}, {\"LOCATION\": \"JPN\", \"TIME\": 2018, \"Value\": 74.0, \"Time\": \"2018-01-01T00:00:00\", \"Country\": \"Japan\", \"Status\": \"High\"}, {\"LOCATION\": \"FRA\", \"TIME\": 2007, \"Value\": 65.5494, \"Time\": \"2007-01-01T00:00:00\", \"Country\": \"France\", \"Status\": \"Medium-High\"}, {\"LOCATION\": \"FRA\", \"TIME\": 2008, \"Value\": 68.3557, \"Time\": \"2008-01-01T00:00:00\", \"Country\": \"France\", \"Status\": \"Medium-High\"}, {\"LOCATION\": \"FRA\", \"TIME\": 2009, \"Value\": 74.2203, \"Time\": \"2009-01-01T00:00:00\", \"Country\": \"France\", \"Status\": \"Medium-High\"}, {\"LOCATION\": \"FRA\", \"TIME\": 2010, \"Value\": 76.4499, \"Time\": \"2010-01-01T00:00:00\", \"Country\": \"France\", \"Status\": \"Medium-High\"}, {\"LOCATION\": \"FRA\", \"TIME\": 2011, \"Value\": 78.1792, \"Time\": \"2011-01-01T00:00:00\", \"Country\": \"France\", \"Status\": \"Medium-High\"}, {\"LOCATION\": \"FRA\", \"TIME\": 2012, \"Value\": 81.0122, \"Time\": \"2012-01-01T00:00:00\", \"Country\": \"France\", \"Status\": \"Medium-High\"}, {\"LOCATION\": \"FRA\", \"TIME\": 2013, \"Value\": 81.5595, \"Time\": \"2013-01-01T00:00:00\", \"Country\": \"France\", \"Status\": \"Medium-High\"}, {\"LOCATION\": \"FRA\", \"TIME\": 2015, \"Value\": 81.5481, \"Time\": \"2015-01-01T00:00:00\", \"Country\": \"France\", \"Status\": \"Medium-High\"}, {\"LOCATION\": \"FRA\", \"TIME\": 2017, \"Value\": 84.124964, \"Time\": \"2017-01-01T00:00:00\", \"Country\": \"France\", \"Status\": \"Medium-High\"}, {\"LOCATION\": \"HUN\", \"TIME\": 2006, \"Value\": 48.803999999999995, \"Time\": \"2006-01-01T00:00:00\", \"Country\": \"Hungary\", \"Status\": \"Medium-High\"}, {\"LOCATION\": \"HUN\", \"TIME\": 2007, \"Value\": 52.5651, \"Time\": \"2007-01-01T00:00:00\", \"Country\": \"Hungary\", \"Status\": \"Medium-High\"}, {\"LOCATION\": \"HUN\", \"TIME\": 2008, \"Value\": 57.1866, \"Time\": \"2008-01-01T00:00:00\", \"Country\": \"Hungary\", \"Status\": \"Medium-High\"}, {\"LOCATION\": \"HUN\", \"TIME\": 2009, \"Value\": 61.3626, \"Time\": \"2009-01-01T00:00:00\", \"Country\": \"Hungary\", \"Status\": \"Medium-High\"}, {\"LOCATION\": \"HUN\", \"TIME\": 2010, \"Value\": 64.457, \"Time\": \"2010-01-01T00:00:00\", \"Country\": \"Hungary\", \"Status\": \"Medium-High\"}, {\"LOCATION\": \"HUN\", \"TIME\": 2011, \"Value\": 67.8143, \"Time\": \"2011-01-01T00:00:00\", \"Country\": \"Hungary\", \"Status\": \"Medium-High\"}, {\"LOCATION\": \"HUN\", \"TIME\": 2012, \"Value\": 69.7479, \"Time\": \"2012-01-01T00:00:00\", \"Country\": \"Hungary\", \"Status\": \"Medium-High\"}, {\"LOCATION\": \"HUN\", \"TIME\": 2013, \"Value\": 71.3968, \"Time\": \"2013-01-01T00:00:00\", \"Country\": \"Hungary\", \"Status\": \"Medium-High\"}, {\"LOCATION\": \"HUN\", \"TIME\": 2015, \"Value\": 74.9754, \"Time\": \"2015-01-01T00:00:00\", \"Country\": \"Hungary\", \"Status\": \"Medium-High\"}, {\"LOCATION\": \"HUN\", \"TIME\": 2017, \"Value\": 79.674757, \"Time\": \"2017-01-01T00:00:00\", \"Country\": \"Hungary\", \"Status\": \"Medium-High\"}, {\"LOCATION\": \"SVN\", \"TIME\": 2006, \"Value\": 65.2631, \"Time\": \"2006-01-01T00:00:00\", \"Country\": \"Slovenia\", \"Status\": \"High\"}, {\"LOCATION\": \"SVN\", \"TIME\": 2007, \"Value\": 65.9984, \"Time\": \"2007-01-01T00:00:00\", \"Country\": \"Slovenia\", \"Status\": \"High\"}, {\"LOCATION\": \"SVN\", \"TIME\": 2008, \"Value\": 65.1195, \"Time\": \"2008-01-01T00:00:00\", \"Country\": \"Slovenia\", \"Status\": \"High\"}, {\"LOCATION\": \"SVN\", \"TIME\": 2009, \"Value\": 71.2161, \"Time\": \"2009-01-01T00:00:00\", \"Country\": \"Slovenia\", \"Status\": \"High\"}, {\"LOCATION\": \"SVN\", \"TIME\": 2010, \"Value\": 70.4624, \"Time\": \"2010-01-01T00:00:00\", \"Country\": \"Slovenia\", \"Status\": \"High\"}, {\"LOCATION\": \"SVN\", \"TIME\": 2011, \"Value\": 74.4408, \"Time\": \"2011-01-01T00:00:00\", \"Country\": \"Slovenia\", \"Status\": \"High\"}, {\"LOCATION\": \"SVN\", \"TIME\": 2012, \"Value\": 76.1, \"Time\": \"2012-01-01T00:00:00\", \"Country\": \"Slovenia\", \"Status\": \"High\"}, {\"LOCATION\": \"SVN\", \"TIME\": 2013, \"Value\": 76.3561, \"Time\": \"2013-01-01T00:00:00\", \"Country\": \"Slovenia\", \"Status\": \"High\"}, {\"LOCATION\": \"SVN\", \"TIME\": 2015, \"Value\": 77.7509, \"Time\": \"2015-01-01T00:00:00\", \"Country\": \"Slovenia\", \"Status\": \"High\"}, {\"LOCATION\": \"SVN\", \"TIME\": 2017, \"Value\": 79.503036, \"Time\": \"2017-01-01T00:00:00\", \"Country\": \"Slovenia\", \"Status\": \"High\"}, {\"LOCATION\": \"AUT\", \"TIME\": 2006, \"Value\": 67.0669, \"Time\": \"2006-01-01T00:00:00\", \"Country\": \"Austria\", \"Status\": \"High\"}, {\"LOCATION\": \"AUT\", \"TIME\": 2007, \"Value\": 70.7432, \"Time\": \"2007-01-01T00:00:00\", \"Country\": \"Austria\", \"Status\": \"High\"}, {\"LOCATION\": \"AUT\", \"TIME\": 2008, \"Value\": 75.9463, \"Time\": \"2008-01-01T00:00:00\", \"Country\": \"Austria\", \"Status\": \"High\"}, {\"LOCATION\": \"AUT\", \"TIME\": 2009, \"Value\": 74.4629, \"Time\": \"2009-01-01T00:00:00\", \"Country\": \"Austria\", \"Status\": \"High\"}, {\"LOCATION\": \"AUT\", \"TIME\": 2010, \"Value\": 76.1859, \"Time\": \"2010-01-01T00:00:00\", \"Country\": \"Austria\", \"Status\": \"High\"}, {\"LOCATION\": \"AUT\", \"TIME\": 2011, \"Value\": 78.0696, \"Time\": \"2011-01-01T00:00:00\", \"Country\": \"Austria\", \"Status\": \"High\"}, {\"LOCATION\": \"AUT\", \"TIME\": 2012, \"Value\": 81.3037, \"Time\": \"2012-01-01T00:00:00\", \"Country\": \"Austria\", \"Status\": \"High\"}, {\"LOCATION\": \"AUT\", \"TIME\": 2013, \"Value\": 80.8504, \"Time\": \"2013-01-01T00:00:00\", \"Country\": \"Austria\", \"Status\": \"High\"}, {\"LOCATION\": \"AUT\", \"TIME\": 2015, \"Value\": 82.1364, \"Time\": \"2015-01-01T00:00:00\", \"Country\": \"Austria\", \"Status\": \"High\"}, {\"LOCATION\": \"AUT\", \"TIME\": 2017, \"Value\": 85.373276, \"Time\": \"2017-01-01T00:00:00\", \"Country\": \"Austria\", \"Status\": \"High\"}, {\"LOCATION\": \"POL\", \"TIME\": 2006, \"Value\": 45.4124, \"Time\": \"2006-01-01T00:00:00\", \"Country\": \"Poland\", \"Status\": \"Medium-High\"}, {\"LOCATION\": \"POL\", \"TIME\": 2007, \"Value\": 53.6893, \"Time\": \"2007-01-01T00:00:00\", \"Country\": \"Poland\", \"Status\": \"Medium-High\"}, {\"LOCATION\": \"POL\", \"TIME\": 2008, \"Value\": 58.8728, \"Time\": \"2008-01-01T00:00:00\", \"Country\": \"Poland\", \"Status\": \"Medium-High\"}, {\"LOCATION\": \"POL\", \"TIME\": 2009, \"Value\": 66.0852, \"Time\": \"2009-01-01T00:00:00\", \"Country\": \"Poland\", \"Status\": \"Medium-High\"}, {\"LOCATION\": \"POL\", \"TIME\": 2010, \"Value\": 69.0212, \"Time\": \"2010-01-01T00:00:00\", \"Country\": \"Poland\", \"Status\": \"Medium-High\"}, {\"LOCATION\": \"POL\", \"TIME\": 2011, \"Value\": 71.3147, \"Time\": \"2011-01-01T00:00:00\", \"Country\": \"Poland\", \"Status\": \"Medium-High\"}, {\"LOCATION\": \"POL\", \"TIME\": 2012, \"Value\": 73.3677, \"Time\": \"2012-01-01T00:00:00\", \"Country\": \"Poland\", \"Status\": \"Medium-High\"}, {\"LOCATION\": \"POL\", \"TIME\": 2013, \"Value\": 74.7447, \"Time\": \"2013-01-01T00:00:00\", \"Country\": \"Poland\", \"Status\": \"Medium-High\"}, {\"LOCATION\": \"POL\", \"TIME\": 2015, \"Value\": 77.9378, \"Time\": \"2015-01-01T00:00:00\", \"Country\": \"Poland\", \"Status\": \"Medium-High\"}, {\"LOCATION\": \"POL\", \"TIME\": 2017, \"Value\": 81.77694699999999, \"Time\": \"2017-01-01T00:00:00\", \"Country\": \"Poland\", \"Status\": \"Medium-High\"}, {\"LOCATION\": \"ESP\", \"TIME\": 2006, \"Value\": 55.8676, \"Time\": \"2006-01-01T00:00:00\", \"Country\": \"Spain\", \"Status\": \"Medium-High\"}, {\"LOCATION\": \"ESP\", \"TIME\": 2007, \"Value\": 58.9493, \"Time\": \"2007-01-01T00:00:00\", \"Country\": \"Spain\", \"Status\": \"Medium-High\"}, {\"LOCATION\": \"ESP\", \"TIME\": 2008, \"Value\": 62.1818, \"Time\": \"2008-01-01T00:00:00\", \"Country\": \"Spain\", \"Status\": \"Medium-High\"}, {\"LOCATION\": \"ESP\", \"TIME\": 2009, \"Value\": 65.1014, \"Time\": \"2009-01-01T00:00:00\", \"Country\": \"Spain\", \"Status\": \"Medium-High\"}, {\"LOCATION\": \"ESP\", \"TIME\": 2010, \"Value\": 67.4256, \"Time\": \"2010-01-01T00:00:00\", \"Country\": \"Spain\", \"Status\": \"Medium-High\"}, {\"LOCATION\": \"ESP\", \"TIME\": 2011, \"Value\": 70.328, \"Time\": \"2011-01-01T00:00:00\", \"Country\": \"Spain\", \"Status\": \"Medium-High\"}, {\"LOCATION\": \"ESP\", \"TIME\": 2012, \"Value\": 72.5888, \"Time\": \"2012-01-01T00:00:00\", \"Country\": \"Spain\", \"Status\": \"Medium-High\"}, {\"LOCATION\": \"ESP\", \"TIME\": 2013, \"Value\": 73.3335, \"Time\": \"2013-01-01T00:00:00\", \"Country\": \"Spain\", \"Status\": \"Medium-High\"}, {\"LOCATION\": \"ESP\", \"TIME\": 2015, \"Value\": 75.8652, \"Time\": \"2015-01-01T00:00:00\", \"Country\": \"Spain\", \"Status\": \"Medium-High\"}, {\"LOCATION\": \"ESP\", \"TIME\": 2017, \"Value\": 78.385013, \"Time\": \"2017-01-01T00:00:00\", \"Country\": \"Spain\", \"Status\": \"Medium-High\"}, {\"LOCATION\": \"TUR\", \"TIME\": 2007, \"Value\": 27.3081, \"Time\": \"2007-01-01T00:00:00\", \"Country\": \"Turkey\", \"Status\": \"Medium-High\"}, {\"LOCATION\": \"TUR\", \"TIME\": 2008, \"Value\": 33.3911, \"Time\": \"2008-01-01T00:00:00\", \"Country\": \"Turkey\", \"Status\": \"Medium-High\"}, {\"LOCATION\": \"TUR\", \"TIME\": 2009, \"Value\": 37.4048, \"Time\": \"2009-01-01T00:00:00\", \"Country\": \"Turkey\", \"Status\": \"Medium-High\"}, {\"LOCATION\": \"TUR\", \"TIME\": 2010, \"Value\": 44.2265, \"Time\": \"2010-01-01T00:00:00\", \"Country\": \"Turkey\", \"Status\": \"Medium-High\"}, {\"LOCATION\": \"TUR\", \"TIME\": 2012, \"Value\": 50.2477, \"Time\": \"2012-01-01T00:00:00\", \"Country\": \"Turkey\", \"Status\": \"Medium-High\"}, {\"LOCATION\": \"TUR\", \"TIME\": 2013, \"Value\": 49.8193, \"Time\": \"2013-01-01T00:00:00\", \"Country\": \"Turkey\", \"Status\": \"Medium-High\"}, {\"LOCATION\": \"TUR\", \"TIME\": 2015, \"Value\": 50.5579, \"Time\": \"2015-01-01T00:00:00\", \"Country\": \"Turkey\", \"Status\": \"Medium-High\"}, {\"LOCATION\": \"TUR\", \"TIME\": 2017, \"Value\": 49.99992, \"Time\": \"2017-01-01T00:00:00\", \"Country\": \"Turkey\", \"Status\": \"Medium-High\"}, {\"LOCATION\": \"CHL\", \"TIME\": 2006, \"Value\": 34.5, \"Time\": \"2006-01-01T00:00:00\", \"Country\": \"Chile\", \"Status\": \"Medium-High\"}, {\"LOCATION\": \"CHL\", \"TIME\": 2009, \"Value\": 43.9, \"Time\": \"2009-01-01T00:00:00\", \"Country\": \"Chile\", \"Status\": \"Medium-High\"}, {\"LOCATION\": \"CHL\", \"TIME\": 2012, \"Value\": 68.27844113, \"Time\": \"2012-01-01T00:00:00\", \"Country\": \"Chile\", \"Status\": \"Medium-High\"}, {\"LOCATION\": \"CHL\", \"TIME\": 2013, \"Value\": 56.44182681, \"Time\": \"2013-01-01T00:00:00\", \"Country\": \"Chile\", \"Status\": \"Medium-High\"}, {\"LOCATION\": \"CHL\", \"TIME\": 2014, \"Value\": 60.29196034, \"Time\": \"2014-01-01T00:00:00\", \"Country\": \"Chile\", \"Status\": \"Medium-High\"}, {\"LOCATION\": \"CHL\", \"TIME\": 2015, \"Value\": 56.396569299999996, \"Time\": \"2015-01-01T00:00:00\", \"Country\": \"Chile\", \"Status\": \"Medium-High\"}, {\"LOCATION\": \"CHL\", \"TIME\": 2016, \"Value\": 63.62938219, \"Time\": \"2016-01-01T00:00:00\", \"Country\": \"Chile\", \"Status\": \"Medium-High\"}, {\"LOCATION\": \"CHL\", \"TIME\": 2017, \"Value\": 60.15454498, \"Time\": \"2017-01-01T00:00:00\", \"Country\": \"Chile\", \"Status\": \"Medium-High\"}, {\"LOCATION\": \"GRC\", \"TIME\": 2006, \"Value\": 36.7012, \"Time\": \"2006-01-01T00:00:00\", \"Country\": \"Greece\", \"Status\": \"Medium-High\"}, {\"LOCATION\": \"GRC\", \"TIME\": 2007, \"Value\": 40.1674, \"Time\": \"2007-01-01T00:00:00\", \"Country\": \"Greece\", \"Status\": \"Medium-High\"}, {\"LOCATION\": \"GRC\", \"TIME\": 2008, \"Value\": 44.0037, \"Time\": \"2008-01-01T00:00:00\", \"Country\": \"Greece\", \"Status\": \"Medium-High\"}, {\"LOCATION\": \"GRC\", \"TIME\": 2009, \"Value\": 47.3287, \"Time\": \"2009-01-01T00:00:00\", \"Country\": \"Greece\", \"Status\": \"Medium-High\"}, {\"LOCATION\": \"GRC\", \"TIME\": 2010, \"Value\": 53.3865, \"Time\": \"2010-01-01T00:00:00\", \"Country\": \"Greece\", \"Status\": \"Medium-High\"}, {\"LOCATION\": \"GRC\", \"TIME\": 2011, \"Value\": 57.2357, \"Time\": \"2011-01-01T00:00:00\", \"Country\": \"Greece\", \"Status\": \"Medium-High\"}, {\"LOCATION\": \"GRC\", \"TIME\": 2012, \"Value\": 56.7914, \"Time\": \"2012-01-01T00:00:00\", \"Country\": \"Greece\", \"Status\": \"Medium-High\"}, {\"LOCATION\": \"GRC\", \"TIME\": 2013, \"Value\": 59.5484, \"Time\": \"2013-01-01T00:00:00\", \"Country\": \"Greece\", \"Status\": \"Medium-High\"}, {\"LOCATION\": \"GRC\", \"TIME\": 2015, \"Value\": 68.5681, \"Time\": \"2015-01-01T00:00:00\", \"Country\": \"Greece\", \"Status\": \"Medium-High\"}, {\"LOCATION\": \"GRC\", \"TIME\": 2017, \"Value\": 70.50049, \"Time\": \"2017-01-01T00:00:00\", \"Country\": \"Greece\", \"Status\": \"Medium-High\"}, {\"LOCATION\": \"IRL\", \"TIME\": 2006, \"Value\": 58.5742, \"Time\": \"2006-01-01T00:00:00\", \"Country\": \"Ireland\", \"Status\": \"High\"}, {\"LOCATION\": \"IRL\", \"TIME\": 2007, \"Value\": 65.4871, \"Time\": \"2007-01-01T00:00:00\", \"Country\": \"Ireland\", \"Status\": \"High\"}, {\"LOCATION\": \"IRL\", \"TIME\": 2008, \"Value\": 70.3481, \"Time\": \"2008-01-01T00:00:00\", \"Country\": \"Ireland\", \"Status\": \"High\"}, {\"LOCATION\": \"IRL\", \"TIME\": 2009, \"Value\": 72.8382, \"Time\": \"2009-01-01T00:00:00\", \"Country\": \"Ireland\", \"Status\": \"High\"}, {\"LOCATION\": \"IRL\", \"TIME\": 2010, \"Value\": 76.464, \"Time\": \"2010-01-01T00:00:00\", \"Country\": \"Ireland\", \"Status\": \"High\"}, {\"LOCATION\": \"IRL\", \"TIME\": 2011, \"Value\": 80.5599, \"Time\": \"2011-01-01T00:00:00\", \"Country\": \"Ireland\", \"Status\": \"High\"}, {\"LOCATION\": \"IRL\", \"TIME\": 2012, \"Value\": 82.7459, \"Time\": \"2012-01-01T00:00:00\", \"Country\": \"Ireland\", \"Status\": \"High\"}, {\"LOCATION\": \"IRL\", \"TIME\": 2013, \"Value\": 83.5992, \"Time\": \"2013-01-01T00:00:00\", \"Country\": \"Ireland\", \"Status\": \"High\"}, {\"LOCATION\": \"IRL\", \"TIME\": 2015, \"Value\": 83.5441, \"Time\": \"2015-01-01T00:00:00\", \"Country\": \"Ireland\", \"Status\": \"High\"}, {\"LOCATION\": \"IRL\", \"TIME\": 2017, \"Value\": 83.75783, \"Time\": \"2017-01-01T00:00:00\", \"Country\": \"Ireland\", \"Status\": \"High\"}, {\"LOCATION\": \"AUS\", \"TIME\": 2005, \"Value\": 70.0, \"Time\": \"2005-01-01T00:00:00\", \"Country\": \"Australia\", \"Status\": \"High\"}, {\"LOCATION\": \"AUS\", \"TIME\": 2006, \"Value\": 73.0, \"Time\": \"2006-01-01T00:00:00\", \"Country\": \"Australia\", \"Status\": \"High\"}, {\"LOCATION\": \"AUS\", \"TIME\": 2007, \"Value\": 75.0, \"Time\": \"2007-01-01T00:00:00\", \"Country\": \"Australia\", \"Status\": \"High\"}, {\"LOCATION\": \"AUS\", \"TIME\": 2008, \"Value\": 78.0, \"Time\": \"2008-01-01T00:00:00\", \"Country\": \"Australia\", \"Status\": \"High\"}, {\"LOCATION\": \"AUS\", \"TIME\": 2010, \"Value\": 82.57, \"Time\": \"2010-01-01T00:00:00\", \"Country\": \"Australia\", \"Status\": \"High\"}, {\"LOCATION\": \"AUS\", \"TIME\": 2014, \"Value\": 82.96, \"Time\": \"2014-01-01T00:00:00\", \"Country\": \"Australia\", \"Status\": \"High\"}, {\"LOCATION\": \"AUS\", \"TIME\": 2016, \"Value\": 82.44, \"Time\": \"2016-01-01T00:00:00\", \"Country\": \"Australia\", \"Status\": \"High\"}, {\"LOCATION\": \"CAN\", \"TIME\": 2005, \"Value\": 72.0, \"Time\": \"2005-01-01T00:00:00\", \"Country\": \"Canada\", \"Status\": \"High\"}, {\"LOCATION\": \"CAN\", \"TIME\": 2006, \"Value\": 75.4, \"Time\": \"2006-01-01T00:00:00\", \"Country\": \"Canada\", \"Status\": \"High\"}, {\"LOCATION\": \"CAN\", \"TIME\": 2007, \"Value\": 78.4, \"Time\": \"2007-01-01T00:00:00\", \"Country\": \"Canada\", \"Status\": \"High\"}, {\"LOCATION\": \"CAN\", \"TIME\": 2008, \"Value\": 79.4, \"Time\": \"2008-01-01T00:00:00\", \"Country\": \"Canada\", \"Status\": \"High\"}, {\"LOCATION\": \"CAN\", \"TIME\": 2009, \"Value\": 81.7, \"Time\": \"2009-01-01T00:00:00\", \"Country\": \"Canada\", \"Status\": \"High\"}, {\"LOCATION\": \"CAN\", \"TIME\": 2013, \"Value\": 85.6, \"Time\": \"2013-01-01T00:00:00\", \"Country\": \"Canada\", \"Status\": \"High\"}, {\"LOCATION\": \"FIN\", \"TIME\": 2006, \"Value\": 71.1027, \"Time\": \"2006-01-01T00:00:00\", \"Country\": \"Finland\", \"Status\": \"High\"}, {\"LOCATION\": \"FIN\", \"TIME\": 2007, \"Value\": 73.9631, \"Time\": \"2007-01-01T00:00:00\", \"Country\": \"Finland\", \"Status\": \"High\"}, {\"LOCATION\": \"FIN\", \"TIME\": 2008, \"Value\": 75.7674, \"Time\": \"2008-01-01T00:00:00\", \"Country\": \"Finland\", \"Status\": \"High\"}, {\"LOCATION\": \"FIN\", \"TIME\": 2009, \"Value\": 80.1388, \"Time\": \"2009-01-01T00:00:00\", \"Country\": \"Finland\", \"Status\": \"High\"}, {\"LOCATION\": \"FIN\", \"TIME\": 2010, \"Value\": 81.9856, \"Time\": \"2010-01-01T00:00:00\", \"Country\": \"Finland\", \"Status\": \"High\"}, {\"LOCATION\": \"FIN\", \"TIME\": 2011, \"Value\": 85.1187, \"Time\": \"2011-01-01T00:00:00\", \"Country\": \"Finland\", \"Status\": \"High\"}, {\"LOCATION\": \"FIN\", \"TIME\": 2012, \"Value\": 87.5615, \"Time\": \"2012-01-01T00:00:00\", \"Country\": \"Finland\", \"Status\": \"High\"}, {\"LOCATION\": \"FIN\", \"TIME\": 2013, \"Value\": 88.7494, \"Time\": \"2013-01-01T00:00:00\", \"Country\": \"Finland\", \"Status\": \"High\"}, {\"LOCATION\": \"FIN\", \"TIME\": 2015, \"Value\": 89.3321, \"Time\": \"2015-01-01T00:00:00\", \"Country\": \"Finland\", \"Status\": \"High\"}, {\"LOCATION\": \"FIN\", \"TIME\": 2017, \"Value\": 93.49728, \"Time\": \"2017-01-01T00:00:00\", \"Country\": \"Finland\", \"Status\": \"High\"}, {\"LOCATION\": \"MEX\", \"TIME\": 2005, \"Value\": 18.56, \"Time\": \"2005-01-01T00:00:00\", \"Country\": \"Mexico\", \"Status\": \"Medium\"}, {\"LOCATION\": \"MEX\", \"TIME\": 2006, \"Value\": 20.62, \"Time\": \"2006-01-01T00:00:00\", \"Country\": \"Mexico\", \"Status\": \"Medium\"}, {\"LOCATION\": \"MEX\", \"TIME\": 2007, \"Value\": 22.12, \"Time\": \"2007-01-01T00:00:00\", \"Country\": \"Mexico\", \"Status\": \"Medium\"}, {\"LOCATION\": \"MEX\", \"TIME\": 2008, \"Value\": 25.65, \"Time\": \"2008-01-01T00:00:00\", \"Country\": \"Mexico\", \"Status\": \"Medium\"}, {\"LOCATION\": \"MEX\", \"TIME\": 2009, \"Value\": 26.76, \"Time\": \"2009-01-01T00:00:00\", \"Country\": \"Mexico\", \"Status\": \"Medium\"}, {\"LOCATION\": \"MEX\", \"TIME\": 2010, \"Value\": 29.79, \"Time\": \"2010-01-01T00:00:00\", \"Country\": \"Mexico\", \"Status\": \"Medium\"}, {\"LOCATION\": \"MEX\", \"TIME\": 2011, \"Value\": 30.04, \"Time\": \"2011-01-01T00:00:00\", \"Country\": \"Mexico\", \"Status\": \"Medium\"}, {\"LOCATION\": \"MEX\", \"TIME\": 2012, \"Value\": 32.19, \"Time\": \"2012-01-01T00:00:00\", \"Country\": \"Mexico\", \"Status\": \"Medium\"}, {\"LOCATION\": \"MEX\", \"TIME\": 2013, \"Value\": 35.79285774, \"Time\": \"2013-01-01T00:00:00\", \"Country\": \"Mexico\", \"Status\": \"Medium\"}, {\"LOCATION\": \"MEX\", \"TIME\": 2014, \"Value\": 38.29201478, \"Time\": \"2014-01-01T00:00:00\", \"Country\": \"Mexico\", \"Status\": \"Medium\"}, {\"LOCATION\": \"MEX\", \"TIME\": 2015, \"Value\": 44.91111992, \"Time\": \"2015-01-01T00:00:00\", \"Country\": \"Mexico\", \"Status\": \"Medium\"}, {\"LOCATION\": \"MEX\", \"TIME\": 2016, \"Value\": 45.59302965, \"Time\": \"2016-01-01T00:00:00\", \"Country\": \"Mexico\", \"Status\": \"Medium\"}, {\"LOCATION\": \"MEX\", \"TIME\": 2017, \"Value\": 45.41874514, \"Time\": \"2017-01-01T00:00:00\", \"Country\": \"Mexico\", \"Status\": \"Medium\"}, {\"LOCATION\": \"MEX\", \"TIME\": 2018, \"Value\": 44.88286427, \"Time\": \"2018-01-01T00:00:00\", \"Country\": \"Mexico\", \"Status\": \"Medium\"}, {\"LOCATION\": \"MEX\", \"TIME\": 2019, \"Value\": 44.34457378, \"Time\": \"2019-01-01T00:00:00\", \"Country\": \"Mexico\", \"Status\": \"Medium\"}, {\"LOCATION\": \"NOR\", \"TIME\": 2006, \"Value\": 75.3507, \"Time\": \"2006-01-01T00:00:00\", \"Country\": \"Norway\", \"Status\": \"High\"}, {\"LOCATION\": \"NOR\", \"TIME\": 2007, \"Value\": 82.4171, \"Time\": \"2007-01-01T00:00:00\", \"Country\": \"Norway\", \"Status\": \"High\"}, {\"LOCATION\": \"NOR\", \"TIME\": 2008, \"Value\": 85.8021, \"Time\": \"2008-01-01T00:00:00\", \"Country\": \"Norway\", \"Status\": \"High\"}, {\"LOCATION\": \"NOR\", \"TIME\": 2009, \"Value\": 87.5946, \"Time\": \"2009-01-01T00:00:00\", \"Country\": \"Norway\", \"Status\": \"High\"}, {\"LOCATION\": \"NOR\", \"TIME\": 2010, \"Value\": 90.9441, \"Time\": \"2010-01-01T00:00:00\", \"Country\": \"Norway\", \"Status\": \"High\"}, {\"LOCATION\": \"NOR\", \"TIME\": 2011, \"Value\": 90.9743, \"Time\": \"2011-01-01T00:00:00\", \"Country\": \"Norway\", \"Status\": \"High\"}, {\"LOCATION\": \"NOR\", \"TIME\": 2012, \"Value\": 91.8971, \"Time\": \"2012-01-01T00:00:00\", \"Country\": \"Norway\", \"Status\": \"High\"}, {\"LOCATION\": \"NOR\", \"TIME\": 2013, \"Value\": 93.2816, \"Time\": \"2013-01-01T00:00:00\", \"Country\": \"Norway\", \"Status\": \"High\"}, {\"LOCATION\": \"NOR\", \"TIME\": 2015, \"Value\": 96.4735, \"Time\": \"2015-01-01T00:00:00\", \"Country\": \"Norway\", \"Status\": \"High\"}, {\"LOCATION\": \"NOR\", \"TIME\": 2017, \"Value\": 94.905746, \"Time\": \"2017-01-01T00:00:00\", \"Country\": \"Norway\", \"Status\": \"High\"}, {\"LOCATION\": \"SVK\", \"TIME\": 2006, \"Value\": 50.0949, \"Time\": \"2006-01-01T00:00:00\", \"Country\": \"Slovakia\", \"Status\": \"Medium-High\"}, {\"LOCATION\": \"SVK\", \"TIME\": 2007, \"Value\": 55.4297, \"Time\": \"2007-01-01T00:00:00\", \"Country\": \"Slovakia\", \"Status\": \"Medium-High\"}, {\"LOCATION\": \"SVK\", \"TIME\": 2008, \"Value\": 63.2266, \"Time\": \"2008-01-01T00:00:00\", \"Country\": \"Slovakia\", \"Status\": \"Medium-High\"}, {\"LOCATION\": \"SVK\", \"TIME\": 2009, \"Value\": 64.0456, \"Time\": \"2009-01-01T00:00:00\", \"Country\": \"Slovakia\", \"Status\": \"Medium-High\"}, {\"LOCATION\": \"SVK\", \"TIME\": 2010, \"Value\": 72.1756, \"Time\": \"2010-01-01T00:00:00\", \"Country\": \"Slovakia\", \"Status\": \"Medium-High\"}, {\"LOCATION\": \"SVK\", \"TIME\": 2011, \"Value\": 75.4321, \"Time\": \"2011-01-01T00:00:00\", \"Country\": \"Slovakia\", \"Status\": \"Medium-High\"}, {\"LOCATION\": \"SVK\", \"TIME\": 2012, \"Value\": 78.8125, \"Time\": \"2012-01-01T00:00:00\", \"Country\": \"Slovakia\", \"Status\": \"Medium-High\"}, {\"LOCATION\": \"SVK\", \"TIME\": 2013, \"Value\": 80.0754, \"Time\": \"2013-01-01T00:00:00\", \"Country\": \"Slovakia\", \"Status\": \"Medium-High\"}, {\"LOCATION\": \"SVK\", \"TIME\": 2015, \"Value\": 80.4795, \"Time\": \"2015-01-01T00:00:00\", \"Country\": \"Slovakia\", \"Status\": \"Medium-High\"}, {\"LOCATION\": \"SVK\", \"TIME\": 2017, \"Value\": 81.79907, \"Time\": \"2017-01-01T00:00:00\", \"Country\": \"Slovakia\", \"Status\": \"Medium-High\"}, {\"LOCATION\": \"CHE\", \"TIME\": 2005, \"Value\": 76.5, \"Time\": \"2005-01-01T00:00:00\", \"Country\": \"Switzerland\", \"Status\": \"High\"}, {\"LOCATION\": \"CHE\", \"TIME\": 2006, \"Value\": 77.4, \"Time\": \"2006-01-01T00:00:00\", \"Country\": \"Switzerland\", \"Status\": \"High\"}, {\"LOCATION\": \"CHE\", \"TIME\": 2007, \"Value\": 79.2, \"Time\": \"2007-01-01T00:00:00\", \"Country\": \"Switzerland\", \"Status\": \"High\"}, {\"LOCATION\": \"CHE\", \"TIME\": 2008, \"Value\": 81.4, \"Time\": \"2008-01-01T00:00:00\", \"Country\": \"Switzerland\", \"Status\": \"High\"}, {\"LOCATION\": \"CHE\", \"TIME\": 2009, \"Value\": 82.5, \"Time\": \"2009-01-01T00:00:00\", \"Country\": \"Switzerland\", \"Status\": \"High\"}, {\"LOCATION\": \"CHE\", \"TIME\": 2010, \"Value\": 83.6, \"Time\": \"2010-01-01T00:00:00\", \"Country\": \"Switzerland\", \"Status\": \"High\"}, {\"LOCATION\": \"CHE\", \"TIME\": 2011, \"Value\": 84.89, \"Time\": \"2011-01-01T00:00:00\", \"Country\": \"Switzerland\", \"Status\": \"High\"}, {\"LOCATION\": \"CHE\", \"TIME\": 2012, \"Value\": 86.6, \"Time\": \"2012-01-01T00:00:00\", \"Country\": \"Switzerland\", \"Status\": \"High\"}, {\"LOCATION\": \"CHE\", \"TIME\": 2013, \"Value\": 88.6, \"Time\": \"2013-01-01T00:00:00\", \"Country\": \"Switzerland\", \"Status\": \"High\"}, {\"LOCATION\": \"CHE\", \"TIME\": 2014, \"Value\": 90.25, \"Time\": \"2014-01-01T00:00:00\", \"Country\": \"Switzerland\", \"Status\": \"High\"}, {\"LOCATION\": \"BRA\", \"TIME\": 2008, \"Value\": 24.6, \"Time\": \"2008-01-01T00:00:00\", \"Country\": \"Brazil\", \"Status\": \"Medium\"}, {\"LOCATION\": \"BRA\", \"TIME\": 2009, \"Value\": 32.3, \"Time\": \"2009-01-01T00:00:00\", \"Country\": \"Brazil\", \"Status\": \"Medium\"}, {\"LOCATION\": \"BRA\", \"TIME\": 2010, \"Value\": 34.9, \"Time\": \"2010-01-01T00:00:00\", \"Country\": \"Brazil\", \"Status\": \"Medium\"}, {\"LOCATION\": \"BRA\", \"TIME\": 2011, \"Value\": 42.6, \"Time\": \"2011-01-01T00:00:00\", \"Country\": \"Brazil\", \"Status\": \"Medium\"}, {\"LOCATION\": \"BRA\", \"TIME\": 2012, \"Value\": 45.8, \"Time\": \"2012-01-01T00:00:00\", \"Country\": \"Brazil\", \"Status\": \"Medium\"}, {\"LOCATION\": \"BRA\", \"TIME\": 2013, \"Value\": 48.7, \"Time\": \"2013-01-01T00:00:00\", \"Country\": \"Brazil\", \"Status\": \"Medium\"}, {\"LOCATION\": \"BRA\", \"TIME\": 2014, \"Value\": 50.5, \"Time\": \"2014-01-01T00:00:00\", \"Country\": \"Brazil\", \"Status\": \"Medium\"}, {\"LOCATION\": \"BRA\", \"TIME\": 2015, \"Value\": 47.9, \"Time\": \"2015-01-01T00:00:00\", \"Country\": \"Brazil\", \"Status\": \"Medium\"}, {\"LOCATION\": \"BRA\", \"TIME\": 2016, \"Value\": 46.1, \"Time\": \"2016-01-01T00:00:00\", \"Country\": \"Brazil\", \"Status\": \"Medium\"}, {\"LOCATION\": \"BRA\", \"TIME\": 2017, \"Value\": 46.3, \"Time\": \"2017-01-01T00:00:00\", \"Country\": \"Brazil\", \"Status\": \"Medium\"}, {\"LOCATION\": \"BRA\", \"TIME\": 2018, \"Value\": 41.75858235, \"Time\": \"2018-01-01T00:00:00\", \"Country\": \"Brazil\", \"Status\": \"Medium\"}, {\"LOCATION\": \"BRA\", \"TIME\": 2019, \"Value\": 39.4, \"Time\": \"2019-01-01T00:00:00\", \"Country\": \"Brazil\", \"Status\": \"Medium\"}, {\"LOCATION\": \"ISR\", \"TIME\": 2005, \"Value\": 62.4, \"Time\": \"2005-01-01T00:00:00\", \"Country\": \"Israel\", \"Status\": \"High\"}, {\"LOCATION\": \"ISR\", \"TIME\": 2006, \"Value\": 65.8, \"Time\": \"2006-01-01T00:00:00\", \"Country\": \"Israel\", \"Status\": \"High\"}, {\"LOCATION\": \"ISR\", \"TIME\": 2007, \"Value\": 68.9, \"Time\": \"2007-01-01T00:00:00\", \"Country\": \"Israel\", \"Status\": \"High\"}, {\"LOCATION\": \"ISR\", \"TIME\": 2008, \"Value\": 71.0, \"Time\": \"2008-01-01T00:00:00\", \"Country\": \"Israel\", \"Status\": \"High\"}, {\"LOCATION\": \"ISR\", \"TIME\": 2009, \"Value\": 74.4, \"Time\": \"2009-01-01T00:00:00\", \"Country\": \"Israel\", \"Status\": \"High\"}, {\"LOCATION\": \"ISR\", \"TIME\": 2010, \"Value\": 76.7, \"Time\": \"2010-01-01T00:00:00\", \"Country\": \"Israel\", \"Status\": \"High\"}, {\"LOCATION\": \"ISR\", \"TIME\": 2011, \"Value\": 78.2, \"Time\": \"2011-01-01T00:00:00\", \"Country\": \"Israel\", \"Status\": \"High\"}, {\"LOCATION\": \"ISR\", \"TIME\": 2012, \"Value\": 80.38, \"Time\": \"2012-01-01T00:00:00\", \"Country\": \"Israel\", \"Status\": \"High\"}, {\"LOCATION\": \"ISR\", \"TIME\": 2013, \"Value\": 80.72, \"Time\": \"2013-01-01T00:00:00\", \"Country\": \"Israel\", \"Status\": \"High\"}, {\"LOCATION\": \"ISR\", \"TIME\": 2014, \"Value\": 81.25, \"Time\": \"2014-01-01T00:00:00\", \"Country\": \"Israel\", \"Status\": \"High\"}, {\"LOCATION\": \"ISR\", \"TIME\": 2015, \"Value\": 80.3, \"Time\": \"2015-01-01T00:00:00\", \"Country\": \"Israel\", \"Status\": \"High\"}, {\"LOCATION\": \"ISR\", \"TIME\": 2016, \"Value\": 78.08, \"Time\": \"2016-01-01T00:00:00\", \"Country\": \"Israel\", \"Status\": \"High\"}, {\"LOCATION\": \"ISR\", \"TIME\": 2017, \"Value\": 78.02, \"Time\": \"2017-01-01T00:00:00\", \"Country\": \"Israel\", \"Status\": \"High\"}, {\"LOCATION\": \"ITA\", \"TIME\": 2006, \"Value\": 51.5822, \"Time\": \"2006-01-01T00:00:00\", \"Country\": \"Italy\", \"Status\": \"Medium-High\"}, {\"LOCATION\": \"ITA\", \"TIME\": 2007, \"Value\": 53.3796, \"Time\": \"2007-01-01T00:00:00\", \"Country\": \"Italy\", \"Status\": \"Medium-High\"}, {\"LOCATION\": \"ITA\", \"TIME\": 2008, \"Value\": 55.9745, \"Time\": \"2008-01-01T00:00:00\", \"Country\": \"Italy\", \"Status\": \"Medium-High\"}, {\"LOCATION\": \"ITA\", \"TIME\": 2009, \"Value\": 61.2675, \"Time\": \"2009-01-01T00:00:00\", \"Country\": \"Italy\", \"Status\": \"Medium-High\"}, {\"LOCATION\": \"ITA\", \"TIME\": 2010, \"Value\": 64.8464, \"Time\": \"2010-01-01T00:00:00\", \"Country\": \"Italy\", \"Status\": \"Medium-High\"}, {\"LOCATION\": \"ITA\", \"TIME\": 2011, \"Value\": 66.1957, \"Time\": \"2011-01-01T00:00:00\", \"Country\": \"Italy\", \"Status\": \"Medium-High\"}, {\"LOCATION\": \"ITA\", \"TIME\": 2012, \"Value\": 67.0906, \"Time\": \"2012-01-01T00:00:00\", \"Country\": \"Italy\", \"Status\": \"Medium-High\"}, {\"LOCATION\": \"ITA\", \"TIME\": 2013, \"Value\": 71.1443, \"Time\": \"2013-01-01T00:00:00\", \"Country\": \"Italy\", \"Status\": \"Medium-High\"}, {\"LOCATION\": \"ITA\", \"TIME\": 2015, \"Value\": 72.5436, \"Time\": \"2015-01-01T00:00:00\", \"Country\": \"Italy\", \"Status\": \"Medium-High\"}, {\"LOCATION\": \"ITA\", \"TIME\": 2017, \"Value\": 72.50204699999999, \"Time\": \"2017-01-01T00:00:00\", \"Country\": \"Italy\", \"Status\": \"Medium-High\"}, {\"LOCATION\": \"LUX\", \"TIME\": 2006, \"Value\": 77.2517, \"Time\": \"2006-01-01T00:00:00\", \"Country\": \"Luxembourg\", \"Status\": \"High\"}, {\"LOCATION\": \"LUX\", \"TIME\": 2007, \"Value\": 79.9669, \"Time\": \"2007-01-01T00:00:00\", \"Country\": \"Luxembourg\", \"Status\": \"High\"}, {\"LOCATION\": \"LUX\", \"TIME\": 2008, \"Value\": 82.8419, \"Time\": \"2008-01-01T00:00:00\", \"Country\": \"Luxembourg\", \"Status\": \"High\"}, {\"LOCATION\": \"LUX\", \"TIME\": 2009, \"Value\": 87.9317, \"Time\": \"2009-01-01T00:00:00\", \"Country\": \"Luxembourg\", \"Status\": \"High\"}, {\"LOCATION\": \"LUX\", \"TIME\": 2010, \"Value\": 90.2148, \"Time\": \"2010-01-01T00:00:00\", \"Country\": \"Luxembourg\", \"Status\": \"High\"}, {\"LOCATION\": \"LUX\", \"TIME\": 2011, \"Value\": 91.7325, \"Time\": \"2011-01-01T00:00:00\", \"Country\": \"Luxembourg\", \"Status\": \"High\"}, {\"LOCATION\": \"LUX\", \"TIME\": 2012, \"Value\": 92.1312, \"Time\": \"2012-01-01T00:00:00\", \"Country\": \"Luxembourg\", \"Status\": \"High\"}, {\"LOCATION\": \"LUX\", \"TIME\": 2013, \"Value\": 94.2733, \"Time\": \"2013-01-01T00:00:00\", \"Country\": \"Luxembourg\", \"Status\": \"High\"}, {\"LOCATION\": \"LUX\", \"TIME\": 2015, \"Value\": 95.3357, \"Time\": \"2015-01-01T00:00:00\", \"Country\": \"Luxembourg\", \"Status\": \"High\"}, {\"LOCATION\": \"LUX\", \"TIME\": 2017, \"Value\": 95.44832, \"Time\": \"2017-01-01T00:00:00\", \"Country\": \"Luxembourg\", \"Status\": \"High\"}, {\"LOCATION\": \"PRT\", \"TIME\": 2006, \"Value\": 45.5876, \"Time\": \"2006-01-01T00:00:00\", \"Country\": \"Portugal\", \"Status\": \"Medium-High\"}, {\"LOCATION\": \"PRT\", \"TIME\": 2007, \"Value\": 48.3165, \"Time\": \"2007-01-01T00:00:00\", \"Country\": \"Portugal\", \"Status\": \"Medium-High\"}, {\"LOCATION\": \"PRT\", \"TIME\": 2008, \"Value\": 49.8432, \"Time\": \"2008-01-01T00:00:00\", \"Country\": \"Portugal\", \"Status\": \"Medium-High\"}, {\"LOCATION\": \"PRT\", \"TIME\": 2009, \"Value\": 55.9881, \"Time\": \"2009-01-01T00:00:00\", \"Country\": \"Portugal\", \"Status\": \"Medium-High\"}, {\"LOCATION\": \"PRT\", \"TIME\": 2010, \"Value\": 59.4949, \"Time\": \"2010-01-01T00:00:00\", \"Country\": \"Portugal\", \"Status\": \"Medium-High\"}, {\"LOCATION\": \"PRT\", \"TIME\": 2011, \"Value\": 63.7269, \"Time\": \"2011-01-01T00:00:00\", \"Country\": \"Portugal\", \"Status\": \"Medium-High\"}, {\"LOCATION\": \"PRT\", \"TIME\": 2012, \"Value\": 66.0973, \"Time\": \"2012-01-01T00:00:00\", \"Country\": \"Portugal\", \"Status\": \"Medium-High\"}, {\"LOCATION\": \"PRT\", \"TIME\": 2013, \"Value\": 66.6784, \"Time\": \"2013-01-01T00:00:00\", \"Country\": \"Portugal\", \"Status\": \"Medium-High\"}, {\"LOCATION\": \"PRT\", \"TIME\": 2015, \"Value\": 71.105, \"Time\": \"2015-01-01T00:00:00\", \"Country\": \"Portugal\", \"Status\": \"Medium-High\"}, {\"LOCATION\": \"PRT\", \"TIME\": 2017, \"Value\": 71.491176, \"Time\": \"2017-01-01T00:00:00\", \"Country\": \"Portugal\", \"Status\": \"Medium-High\"}, {\"LOCATION\": \"EST\", \"TIME\": 2006, \"Value\": 52.0362, \"Time\": \"2006-01-01T00:00:00\", \"Country\": \"Estonia\", \"Status\": \"Medium-High\"}, {\"LOCATION\": \"EST\", \"TIME\": 2007, \"Value\": 56.4735, \"Time\": \"2007-01-01T00:00:00\", \"Country\": \"Estonia\", \"Status\": \"Medium-High\"}, {\"LOCATION\": \"EST\", \"TIME\": 2008, \"Value\": 58.8312, \"Time\": \"2008-01-01T00:00:00\", \"Country\": \"Estonia\", \"Status\": \"Medium-High\"}, {\"LOCATION\": \"EST\", \"TIME\": 2009, \"Value\": 64.0047, \"Time\": \"2009-01-01T00:00:00\", \"Country\": \"Estonia\", \"Status\": \"Medium-High\"}, {\"LOCATION\": \"EST\", \"TIME\": 2010, \"Value\": 68.3044, \"Time\": \"2010-01-01T00:00:00\", \"Country\": \"Estonia\", \"Status\": \"Medium-High\"}, {\"LOCATION\": \"EST\", \"TIME\": 2011, \"Value\": 70.0402, \"Time\": \"2011-01-01T00:00:00\", \"Country\": \"Estonia\", \"Status\": \"Medium-High\"}, {\"LOCATION\": \"EST\", \"TIME\": 2012, \"Value\": 74.3429, \"Time\": \"2012-01-01T00:00:00\", \"Country\": \"Estonia\", \"Status\": \"Medium-High\"}, {\"LOCATION\": \"EST\", \"TIME\": 2013, \"Value\": 78.9933, \"Time\": \"2013-01-01T00:00:00\", \"Country\": \"Estonia\", \"Status\": \"Medium-High\"}, {\"LOCATION\": \"EST\", \"TIME\": 2015, \"Value\": 87.8821, \"Time\": \"2015-01-01T00:00:00\", \"Country\": \"Estonia\", \"Status\": \"Medium-High\"}, {\"LOCATION\": \"EST\", \"TIME\": 2017, \"Value\": 86.90904, \"Time\": \"2017-01-01T00:00:00\", \"Country\": \"Estonia\", \"Status\": \"Medium-High\"}, {\"LOCATION\": \"BEL\", \"TIME\": 2006, \"Value\": 57.5354, \"Time\": \"2006-01-01T00:00:00\", \"Country\": \"Belgium\", \"Status\": \"High\"}, {\"LOCATION\": \"BEL\", \"TIME\": 2007, \"Value\": 67.1963, \"Time\": \"2007-01-01T00:00:00\", \"Country\": \"Belgium\", \"Status\": \"High\"}, {\"LOCATION\": \"BEL\", \"TIME\": 2008, \"Value\": 70.0005, \"Time\": \"2008-01-01T00:00:00\", \"Country\": \"Belgium\", \"Status\": \"High\"}, {\"LOCATION\": \"BEL\", \"TIME\": 2009, \"Value\": 71.1498, \"Time\": \"2009-01-01T00:00:00\", \"Country\": \"Belgium\", \"Status\": \"High\"}, {\"LOCATION\": \"BEL\", \"TIME\": 2010, \"Value\": 76.7229, \"Time\": \"2010-01-01T00:00:00\", \"Country\": \"Belgium\", \"Status\": \"High\"}, {\"LOCATION\": \"BEL\", \"TIME\": 2011, \"Value\": 78.8848, \"Time\": \"2011-01-01T00:00:00\", \"Country\": \"Belgium\", \"Status\": \"High\"}, {\"LOCATION\": \"BEL\", \"TIME\": 2012, \"Value\": 80.3305, \"Time\": \"2012-01-01T00:00:00\", \"Country\": \"Belgium\", \"Status\": \"High\"}, {\"LOCATION\": \"BEL\", \"TIME\": 2013, \"Value\": 81.8651, \"Time\": \"2013-01-01T00:00:00\", \"Country\": \"Belgium\", \"Status\": \"High\"}, {\"LOCATION\": \"BEL\", \"TIME\": 2015, \"Value\": 82.0915, \"Time\": \"2015-01-01T00:00:00\", \"Country\": \"Belgium\", \"Status\": \"High\"}, {\"LOCATION\": \"BEL\", \"TIME\": 2017, \"Value\": 85.119057, \"Time\": \"2017-01-01T00:00:00\", \"Country\": \"Belgium\", \"Status\": \"High\"}, {\"LOCATION\": \"SWE\", \"TIME\": 2006, \"Value\": 82.4821, \"Time\": \"2006-01-01T00:00:00\", \"Country\": \"Sweden\", \"Status\": \"High\"}, {\"LOCATION\": \"SWE\", \"TIME\": 2007, \"Value\": 82.8719, \"Time\": \"2007-01-01T00:00:00\", \"Country\": \"Sweden\", \"Status\": \"High\"}, {\"LOCATION\": \"SWE\", \"TIME\": 2008, \"Value\": 87.0993, \"Time\": \"2008-01-01T00:00:00\", \"Country\": \"Sweden\", \"Status\": \"High\"}, {\"LOCATION\": \"SWE\", \"TIME\": 2009, \"Value\": 87.5799, \"Time\": \"2009-01-01T00:00:00\", \"Country\": \"Sweden\", \"Status\": \"High\"}, {\"LOCATION\": \"SWE\", \"TIME\": 2010, \"Value\": 89.5021, \"Time\": \"2010-01-01T00:00:00\", \"Country\": \"Sweden\", \"Status\": \"High\"}, {\"LOCATION\": \"SWE\", \"TIME\": 2011, \"Value\": 91.5874, \"Time\": \"2011-01-01T00:00:00\", \"Country\": \"Sweden\", \"Status\": \"High\"}, {\"LOCATION\": \"SWE\", \"TIME\": 2012, \"Value\": 92.2936, \"Time\": \"2012-01-01T00:00:00\", \"Country\": \"Sweden\", \"Status\": \"High\"}, {\"LOCATION\": \"SWE\", \"TIME\": 2013, \"Value\": 91.8984, \"Time\": \"2013-01-01T00:00:00\", \"Country\": \"Sweden\", \"Status\": \"High\"}, {\"LOCATION\": \"SWE\", \"TIME\": 2015, \"Value\": 88.25, \"Time\": \"2015-01-01T00:00:00\", \"Country\": \"Sweden\", \"Status\": \"High\"}, {\"LOCATION\": \"SWE\", \"TIME\": 2017, \"Value\": 92.81636999999999, \"Time\": \"2017-01-01T00:00:00\", \"Country\": \"Sweden\", \"Status\": \"High\"}, {\"LOCATION\": \"NZL\", \"TIME\": 2006, \"Value\": 72.0, \"Time\": \"2006-01-01T00:00:00\", \"Country\": \"New Zealand\", \"Status\": \"High\"}, {\"LOCATION\": \"NZL\", \"TIME\": 2009, \"Value\": 80.0, \"Time\": \"2009-01-01T00:00:00\", \"Country\": \"New Zealand\", \"Status\": \"High\"}, {\"LOCATION\": \"NZL\", \"TIME\": 2012, \"Value\": 78.0, \"Time\": \"2012-01-01T00:00:00\", \"Country\": \"New Zealand\", \"Status\": \"High\"}, {\"LOCATION\": \"LVA\", \"TIME\": 2006, \"Value\": 40.648, \"Time\": \"2006-01-01T00:00:00\", \"Country\": \"Latvia\", \"Status\": \"Medium-High\"}, {\"LOCATION\": \"LVA\", \"TIME\": 2007, \"Value\": 49.2205, \"Time\": \"2007-01-01T00:00:00\", \"Country\": \"Latvia\", \"Status\": \"Medium-High\"}, {\"LOCATION\": \"LVA\", \"TIME\": 2008, \"Value\": 56.6547, \"Time\": \"2008-01-01T00:00:00\", \"Country\": \"Latvia\", \"Status\": \"Medium-High\"}, {\"LOCATION\": \"LVA\", \"TIME\": 2009, \"Value\": 60.111000000000004, \"Time\": \"2009-01-01T00:00:00\", \"Country\": \"Latvia\", \"Status\": \"Medium-High\"}, {\"LOCATION\": \"LVA\", \"TIME\": 2010, \"Value\": 62.7755, \"Time\": \"2010-01-01T00:00:00\", \"Country\": \"Latvia\", \"Status\": \"Medium-High\"}, {\"LOCATION\": \"LVA\", \"TIME\": 2011, \"Value\": 64.3118, \"Time\": \"2011-01-01T00:00:00\", \"Country\": \"Latvia\", \"Status\": \"Medium-High\"}, {\"LOCATION\": \"LVA\", \"TIME\": 2012, \"Value\": 69.5155, \"Time\": \"2012-01-01T00:00:00\", \"Country\": \"Latvia\", \"Status\": \"Medium-High\"}, {\"LOCATION\": \"LVA\", \"TIME\": 2013, \"Value\": 71.7196, \"Time\": \"2013-01-01T00:00:00\", \"Country\": \"Latvia\", \"Status\": \"Medium-High\"}, {\"LOCATION\": \"LVA\", \"TIME\": 2015, \"Value\": 76.1467, \"Time\": \"2015-01-01T00:00:00\", \"Country\": \"Latvia\", \"Status\": \"Medium-High\"}, {\"LOCATION\": \"LVA\", \"TIME\": 2017, \"Value\": 77.389836, \"Time\": \"2017-01-01T00:00:00\", \"Country\": \"Latvia\", \"Status\": \"Medium-High\"}, {\"LOCATION\": \"LTU\", \"TIME\": 2006, \"Value\": 39.8406, \"Time\": \"2006-01-01T00:00:00\", \"Country\": \"Lithuania\", \"Status\": \"Medium-High\"}, {\"LOCATION\": \"LTU\", \"TIME\": 2007, \"Value\": 46.2723, \"Time\": \"2007-01-01T00:00:00\", \"Country\": \"Lithuania\", \"Status\": \"Medium-High\"}, {\"LOCATION\": \"LTU\", \"TIME\": 2008, \"Value\": 52.0273, \"Time\": \"2008-01-01T00:00:00\", \"Country\": \"Lithuania\", \"Status\": \"Medium-High\"}, {\"LOCATION\": \"LTU\", \"TIME\": 2009, \"Value\": 57.343999999999994, \"Time\": \"2009-01-01T00:00:00\", \"Country\": \"Lithuania\", \"Status\": \"Medium-High\"}, {\"LOCATION\": \"LTU\", \"TIME\": 2010, \"Value\": 59.2287, \"Time\": \"2010-01-01T00:00:00\", \"Country\": \"Lithuania\", \"Status\": \"Medium-High\"}, {\"LOCATION\": \"LTU\", \"TIME\": 2011, \"Value\": 60.2072, \"Time\": \"2011-01-01T00:00:00\", \"Country\": \"Lithuania\", \"Status\": \"Medium-High\"}, {\"LOCATION\": \"LTU\", \"TIME\": 2012, \"Value\": 62.1365, \"Time\": \"2012-01-01T00:00:00\", \"Country\": \"Lithuania\", \"Status\": \"Medium-High\"}, {\"LOCATION\": \"LTU\", \"TIME\": 2013, \"Value\": 65.8774, \"Time\": \"2013-01-01T00:00:00\", \"Country\": \"Lithuania\", \"Status\": \"Medium-High\"}, {\"LOCATION\": \"LTU\", \"TIME\": 2015, \"Value\": 67.6401, \"Time\": \"2015-01-01T00:00:00\", \"Country\": \"Lithuania\", \"Status\": \"Medium-High\"}, {\"LOCATION\": \"LTU\", \"TIME\": 2017, \"Value\": 73.00916, \"Time\": \"2017-01-01T00:00:00\", \"Country\": \"Lithuania\", \"Status\": \"Medium-High\"}, {\"LOCATION\": \"COL\", \"TIME\": 2008, \"Value\": 13.12344786, \"Time\": \"2008-01-01T00:00:00\", \"Country\": \"Colombia\", \"Status\": \"Medium\"}, {\"LOCATION\": \"COL\", \"TIME\": 2009, \"Value\": 14.93281006, \"Time\": \"2009-01-01T00:00:00\", \"Country\": \"Colombia\", \"Status\": \"Medium\"}, {\"LOCATION\": \"COL\", \"TIME\": 2010, \"Value\": 19.23383476, \"Time\": \"2010-01-01T00:00:00\", \"Country\": \"Colombia\", \"Status\": \"Medium\"}, {\"LOCATION\": \"COL\", \"TIME\": 2011, \"Value\": 23.35388017, \"Time\": \"2011-01-01T00:00:00\", \"Country\": \"Colombia\", \"Status\": \"Medium\"}, {\"LOCATION\": \"COL\", \"TIME\": 2012, \"Value\": 38.51754906, \"Time\": \"2012-01-01T00:00:00\", \"Country\": \"Colombia\", \"Status\": \"Medium\"}, {\"LOCATION\": \"COL\", \"TIME\": 2013, \"Value\": 42.17471877, \"Time\": \"2013-01-01T00:00:00\", \"Country\": \"Colombia\", \"Status\": \"Medium\"}, {\"LOCATION\": \"COL\", \"TIME\": 2014, \"Value\": 44.4665857, \"Time\": \"2014-01-01T00:00:00\", \"Country\": \"Colombia\", \"Status\": \"Medium\"}, {\"LOCATION\": \"COL\", \"TIME\": 2015, \"Value\": 45.5, \"Time\": \"2015-01-01T00:00:00\", \"Country\": \"Colombia\", \"Status\": \"Medium\"}, {\"LOCATION\": \"COL\", \"TIME\": 2016, \"Value\": 45.20757813, \"Time\": \"2016-01-01T00:00:00\", \"Country\": \"Colombia\", \"Status\": \"Medium\"}, {\"LOCATION\": \"COL\", \"TIME\": 2018, \"Value\": 41.60826519, \"Time\": \"2018-01-01T00:00:00\", \"Country\": \"Colombia\", \"Status\": \"Medium\"}, {\"LOCATION\": \"CRI\", \"TIME\": 2005, \"Value\": 27.0, \"Time\": \"2005-01-01T00:00:00\", \"Country\": \"Costa Rica\", \"Status\": \"Medium\"}, {\"LOCATION\": \"CRI\", \"TIME\": 2006, \"Value\": 28.19843139, \"Time\": \"2006-01-01T00:00:00\", \"Country\": \"Costa Rica\", \"Status\": \"Medium\"}, {\"LOCATION\": \"CRI\", \"TIME\": 2007, \"Value\": 31.62, \"Time\": \"2007-01-01T00:00:00\", \"Country\": \"Costa Rica\", \"Status\": \"Medium\"}, {\"LOCATION\": \"CRI\", \"TIME\": 2008, \"Value\": 34.429728999999995, \"Time\": \"2008-01-01T00:00:00\", \"Country\": \"Costa Rica\", \"Status\": \"Medium\"}, {\"LOCATION\": \"CRI\", \"TIME\": 2009, \"Value\": 38.00768838, \"Time\": \"2009-01-01T00:00:00\", \"Country\": \"Costa Rica\", \"Status\": \"Medium\"}, {\"LOCATION\": \"CRI\", \"TIME\": 2010, \"Value\": 41.27215501, \"Time\": \"2010-01-01T00:00:00\", \"Country\": \"Costa Rica\", \"Status\": \"Medium\"}, {\"LOCATION\": \"CRI\", \"TIME\": 2011, \"Value\": 45.34296914, \"Time\": \"2011-01-01T00:00:00\", \"Country\": \"Costa Rica\", \"Status\": \"Medium\"}, {\"LOCATION\": \"CRI\", \"TIME\": 2012, \"Value\": 48.96160325, \"Time\": \"2012-01-01T00:00:00\", \"Country\": \"Costa Rica\", \"Status\": \"Medium\"}, {\"LOCATION\": \"CRI\", \"TIME\": 2013, \"Value\": 51.00880095, \"Time\": \"2013-01-01T00:00:00\", \"Country\": \"Costa Rica\", \"Status\": \"Medium\"}, {\"LOCATION\": \"CRI\", \"TIME\": 2014, \"Value\": 52.30559341, \"Time\": \"2014-01-01T00:00:00\", \"Country\": \"Costa Rica\", \"Status\": \"Medium\"}, {\"LOCATION\": \"CRI\", \"TIME\": 2015, \"Value\": 53.2, \"Time\": \"2015-01-01T00:00:00\", \"Country\": \"Costa Rica\", \"Status\": \"Medium\"}, {\"LOCATION\": \"CRI\", \"TIME\": 2016, \"Value\": 51.7, \"Time\": \"2016-01-01T00:00:00\", \"Country\": \"Costa Rica\", \"Status\": \"Medium\"}, {\"LOCATION\": \"CRI\", \"TIME\": 2017, \"Value\": 51.0, \"Time\": \"2017-01-01T00:00:00\", \"Country\": \"Costa Rica\", \"Status\": \"Medium\"}, {\"LOCATION\": \"CRI\", \"TIME\": 2018, \"Value\": 50.42008949, \"Time\": \"2018-01-01T00:00:00\", \"Country\": \"Costa Rica\", \"Status\": \"Medium\"}, {\"LOCATION\": \"CRI\", \"TIME\": 2019, \"Value\": 49.93197779, \"Time\": \"2019-01-01T00:00:00\", \"Country\": \"Costa Rica\", \"Status\": \"Medium\"}]}}, {\"mode\": \"vega-lite\"});\n",
       "</script>"
      ],
      "text/plain": [
       "alt.Chart(...)"
      ]
     },
     "execution_count": 189,
     "metadata": {},
     "output_type": "execute_result"
    }
   ],
   "source": [
    "from vega_datasets import data\n",
    "alt.Chart(comp_new_2).mark_point().encode(x='Time',y='Value',color='Status')"
   ]
  },
  {
   "cell_type": "markdown",
   "metadata": {},
   "source": [
    "There is a trend in which all countries are having more people with access to computers at home over time. But it looks like some groups are having a higher increase than others. Lets check if this is true by plotting a best fit line to see clearly the changes across all groups with the passage of time:\n",
    "- First, I will separate the dataframe into 3 dataframes for each group\n",
    "- Then, I create 1D arrays for time and for values\n",
    "- Lastly, I create slope variables for the line of best fit using polyfit\n",
    "- I will recombine the polyfit arrays and their respective time arrays so I can plot them using Altair"
   ]
  },
  {
   "cell_type": "code",
   "execution_count": 486,
   "metadata": {},
   "outputs": [],
   "source": [
    "import numpy as np\n",
    "\n",
    "high=comp_new_2.loc[comp_new_2.Status==\"High\",:]\n",
    "medium_high=comp_new_2.loc[comp_new_2.Status==\"Medium-High\",:]\n",
    "medium=comp_new_2.loc[comp_new_2.Status==\"Medium\",:]\n",
    "\n",
    "\n",
    "time_high=np.array(high.TIME)\n",
    "value_high=np.array(high.Value)\n",
    "\n",
    "time_medhigh=np.array(medium_high.TIME)\n",
    "value_medhigh=np.array(medium_high.Value)\n",
    "\n",
    "time_med=np.array(medium.TIME)\n",
    "value_med=np.array(medium.Value)\n",
    "\n",
    "m1,b1=np.polyfit(time_high,value_high,1)\n",
    "m2,b2=np.polyfit(time_medhigh,value_medhigh,1)\n",
    "m3,b3=np.polyfit(time_med,value_med,1)\n",
    "\n",
    "high_df=pd.DataFrame({'Time':time_high,'PredValue':(time_high*m1+b1)})\n",
    "medhigh_df=pd.DataFrame({'Time':time_medhigh,'PredValue':(time_medhigh*m2+b2)})\n",
    "medium_df=pd.DataFrame({'Time':time_med,'PredValue':(time_med*m3+b3)})"
   ]
  },
  {
   "cell_type": "markdown",
   "metadata": {},
   "source": [
    "Now, with the new dataframes for the **best-fit** lines ready, we can create the same plot from above and the add the line to that plot so we can see the average change for the group over time by building a layered chart:"
   ]
  },
  {
   "cell_type": "code",
   "execution_count": 487,
   "metadata": {},
   "outputs": [
    {
     "data": {
      "text/html": [
       "\n",
       "<div id=\"altair-viz-8e34d157a61145cea76f06f00cdd75b1\"></div>\n",
       "<script type=\"text/javascript\">\n",
       "  (function(spec, embedOpt){\n",
       "    let outputDiv = document.currentScript.previousElementSibling;\n",
       "    if (outputDiv.id !== \"altair-viz-8e34d157a61145cea76f06f00cdd75b1\") {\n",
       "      outputDiv = document.getElementById(\"altair-viz-8e34d157a61145cea76f06f00cdd75b1\");\n",
       "    }\n",
       "    const paths = {\n",
       "      \"vega\": \"https://cdn.jsdelivr.net/npm//vega@5?noext\",\n",
       "      \"vega-lib\": \"https://cdn.jsdelivr.net/npm//vega-lib?noext\",\n",
       "      \"vega-lite\": \"https://cdn.jsdelivr.net/npm//vega-lite@4.8.1?noext\",\n",
       "      \"vega-embed\": \"https://cdn.jsdelivr.net/npm//vega-embed@6?noext\",\n",
       "    };\n",
       "\n",
       "    function loadScript(lib) {\n",
       "      return new Promise(function(resolve, reject) {\n",
       "        var s = document.createElement('script');\n",
       "        s.src = paths[lib];\n",
       "        s.async = true;\n",
       "        s.onload = () => resolve(paths[lib]);\n",
       "        s.onerror = () => reject(`Error loading script: ${paths[lib]}`);\n",
       "        document.getElementsByTagName(\"head\")[0].appendChild(s);\n",
       "      });\n",
       "    }\n",
       "\n",
       "    function showError(err) {\n",
       "      outputDiv.innerHTML = `<div class=\"error\" style=\"color:red;\">${err}</div>`;\n",
       "      throw err;\n",
       "    }\n",
       "\n",
       "    function displayChart(vegaEmbed) {\n",
       "      vegaEmbed(outputDiv, spec, embedOpt)\n",
       "        .catch(err => showError(`Javascript Error: ${err.message}<br>This usually means there's a typo in your chart specification. See the javascript console for the full traceback.`));\n",
       "    }\n",
       "\n",
       "    if(typeof define === \"function\" && define.amd) {\n",
       "      requirejs.config({paths});\n",
       "      require([\"vega-embed\"], displayChart, err => showError(`Error loading script: ${err.message}`));\n",
       "    } else if (typeof vegaEmbed === \"function\") {\n",
       "      displayChart(vegaEmbed);\n",
       "    } else {\n",
       "      loadScript(\"vega\")\n",
       "        .then(() => loadScript(\"vega-lite\"))\n",
       "        .then(() => loadScript(\"vega-embed\"))\n",
       "        .catch(showError)\n",
       "        .then(() => displayChart(vegaEmbed));\n",
       "    }\n",
       "  })({\"config\": {\"view\": {\"continuousWidth\": 400, \"continuousHeight\": 300}}, \"layer\": [{\"data\": {\"name\": \"data-d7b6e74cab5afe14474424bbe993d417\"}, \"mark\": \"point\", \"encoding\": {\"color\": {\"type\": \"nominal\", \"field\": \"Status\"}, \"x\": {\"type\": \"temporal\", \"field\": \"Time\"}, \"y\": {\"type\": \"quantitative\", \"field\": \"Value\"}}}, {\"data\": {\"name\": \"data-2d61269728defb6ba3e41ad686f2ba25\"}, \"mark\": {\"type\": \"line\", \"color\": \"blue\"}, \"encoding\": {\"x\": {\"type\": \"quantitative\", \"axis\": null, \"field\": \"Time\"}, \"y\": {\"type\": \"quantitative\", \"field\": \"PredValue\"}}}, {\"data\": {\"name\": \"data-c13598618a4fffa07685ffa8bcb00751\"}, \"mark\": {\"type\": \"line\", \"color\": \"red\"}, \"encoding\": {\"x\": {\"type\": \"quantitative\", \"axis\": null, \"field\": \"Time\"}, \"y\": {\"type\": \"quantitative\", \"field\": \"PredValue\"}}}, {\"data\": {\"name\": \"data-bee3333657294751dfcc77c0e7e3029c\"}, \"mark\": {\"type\": \"line\", \"color\": \"orange\"}, \"encoding\": {\"x\": {\"type\": \"quantitative\", \"axis\": null, \"field\": \"Time\"}, \"y\": {\"type\": \"quantitative\", \"field\": \"PredValue\"}}}], \"$schema\": \"https://vega.github.io/schema/vega-lite/v4.8.1.json\", \"datasets\": {\"data-d7b6e74cab5afe14474424bbe993d417\": [{\"LOCATION\": \"DNK\", \"TIME\": 2006, \"Value\": 84.9749, \"Time\": \"2006-01-01T00:00:00\", \"Country\": \"Denmark\", \"Status\": \"High\"}, {\"LOCATION\": \"DNK\", \"TIME\": 2007, \"Value\": 82.9604, \"Time\": \"2007-01-01T00:00:00\", \"Country\": \"Denmark\", \"Status\": \"High\"}, {\"LOCATION\": \"DNK\", \"TIME\": 2008, \"Value\": 85.4588, \"Time\": \"2008-01-01T00:00:00\", \"Country\": \"Denmark\", \"Status\": \"High\"}, {\"LOCATION\": \"DNK\", \"TIME\": 2009, \"Value\": 86.2344, \"Time\": \"2009-01-01T00:00:00\", \"Country\": \"Denmark\", \"Status\": \"High\"}, {\"LOCATION\": \"DNK\", \"TIME\": 2010, \"Value\": 88.0249, \"Time\": \"2010-01-01T00:00:00\", \"Country\": \"Denmark\", \"Status\": \"High\"}, {\"LOCATION\": \"DNK\", \"TIME\": 2011, \"Value\": 90.4412, \"Time\": \"2011-01-01T00:00:00\", \"Country\": \"Denmark\", \"Status\": \"High\"}, {\"LOCATION\": \"DNK\", \"TIME\": 2012, \"Value\": 92.2643, \"Time\": \"2012-01-01T00:00:00\", \"Country\": \"Denmark\", \"Status\": \"High\"}, {\"LOCATION\": \"DNK\", \"TIME\": 2013, \"Value\": 93.0825, \"Time\": \"2013-01-01T00:00:00\", \"Country\": \"Denmark\", \"Status\": \"High\"}, {\"LOCATION\": \"DNK\", \"TIME\": 2015, \"Value\": 92.2751, \"Time\": \"2015-01-01T00:00:00\", \"Country\": \"Denmark\", \"Status\": \"High\"}, {\"LOCATION\": \"DNK\", \"TIME\": 2017, \"Value\": 93.13689000000001, \"Time\": \"2017-01-01T00:00:00\", \"Country\": \"Denmark\", \"Status\": \"High\"}, {\"LOCATION\": \"DEU\", \"TIME\": 2006, \"Value\": 76.8558, \"Time\": \"2006-01-01T00:00:00\", \"Country\": \"Germany\", \"Status\": \"High\"}, {\"LOCATION\": \"DEU\", \"TIME\": 2007, \"Value\": 78.6466, \"Time\": \"2007-01-01T00:00:00\", \"Country\": \"Germany\", \"Status\": \"High\"}, {\"LOCATION\": \"DEU\", \"TIME\": 2008, \"Value\": 81.8193, \"Time\": \"2008-01-01T00:00:00\", \"Country\": \"Germany\", \"Status\": \"High\"}, {\"LOCATION\": \"DEU\", \"TIME\": 2009, \"Value\": 84.0926, \"Time\": \"2009-01-01T00:00:00\", \"Country\": \"Germany\", \"Status\": \"High\"}, {\"LOCATION\": \"DEU\", \"TIME\": 2010, \"Value\": 85.7406, \"Time\": \"2010-01-01T00:00:00\", \"Country\": \"Germany\", \"Status\": \"High\"}, {\"LOCATION\": \"DEU\", \"TIME\": 2011, \"Value\": 86.8648, \"Time\": \"2011-01-01T00:00:00\", \"Country\": \"Germany\", \"Status\": \"High\"}, {\"LOCATION\": \"DEU\", \"TIME\": 2012, \"Value\": 87.0997, \"Time\": \"2012-01-01T00:00:00\", \"Country\": \"Germany\", \"Status\": \"High\"}, {\"LOCATION\": \"DEU\", \"TIME\": 2013, \"Value\": 88.8744, \"Time\": \"2013-01-01T00:00:00\", \"Country\": \"Germany\", \"Status\": \"High\"}, {\"LOCATION\": \"DEU\", \"TIME\": 2015, \"Value\": 90.9926, \"Time\": \"2015-01-01T00:00:00\", \"Country\": \"Germany\", \"Status\": \"High\"}, {\"LOCATION\": \"DEU\", \"TIME\": 2017, \"Value\": 92.86555600000001, \"Time\": \"2017-01-01T00:00:00\", \"Country\": \"Germany\", \"Status\": \"High\"}, {\"LOCATION\": \"ISL\", \"TIME\": 2006, \"Value\": 84.6127, \"Time\": \"2006-01-01T00:00:00\", \"Country\": \"Iceland\", \"Status\": \"High\"}, {\"LOCATION\": \"ISL\", \"TIME\": 2007, \"Value\": 89.1498, \"Time\": \"2007-01-01T00:00:00\", \"Country\": \"Iceland\", \"Status\": \"High\"}, {\"LOCATION\": \"ISL\", \"TIME\": 2008, \"Value\": 91.9216, \"Time\": \"2008-01-01T00:00:00\", \"Country\": \"Iceland\", \"Status\": \"High\"}, {\"LOCATION\": \"ISL\", \"TIME\": 2009, \"Value\": 92.4591, \"Time\": \"2009-01-01T00:00:00\", \"Country\": \"Iceland\", \"Status\": \"High\"}, {\"LOCATION\": \"ISL\", \"TIME\": 2010, \"Value\": 93.056, \"Time\": \"2010-01-01T00:00:00\", \"Country\": \"Iceland\", \"Status\": \"High\"}, {\"LOCATION\": \"ISL\", \"TIME\": 2011, \"Value\": 94.66, \"Time\": \"2011-01-01T00:00:00\", \"Country\": \"Iceland\", \"Status\": \"High\"}, {\"LOCATION\": \"ISL\", \"TIME\": 2012, \"Value\": 95.5166, \"Time\": \"2012-01-01T00:00:00\", \"Country\": \"Iceland\", \"Status\": \"High\"}, {\"LOCATION\": \"ISL\", \"TIME\": 2013, \"Value\": 96.7106, \"Time\": \"2013-01-01T00:00:00\", \"Country\": \"Iceland\", \"Status\": \"High\"}, {\"LOCATION\": \"ISL\", \"TIME\": 2017, \"Value\": 97.29724499999999, \"Time\": \"2017-01-01T00:00:00\", \"Country\": \"Iceland\", \"Status\": \"High\"}, {\"LOCATION\": \"JPN\", \"TIME\": 2005, \"Value\": 80.5, \"Time\": \"2005-01-01T00:00:00\", \"Country\": \"Japan\", \"Status\": \"High\"}, {\"LOCATION\": \"JPN\", \"TIME\": 2006, \"Value\": 80.8, \"Time\": \"2006-01-01T00:00:00\", \"Country\": \"Japan\", \"Status\": \"High\"}, {\"LOCATION\": \"JPN\", \"TIME\": 2007, \"Value\": 85.0, \"Time\": \"2007-01-01T00:00:00\", \"Country\": \"Japan\", \"Status\": \"High\"}, {\"LOCATION\": \"JPN\", \"TIME\": 2008, \"Value\": 85.9, \"Time\": \"2008-01-01T00:00:00\", \"Country\": \"Japan\", \"Status\": \"High\"}, {\"LOCATION\": \"JPN\", \"TIME\": 2009, \"Value\": 87.2, \"Time\": \"2009-01-01T00:00:00\", \"Country\": \"Japan\", \"Status\": \"High\"}, {\"LOCATION\": \"JPN\", \"TIME\": 2010, \"Value\": 83.4, \"Time\": \"2010-01-01T00:00:00\", \"Country\": \"Japan\", \"Status\": \"High\"}, {\"LOCATION\": \"JPN\", \"TIME\": 2011, \"Value\": 80.0, \"Time\": \"2011-01-01T00:00:00\", \"Country\": \"Japan\", \"Status\": \"High\"}, {\"LOCATION\": \"JPN\", \"TIME\": 2012, \"Value\": 77.9, \"Time\": \"2012-01-01T00:00:00\", \"Country\": \"Japan\", \"Status\": \"High\"}, {\"LOCATION\": \"JPN\", \"TIME\": 2013, \"Value\": 81.7, \"Time\": \"2013-01-01T00:00:00\", \"Country\": \"Japan\", \"Status\": \"High\"}, {\"LOCATION\": \"JPN\", \"TIME\": 2014, \"Value\": 78.0, \"Time\": \"2014-01-01T00:00:00\", \"Country\": \"Japan\", \"Status\": \"High\"}, {\"LOCATION\": \"JPN\", \"TIME\": 2015, \"Value\": 76.8, \"Time\": \"2015-01-01T00:00:00\", \"Country\": \"Japan\", \"Status\": \"High\"}, {\"LOCATION\": \"JPN\", \"TIME\": 2016, \"Value\": 73.0, \"Time\": \"2016-01-01T00:00:00\", \"Country\": \"Japan\", \"Status\": \"High\"}, {\"LOCATION\": \"JPN\", \"TIME\": 2017, \"Value\": 72.5, \"Time\": \"2017-01-01T00:00:00\", \"Country\": \"Japan\", \"Status\": \"High\"}, {\"LOCATION\": \"JPN\", \"TIME\": 2018, \"Value\": 74.0, \"Time\": \"2018-01-01T00:00:00\", \"Country\": \"Japan\", \"Status\": \"High\"}, {\"LOCATION\": \"FRA\", \"TIME\": 2007, \"Value\": 65.5494, \"Time\": \"2007-01-01T00:00:00\", \"Country\": \"France\", \"Status\": \"Medium-High\"}, {\"LOCATION\": \"FRA\", \"TIME\": 2008, \"Value\": 68.3557, \"Time\": \"2008-01-01T00:00:00\", \"Country\": \"France\", \"Status\": \"Medium-High\"}, {\"LOCATION\": \"FRA\", \"TIME\": 2009, \"Value\": 74.2203, \"Time\": \"2009-01-01T00:00:00\", \"Country\": \"France\", \"Status\": \"Medium-High\"}, {\"LOCATION\": \"FRA\", \"TIME\": 2010, \"Value\": 76.4499, \"Time\": \"2010-01-01T00:00:00\", \"Country\": \"France\", \"Status\": \"Medium-High\"}, {\"LOCATION\": \"FRA\", \"TIME\": 2011, \"Value\": 78.1792, \"Time\": \"2011-01-01T00:00:00\", \"Country\": \"France\", \"Status\": \"Medium-High\"}, {\"LOCATION\": \"FRA\", \"TIME\": 2012, \"Value\": 81.0122, \"Time\": \"2012-01-01T00:00:00\", \"Country\": \"France\", \"Status\": \"Medium-High\"}, {\"LOCATION\": \"FRA\", \"TIME\": 2013, \"Value\": 81.5595, \"Time\": \"2013-01-01T00:00:00\", \"Country\": \"France\", \"Status\": \"Medium-High\"}, {\"LOCATION\": \"FRA\", \"TIME\": 2015, \"Value\": 81.5481, \"Time\": \"2015-01-01T00:00:00\", \"Country\": \"France\", \"Status\": \"Medium-High\"}, {\"LOCATION\": \"FRA\", \"TIME\": 2017, \"Value\": 84.124964, \"Time\": \"2017-01-01T00:00:00\", \"Country\": \"France\", \"Status\": \"Medium-High\"}, {\"LOCATION\": \"HUN\", \"TIME\": 2006, \"Value\": 48.803999999999995, \"Time\": \"2006-01-01T00:00:00\", \"Country\": \"Hungary\", \"Status\": \"Medium-High\"}, {\"LOCATION\": \"HUN\", \"TIME\": 2007, \"Value\": 52.5651, \"Time\": \"2007-01-01T00:00:00\", \"Country\": \"Hungary\", \"Status\": \"Medium-High\"}, {\"LOCATION\": \"HUN\", \"TIME\": 2008, \"Value\": 57.1866, \"Time\": \"2008-01-01T00:00:00\", \"Country\": \"Hungary\", \"Status\": \"Medium-High\"}, {\"LOCATION\": \"HUN\", \"TIME\": 2009, \"Value\": 61.3626, \"Time\": \"2009-01-01T00:00:00\", \"Country\": \"Hungary\", \"Status\": \"Medium-High\"}, {\"LOCATION\": \"HUN\", \"TIME\": 2010, \"Value\": 64.457, \"Time\": \"2010-01-01T00:00:00\", \"Country\": \"Hungary\", \"Status\": \"Medium-High\"}, {\"LOCATION\": \"HUN\", \"TIME\": 2011, \"Value\": 67.8143, \"Time\": \"2011-01-01T00:00:00\", \"Country\": \"Hungary\", \"Status\": \"Medium-High\"}, {\"LOCATION\": \"HUN\", \"TIME\": 2012, \"Value\": 69.7479, \"Time\": \"2012-01-01T00:00:00\", \"Country\": \"Hungary\", \"Status\": \"Medium-High\"}, {\"LOCATION\": \"HUN\", \"TIME\": 2013, \"Value\": 71.3968, \"Time\": \"2013-01-01T00:00:00\", \"Country\": \"Hungary\", \"Status\": \"Medium-High\"}, {\"LOCATION\": \"HUN\", \"TIME\": 2015, \"Value\": 74.9754, \"Time\": \"2015-01-01T00:00:00\", \"Country\": \"Hungary\", \"Status\": \"Medium-High\"}, {\"LOCATION\": \"HUN\", \"TIME\": 2017, \"Value\": 79.674757, \"Time\": \"2017-01-01T00:00:00\", \"Country\": \"Hungary\", \"Status\": \"Medium-High\"}, {\"LOCATION\": \"SVN\", \"TIME\": 2006, \"Value\": 65.2631, \"Time\": \"2006-01-01T00:00:00\", \"Country\": \"Slovenia\", \"Status\": \"High\"}, {\"LOCATION\": \"SVN\", \"TIME\": 2007, \"Value\": 65.9984, \"Time\": \"2007-01-01T00:00:00\", \"Country\": \"Slovenia\", \"Status\": \"High\"}, {\"LOCATION\": \"SVN\", \"TIME\": 2008, \"Value\": 65.1195, \"Time\": \"2008-01-01T00:00:00\", \"Country\": \"Slovenia\", \"Status\": \"High\"}, {\"LOCATION\": \"SVN\", \"TIME\": 2009, \"Value\": 71.2161, \"Time\": \"2009-01-01T00:00:00\", \"Country\": \"Slovenia\", \"Status\": \"High\"}, {\"LOCATION\": \"SVN\", \"TIME\": 2010, \"Value\": 70.4624, \"Time\": \"2010-01-01T00:00:00\", \"Country\": \"Slovenia\", \"Status\": \"High\"}, {\"LOCATION\": \"SVN\", \"TIME\": 2011, \"Value\": 74.4408, \"Time\": \"2011-01-01T00:00:00\", \"Country\": \"Slovenia\", \"Status\": \"High\"}, {\"LOCATION\": \"SVN\", \"TIME\": 2012, \"Value\": 76.1, \"Time\": \"2012-01-01T00:00:00\", \"Country\": \"Slovenia\", \"Status\": \"High\"}, {\"LOCATION\": \"SVN\", \"TIME\": 2013, \"Value\": 76.3561, \"Time\": \"2013-01-01T00:00:00\", \"Country\": \"Slovenia\", \"Status\": \"High\"}, {\"LOCATION\": \"SVN\", \"TIME\": 2015, \"Value\": 77.7509, \"Time\": \"2015-01-01T00:00:00\", \"Country\": \"Slovenia\", \"Status\": \"High\"}, {\"LOCATION\": \"SVN\", \"TIME\": 2017, \"Value\": 79.503036, \"Time\": \"2017-01-01T00:00:00\", \"Country\": \"Slovenia\", \"Status\": \"High\"}, {\"LOCATION\": \"AUT\", \"TIME\": 2006, \"Value\": 67.0669, \"Time\": \"2006-01-01T00:00:00\", \"Country\": \"Austria\", \"Status\": \"High\"}, {\"LOCATION\": \"AUT\", \"TIME\": 2007, \"Value\": 70.7432, \"Time\": \"2007-01-01T00:00:00\", \"Country\": \"Austria\", \"Status\": \"High\"}, {\"LOCATION\": \"AUT\", \"TIME\": 2008, \"Value\": 75.9463, \"Time\": \"2008-01-01T00:00:00\", \"Country\": \"Austria\", \"Status\": \"High\"}, {\"LOCATION\": \"AUT\", \"TIME\": 2009, \"Value\": 74.4629, \"Time\": \"2009-01-01T00:00:00\", \"Country\": \"Austria\", \"Status\": \"High\"}, {\"LOCATION\": \"AUT\", \"TIME\": 2010, \"Value\": 76.1859, \"Time\": \"2010-01-01T00:00:00\", \"Country\": \"Austria\", \"Status\": \"High\"}, {\"LOCATION\": \"AUT\", \"TIME\": 2011, \"Value\": 78.0696, \"Time\": \"2011-01-01T00:00:00\", \"Country\": \"Austria\", \"Status\": \"High\"}, {\"LOCATION\": \"AUT\", \"TIME\": 2012, \"Value\": 81.3037, \"Time\": \"2012-01-01T00:00:00\", \"Country\": \"Austria\", \"Status\": \"High\"}, {\"LOCATION\": \"AUT\", \"TIME\": 2013, \"Value\": 80.8504, \"Time\": \"2013-01-01T00:00:00\", \"Country\": \"Austria\", \"Status\": \"High\"}, {\"LOCATION\": \"AUT\", \"TIME\": 2015, \"Value\": 82.1364, \"Time\": \"2015-01-01T00:00:00\", \"Country\": \"Austria\", \"Status\": \"High\"}, {\"LOCATION\": \"AUT\", \"TIME\": 2017, \"Value\": 85.373276, \"Time\": \"2017-01-01T00:00:00\", \"Country\": \"Austria\", \"Status\": \"High\"}, {\"LOCATION\": \"POL\", \"TIME\": 2006, \"Value\": 45.4124, \"Time\": \"2006-01-01T00:00:00\", \"Country\": \"Poland\", \"Status\": \"Medium-High\"}, {\"LOCATION\": \"POL\", \"TIME\": 2007, \"Value\": 53.6893, \"Time\": \"2007-01-01T00:00:00\", \"Country\": \"Poland\", \"Status\": \"Medium-High\"}, {\"LOCATION\": \"POL\", \"TIME\": 2008, \"Value\": 58.8728, \"Time\": \"2008-01-01T00:00:00\", \"Country\": \"Poland\", \"Status\": \"Medium-High\"}, {\"LOCATION\": \"POL\", \"TIME\": 2009, \"Value\": 66.0852, \"Time\": \"2009-01-01T00:00:00\", \"Country\": \"Poland\", \"Status\": \"Medium-High\"}, {\"LOCATION\": \"POL\", \"TIME\": 2010, \"Value\": 69.0212, \"Time\": \"2010-01-01T00:00:00\", \"Country\": \"Poland\", \"Status\": \"Medium-High\"}, {\"LOCATION\": \"POL\", \"TIME\": 2011, \"Value\": 71.3147, \"Time\": \"2011-01-01T00:00:00\", \"Country\": \"Poland\", \"Status\": \"Medium-High\"}, {\"LOCATION\": \"POL\", \"TIME\": 2012, \"Value\": 73.3677, \"Time\": \"2012-01-01T00:00:00\", \"Country\": \"Poland\", \"Status\": \"Medium-High\"}, {\"LOCATION\": \"POL\", \"TIME\": 2013, \"Value\": 74.7447, \"Time\": \"2013-01-01T00:00:00\", \"Country\": \"Poland\", \"Status\": \"Medium-High\"}, {\"LOCATION\": \"POL\", \"TIME\": 2015, \"Value\": 77.9378, \"Time\": \"2015-01-01T00:00:00\", \"Country\": \"Poland\", \"Status\": \"Medium-High\"}, {\"LOCATION\": \"POL\", \"TIME\": 2017, \"Value\": 81.77694699999999, \"Time\": \"2017-01-01T00:00:00\", \"Country\": \"Poland\", \"Status\": \"Medium-High\"}, {\"LOCATION\": \"ESP\", \"TIME\": 2006, \"Value\": 55.8676, \"Time\": \"2006-01-01T00:00:00\", \"Country\": \"Spain\", \"Status\": \"Medium-High\"}, {\"LOCATION\": \"ESP\", \"TIME\": 2007, \"Value\": 58.9493, \"Time\": \"2007-01-01T00:00:00\", \"Country\": \"Spain\", \"Status\": \"Medium-High\"}, {\"LOCATION\": \"ESP\", \"TIME\": 2008, \"Value\": 62.1818, \"Time\": \"2008-01-01T00:00:00\", \"Country\": \"Spain\", \"Status\": \"Medium-High\"}, {\"LOCATION\": \"ESP\", \"TIME\": 2009, \"Value\": 65.1014, \"Time\": \"2009-01-01T00:00:00\", \"Country\": \"Spain\", \"Status\": \"Medium-High\"}, {\"LOCATION\": \"ESP\", \"TIME\": 2010, \"Value\": 67.4256, \"Time\": \"2010-01-01T00:00:00\", \"Country\": \"Spain\", \"Status\": \"Medium-High\"}, {\"LOCATION\": \"ESP\", \"TIME\": 2011, \"Value\": 70.328, \"Time\": \"2011-01-01T00:00:00\", \"Country\": \"Spain\", \"Status\": \"Medium-High\"}, {\"LOCATION\": \"ESP\", \"TIME\": 2012, \"Value\": 72.5888, \"Time\": \"2012-01-01T00:00:00\", \"Country\": \"Spain\", \"Status\": \"Medium-High\"}, {\"LOCATION\": \"ESP\", \"TIME\": 2013, \"Value\": 73.3335, \"Time\": \"2013-01-01T00:00:00\", \"Country\": \"Spain\", \"Status\": \"Medium-High\"}, {\"LOCATION\": \"ESP\", \"TIME\": 2015, \"Value\": 75.8652, \"Time\": \"2015-01-01T00:00:00\", \"Country\": \"Spain\", \"Status\": \"Medium-High\"}, {\"LOCATION\": \"ESP\", \"TIME\": 2017, \"Value\": 78.385013, \"Time\": \"2017-01-01T00:00:00\", \"Country\": \"Spain\", \"Status\": \"Medium-High\"}, {\"LOCATION\": \"TUR\", \"TIME\": 2007, \"Value\": 27.3081, \"Time\": \"2007-01-01T00:00:00\", \"Country\": \"Turkey\", \"Status\": \"Medium-High\"}, {\"LOCATION\": \"TUR\", \"TIME\": 2008, \"Value\": 33.3911, \"Time\": \"2008-01-01T00:00:00\", \"Country\": \"Turkey\", \"Status\": \"Medium-High\"}, {\"LOCATION\": \"TUR\", \"TIME\": 2009, \"Value\": 37.4048, \"Time\": \"2009-01-01T00:00:00\", \"Country\": \"Turkey\", \"Status\": \"Medium-High\"}, {\"LOCATION\": \"TUR\", \"TIME\": 2010, \"Value\": 44.2265, \"Time\": \"2010-01-01T00:00:00\", \"Country\": \"Turkey\", \"Status\": \"Medium-High\"}, {\"LOCATION\": \"TUR\", \"TIME\": 2012, \"Value\": 50.2477, \"Time\": \"2012-01-01T00:00:00\", \"Country\": \"Turkey\", \"Status\": \"Medium-High\"}, {\"LOCATION\": \"TUR\", \"TIME\": 2013, \"Value\": 49.8193, \"Time\": \"2013-01-01T00:00:00\", \"Country\": \"Turkey\", \"Status\": \"Medium-High\"}, {\"LOCATION\": \"TUR\", \"TIME\": 2015, \"Value\": 50.5579, \"Time\": \"2015-01-01T00:00:00\", \"Country\": \"Turkey\", \"Status\": \"Medium-High\"}, {\"LOCATION\": \"TUR\", \"TIME\": 2017, \"Value\": 49.99992, \"Time\": \"2017-01-01T00:00:00\", \"Country\": \"Turkey\", \"Status\": \"Medium-High\"}, {\"LOCATION\": \"CHL\", \"TIME\": 2006, \"Value\": 34.5, \"Time\": \"2006-01-01T00:00:00\", \"Country\": \"Chile\", \"Status\": \"Medium-High\"}, {\"LOCATION\": \"CHL\", \"TIME\": 2009, \"Value\": 43.9, \"Time\": \"2009-01-01T00:00:00\", \"Country\": \"Chile\", \"Status\": \"Medium-High\"}, {\"LOCATION\": \"CHL\", \"TIME\": 2012, \"Value\": 68.27844113, \"Time\": \"2012-01-01T00:00:00\", \"Country\": \"Chile\", \"Status\": \"Medium-High\"}, {\"LOCATION\": \"CHL\", \"TIME\": 2013, \"Value\": 56.44182681, \"Time\": \"2013-01-01T00:00:00\", \"Country\": \"Chile\", \"Status\": \"Medium-High\"}, {\"LOCATION\": \"CHL\", \"TIME\": 2014, \"Value\": 60.29196034, \"Time\": \"2014-01-01T00:00:00\", \"Country\": \"Chile\", \"Status\": \"Medium-High\"}, {\"LOCATION\": \"CHL\", \"TIME\": 2015, \"Value\": 56.396569299999996, \"Time\": \"2015-01-01T00:00:00\", \"Country\": \"Chile\", \"Status\": \"Medium-High\"}, {\"LOCATION\": \"CHL\", \"TIME\": 2016, \"Value\": 63.62938219, \"Time\": \"2016-01-01T00:00:00\", \"Country\": \"Chile\", \"Status\": \"Medium-High\"}, {\"LOCATION\": \"CHL\", \"TIME\": 2017, \"Value\": 60.15454498, \"Time\": \"2017-01-01T00:00:00\", \"Country\": \"Chile\", \"Status\": \"Medium-High\"}, {\"LOCATION\": \"GRC\", \"TIME\": 2006, \"Value\": 36.7012, \"Time\": \"2006-01-01T00:00:00\", \"Country\": \"Greece\", \"Status\": \"Medium-High\"}, {\"LOCATION\": \"GRC\", \"TIME\": 2007, \"Value\": 40.1674, \"Time\": \"2007-01-01T00:00:00\", \"Country\": \"Greece\", \"Status\": \"Medium-High\"}, {\"LOCATION\": \"GRC\", \"TIME\": 2008, \"Value\": 44.0037, \"Time\": \"2008-01-01T00:00:00\", \"Country\": \"Greece\", \"Status\": \"Medium-High\"}, {\"LOCATION\": \"GRC\", \"TIME\": 2009, \"Value\": 47.3287, \"Time\": \"2009-01-01T00:00:00\", \"Country\": \"Greece\", \"Status\": \"Medium-High\"}, {\"LOCATION\": \"GRC\", \"TIME\": 2010, \"Value\": 53.3865, \"Time\": \"2010-01-01T00:00:00\", \"Country\": \"Greece\", \"Status\": \"Medium-High\"}, {\"LOCATION\": \"GRC\", \"TIME\": 2011, \"Value\": 57.2357, \"Time\": \"2011-01-01T00:00:00\", \"Country\": \"Greece\", \"Status\": \"Medium-High\"}, {\"LOCATION\": \"GRC\", \"TIME\": 2012, \"Value\": 56.7914, \"Time\": \"2012-01-01T00:00:00\", \"Country\": \"Greece\", \"Status\": \"Medium-High\"}, {\"LOCATION\": \"GRC\", \"TIME\": 2013, \"Value\": 59.5484, \"Time\": \"2013-01-01T00:00:00\", \"Country\": \"Greece\", \"Status\": \"Medium-High\"}, {\"LOCATION\": \"GRC\", \"TIME\": 2015, \"Value\": 68.5681, \"Time\": \"2015-01-01T00:00:00\", \"Country\": \"Greece\", \"Status\": \"Medium-High\"}, {\"LOCATION\": \"GRC\", \"TIME\": 2017, \"Value\": 70.50049, \"Time\": \"2017-01-01T00:00:00\", \"Country\": \"Greece\", \"Status\": \"Medium-High\"}, {\"LOCATION\": \"IRL\", \"TIME\": 2006, \"Value\": 58.5742, \"Time\": \"2006-01-01T00:00:00\", \"Country\": \"Ireland\", \"Status\": \"High\"}, {\"LOCATION\": \"IRL\", \"TIME\": 2007, \"Value\": 65.4871, \"Time\": \"2007-01-01T00:00:00\", \"Country\": \"Ireland\", \"Status\": \"High\"}, {\"LOCATION\": \"IRL\", \"TIME\": 2008, \"Value\": 70.3481, \"Time\": \"2008-01-01T00:00:00\", \"Country\": \"Ireland\", \"Status\": \"High\"}, {\"LOCATION\": \"IRL\", \"TIME\": 2009, \"Value\": 72.8382, \"Time\": \"2009-01-01T00:00:00\", \"Country\": \"Ireland\", \"Status\": \"High\"}, {\"LOCATION\": \"IRL\", \"TIME\": 2010, \"Value\": 76.464, \"Time\": \"2010-01-01T00:00:00\", \"Country\": \"Ireland\", \"Status\": \"High\"}, {\"LOCATION\": \"IRL\", \"TIME\": 2011, \"Value\": 80.5599, \"Time\": \"2011-01-01T00:00:00\", \"Country\": \"Ireland\", \"Status\": \"High\"}, {\"LOCATION\": \"IRL\", \"TIME\": 2012, \"Value\": 82.7459, \"Time\": \"2012-01-01T00:00:00\", \"Country\": \"Ireland\", \"Status\": \"High\"}, {\"LOCATION\": \"IRL\", \"TIME\": 2013, \"Value\": 83.5992, \"Time\": \"2013-01-01T00:00:00\", \"Country\": \"Ireland\", \"Status\": \"High\"}, {\"LOCATION\": \"IRL\", \"TIME\": 2015, \"Value\": 83.5441, \"Time\": \"2015-01-01T00:00:00\", \"Country\": \"Ireland\", \"Status\": \"High\"}, {\"LOCATION\": \"IRL\", \"TIME\": 2017, \"Value\": 83.75783, \"Time\": \"2017-01-01T00:00:00\", \"Country\": \"Ireland\", \"Status\": \"High\"}, {\"LOCATION\": \"AUS\", \"TIME\": 2005, \"Value\": 70.0, \"Time\": \"2005-01-01T00:00:00\", \"Country\": \"Australia\", \"Status\": \"High\"}, {\"LOCATION\": \"AUS\", \"TIME\": 2006, \"Value\": 73.0, \"Time\": \"2006-01-01T00:00:00\", \"Country\": \"Australia\", \"Status\": \"High\"}, {\"LOCATION\": \"AUS\", \"TIME\": 2007, \"Value\": 75.0, \"Time\": \"2007-01-01T00:00:00\", \"Country\": \"Australia\", \"Status\": \"High\"}, {\"LOCATION\": \"AUS\", \"TIME\": 2008, \"Value\": 78.0, \"Time\": \"2008-01-01T00:00:00\", \"Country\": \"Australia\", \"Status\": \"High\"}, {\"LOCATION\": \"AUS\", \"TIME\": 2010, \"Value\": 82.57, \"Time\": \"2010-01-01T00:00:00\", \"Country\": \"Australia\", \"Status\": \"High\"}, {\"LOCATION\": \"AUS\", \"TIME\": 2014, \"Value\": 82.96, \"Time\": \"2014-01-01T00:00:00\", \"Country\": \"Australia\", \"Status\": \"High\"}, {\"LOCATION\": \"AUS\", \"TIME\": 2016, \"Value\": 82.44, \"Time\": \"2016-01-01T00:00:00\", \"Country\": \"Australia\", \"Status\": \"High\"}, {\"LOCATION\": \"CAN\", \"TIME\": 2005, \"Value\": 72.0, \"Time\": \"2005-01-01T00:00:00\", \"Country\": \"Canada\", \"Status\": \"High\"}, {\"LOCATION\": \"CAN\", \"TIME\": 2006, \"Value\": 75.4, \"Time\": \"2006-01-01T00:00:00\", \"Country\": \"Canada\", \"Status\": \"High\"}, {\"LOCATION\": \"CAN\", \"TIME\": 2007, \"Value\": 78.4, \"Time\": \"2007-01-01T00:00:00\", \"Country\": \"Canada\", \"Status\": \"High\"}, {\"LOCATION\": \"CAN\", \"TIME\": 2008, \"Value\": 79.4, \"Time\": \"2008-01-01T00:00:00\", \"Country\": \"Canada\", \"Status\": \"High\"}, {\"LOCATION\": \"CAN\", \"TIME\": 2009, \"Value\": 81.7, \"Time\": \"2009-01-01T00:00:00\", \"Country\": \"Canada\", \"Status\": \"High\"}, {\"LOCATION\": \"CAN\", \"TIME\": 2013, \"Value\": 85.6, \"Time\": \"2013-01-01T00:00:00\", \"Country\": \"Canada\", \"Status\": \"High\"}, {\"LOCATION\": \"FIN\", \"TIME\": 2006, \"Value\": 71.1027, \"Time\": \"2006-01-01T00:00:00\", \"Country\": \"Finland\", \"Status\": \"High\"}, {\"LOCATION\": \"FIN\", \"TIME\": 2007, \"Value\": 73.9631, \"Time\": \"2007-01-01T00:00:00\", \"Country\": \"Finland\", \"Status\": \"High\"}, {\"LOCATION\": \"FIN\", \"TIME\": 2008, \"Value\": 75.7674, \"Time\": \"2008-01-01T00:00:00\", \"Country\": \"Finland\", \"Status\": \"High\"}, {\"LOCATION\": \"FIN\", \"TIME\": 2009, \"Value\": 80.1388, \"Time\": \"2009-01-01T00:00:00\", \"Country\": \"Finland\", \"Status\": \"High\"}, {\"LOCATION\": \"FIN\", \"TIME\": 2010, \"Value\": 81.9856, \"Time\": \"2010-01-01T00:00:00\", \"Country\": \"Finland\", \"Status\": \"High\"}, {\"LOCATION\": \"FIN\", \"TIME\": 2011, \"Value\": 85.1187, \"Time\": \"2011-01-01T00:00:00\", \"Country\": \"Finland\", \"Status\": \"High\"}, {\"LOCATION\": \"FIN\", \"TIME\": 2012, \"Value\": 87.5615, \"Time\": \"2012-01-01T00:00:00\", \"Country\": \"Finland\", \"Status\": \"High\"}, {\"LOCATION\": \"FIN\", \"TIME\": 2013, \"Value\": 88.7494, \"Time\": \"2013-01-01T00:00:00\", \"Country\": \"Finland\", \"Status\": \"High\"}, {\"LOCATION\": \"FIN\", \"TIME\": 2015, \"Value\": 89.3321, \"Time\": \"2015-01-01T00:00:00\", \"Country\": \"Finland\", \"Status\": \"High\"}, {\"LOCATION\": \"FIN\", \"TIME\": 2017, \"Value\": 93.49728, \"Time\": \"2017-01-01T00:00:00\", \"Country\": \"Finland\", \"Status\": \"High\"}, {\"LOCATION\": \"MEX\", \"TIME\": 2005, \"Value\": 18.56, \"Time\": \"2005-01-01T00:00:00\", \"Country\": \"Mexico\", \"Status\": \"Medium\"}, {\"LOCATION\": \"MEX\", \"TIME\": 2006, \"Value\": 20.62, \"Time\": \"2006-01-01T00:00:00\", \"Country\": \"Mexico\", \"Status\": \"Medium\"}, {\"LOCATION\": \"MEX\", \"TIME\": 2007, \"Value\": 22.12, \"Time\": \"2007-01-01T00:00:00\", \"Country\": \"Mexico\", \"Status\": \"Medium\"}, {\"LOCATION\": \"MEX\", \"TIME\": 2008, \"Value\": 25.65, \"Time\": \"2008-01-01T00:00:00\", \"Country\": \"Mexico\", \"Status\": \"Medium\"}, {\"LOCATION\": \"MEX\", \"TIME\": 2009, \"Value\": 26.76, \"Time\": \"2009-01-01T00:00:00\", \"Country\": \"Mexico\", \"Status\": \"Medium\"}, {\"LOCATION\": \"MEX\", \"TIME\": 2010, \"Value\": 29.79, \"Time\": \"2010-01-01T00:00:00\", \"Country\": \"Mexico\", \"Status\": \"Medium\"}, {\"LOCATION\": \"MEX\", \"TIME\": 2011, \"Value\": 30.04, \"Time\": \"2011-01-01T00:00:00\", \"Country\": \"Mexico\", \"Status\": \"Medium\"}, {\"LOCATION\": \"MEX\", \"TIME\": 2012, \"Value\": 32.19, \"Time\": \"2012-01-01T00:00:00\", \"Country\": \"Mexico\", \"Status\": \"Medium\"}, {\"LOCATION\": \"MEX\", \"TIME\": 2013, \"Value\": 35.79285774, \"Time\": \"2013-01-01T00:00:00\", \"Country\": \"Mexico\", \"Status\": \"Medium\"}, {\"LOCATION\": \"MEX\", \"TIME\": 2014, \"Value\": 38.29201478, \"Time\": \"2014-01-01T00:00:00\", \"Country\": \"Mexico\", \"Status\": \"Medium\"}, {\"LOCATION\": \"MEX\", \"TIME\": 2015, \"Value\": 44.91111992, \"Time\": \"2015-01-01T00:00:00\", \"Country\": \"Mexico\", \"Status\": \"Medium\"}, {\"LOCATION\": \"MEX\", \"TIME\": 2016, \"Value\": 45.59302965, \"Time\": \"2016-01-01T00:00:00\", \"Country\": \"Mexico\", \"Status\": \"Medium\"}, {\"LOCATION\": \"MEX\", \"TIME\": 2017, \"Value\": 45.41874514, \"Time\": \"2017-01-01T00:00:00\", \"Country\": \"Mexico\", \"Status\": \"Medium\"}, {\"LOCATION\": \"MEX\", \"TIME\": 2018, \"Value\": 44.88286427, \"Time\": \"2018-01-01T00:00:00\", \"Country\": \"Mexico\", \"Status\": \"Medium\"}, {\"LOCATION\": \"MEX\", \"TIME\": 2019, \"Value\": 44.34457378, \"Time\": \"2019-01-01T00:00:00\", \"Country\": \"Mexico\", \"Status\": \"Medium\"}, {\"LOCATION\": \"NOR\", \"TIME\": 2006, \"Value\": 75.3507, \"Time\": \"2006-01-01T00:00:00\", \"Country\": \"Norway\", \"Status\": \"High\"}, {\"LOCATION\": \"NOR\", \"TIME\": 2007, \"Value\": 82.4171, \"Time\": \"2007-01-01T00:00:00\", \"Country\": \"Norway\", \"Status\": \"High\"}, {\"LOCATION\": \"NOR\", \"TIME\": 2008, \"Value\": 85.8021, \"Time\": \"2008-01-01T00:00:00\", \"Country\": \"Norway\", \"Status\": \"High\"}, {\"LOCATION\": \"NOR\", \"TIME\": 2009, \"Value\": 87.5946, \"Time\": \"2009-01-01T00:00:00\", \"Country\": \"Norway\", \"Status\": \"High\"}, {\"LOCATION\": \"NOR\", \"TIME\": 2010, \"Value\": 90.9441, \"Time\": \"2010-01-01T00:00:00\", \"Country\": \"Norway\", \"Status\": \"High\"}, {\"LOCATION\": \"NOR\", \"TIME\": 2011, \"Value\": 90.9743, \"Time\": \"2011-01-01T00:00:00\", \"Country\": \"Norway\", \"Status\": \"High\"}, {\"LOCATION\": \"NOR\", \"TIME\": 2012, \"Value\": 91.8971, \"Time\": \"2012-01-01T00:00:00\", \"Country\": \"Norway\", \"Status\": \"High\"}, {\"LOCATION\": \"NOR\", \"TIME\": 2013, \"Value\": 93.2816, \"Time\": \"2013-01-01T00:00:00\", \"Country\": \"Norway\", \"Status\": \"High\"}, {\"LOCATION\": \"NOR\", \"TIME\": 2015, \"Value\": 96.4735, \"Time\": \"2015-01-01T00:00:00\", \"Country\": \"Norway\", \"Status\": \"High\"}, {\"LOCATION\": \"NOR\", \"TIME\": 2017, \"Value\": 94.905746, \"Time\": \"2017-01-01T00:00:00\", \"Country\": \"Norway\", \"Status\": \"High\"}, {\"LOCATION\": \"SVK\", \"TIME\": 2006, \"Value\": 50.0949, \"Time\": \"2006-01-01T00:00:00\", \"Country\": \"Slovakia\", \"Status\": \"Medium-High\"}, {\"LOCATION\": \"SVK\", \"TIME\": 2007, \"Value\": 55.4297, \"Time\": \"2007-01-01T00:00:00\", \"Country\": \"Slovakia\", \"Status\": \"Medium-High\"}, {\"LOCATION\": \"SVK\", \"TIME\": 2008, \"Value\": 63.2266, \"Time\": \"2008-01-01T00:00:00\", \"Country\": \"Slovakia\", \"Status\": \"Medium-High\"}, {\"LOCATION\": \"SVK\", \"TIME\": 2009, \"Value\": 64.0456, \"Time\": \"2009-01-01T00:00:00\", \"Country\": \"Slovakia\", \"Status\": \"Medium-High\"}, {\"LOCATION\": \"SVK\", \"TIME\": 2010, \"Value\": 72.1756, \"Time\": \"2010-01-01T00:00:00\", \"Country\": \"Slovakia\", \"Status\": \"Medium-High\"}, {\"LOCATION\": \"SVK\", \"TIME\": 2011, \"Value\": 75.4321, \"Time\": \"2011-01-01T00:00:00\", \"Country\": \"Slovakia\", \"Status\": \"Medium-High\"}, {\"LOCATION\": \"SVK\", \"TIME\": 2012, \"Value\": 78.8125, \"Time\": \"2012-01-01T00:00:00\", \"Country\": \"Slovakia\", \"Status\": \"Medium-High\"}, {\"LOCATION\": \"SVK\", \"TIME\": 2013, \"Value\": 80.0754, \"Time\": \"2013-01-01T00:00:00\", \"Country\": \"Slovakia\", \"Status\": \"Medium-High\"}, {\"LOCATION\": \"SVK\", \"TIME\": 2015, \"Value\": 80.4795, \"Time\": \"2015-01-01T00:00:00\", \"Country\": \"Slovakia\", \"Status\": \"Medium-High\"}, {\"LOCATION\": \"SVK\", \"TIME\": 2017, \"Value\": 81.79907, \"Time\": \"2017-01-01T00:00:00\", \"Country\": \"Slovakia\", \"Status\": \"Medium-High\"}, {\"LOCATION\": \"CHE\", \"TIME\": 2005, \"Value\": 76.5, \"Time\": \"2005-01-01T00:00:00\", \"Country\": \"Switzerland\", \"Status\": \"High\"}, {\"LOCATION\": \"CHE\", \"TIME\": 2006, \"Value\": 77.4, \"Time\": \"2006-01-01T00:00:00\", \"Country\": \"Switzerland\", \"Status\": \"High\"}, {\"LOCATION\": \"CHE\", \"TIME\": 2007, \"Value\": 79.2, \"Time\": \"2007-01-01T00:00:00\", \"Country\": \"Switzerland\", \"Status\": \"High\"}, {\"LOCATION\": \"CHE\", \"TIME\": 2008, \"Value\": 81.4, \"Time\": \"2008-01-01T00:00:00\", \"Country\": \"Switzerland\", \"Status\": \"High\"}, {\"LOCATION\": \"CHE\", \"TIME\": 2009, \"Value\": 82.5, \"Time\": \"2009-01-01T00:00:00\", \"Country\": \"Switzerland\", \"Status\": \"High\"}, {\"LOCATION\": \"CHE\", \"TIME\": 2010, \"Value\": 83.6, \"Time\": \"2010-01-01T00:00:00\", \"Country\": \"Switzerland\", \"Status\": \"High\"}, {\"LOCATION\": \"CHE\", \"TIME\": 2011, \"Value\": 84.89, \"Time\": \"2011-01-01T00:00:00\", \"Country\": \"Switzerland\", \"Status\": \"High\"}, {\"LOCATION\": \"CHE\", \"TIME\": 2012, \"Value\": 86.6, \"Time\": \"2012-01-01T00:00:00\", \"Country\": \"Switzerland\", \"Status\": \"High\"}, {\"LOCATION\": \"CHE\", \"TIME\": 2013, \"Value\": 88.6, \"Time\": \"2013-01-01T00:00:00\", \"Country\": \"Switzerland\", \"Status\": \"High\"}, {\"LOCATION\": \"CHE\", \"TIME\": 2014, \"Value\": 90.25, \"Time\": \"2014-01-01T00:00:00\", \"Country\": \"Switzerland\", \"Status\": \"High\"}, {\"LOCATION\": \"BRA\", \"TIME\": 2008, \"Value\": 24.6, \"Time\": \"2008-01-01T00:00:00\", \"Country\": \"Brazil\", \"Status\": \"Medium\"}, {\"LOCATION\": \"BRA\", \"TIME\": 2009, \"Value\": 32.3, \"Time\": \"2009-01-01T00:00:00\", \"Country\": \"Brazil\", \"Status\": \"Medium\"}, {\"LOCATION\": \"BRA\", \"TIME\": 2010, \"Value\": 34.9, \"Time\": \"2010-01-01T00:00:00\", \"Country\": \"Brazil\", \"Status\": \"Medium\"}, {\"LOCATION\": \"BRA\", \"TIME\": 2011, \"Value\": 42.6, \"Time\": \"2011-01-01T00:00:00\", \"Country\": \"Brazil\", \"Status\": \"Medium\"}, {\"LOCATION\": \"BRA\", \"TIME\": 2012, \"Value\": 45.8, \"Time\": \"2012-01-01T00:00:00\", \"Country\": \"Brazil\", \"Status\": \"Medium\"}, {\"LOCATION\": \"BRA\", \"TIME\": 2013, \"Value\": 48.7, \"Time\": \"2013-01-01T00:00:00\", \"Country\": \"Brazil\", \"Status\": \"Medium\"}, {\"LOCATION\": \"BRA\", \"TIME\": 2014, \"Value\": 50.5, \"Time\": \"2014-01-01T00:00:00\", \"Country\": \"Brazil\", \"Status\": \"Medium\"}, {\"LOCATION\": \"BRA\", \"TIME\": 2015, \"Value\": 47.9, \"Time\": \"2015-01-01T00:00:00\", \"Country\": \"Brazil\", \"Status\": \"Medium\"}, {\"LOCATION\": \"BRA\", \"TIME\": 2016, \"Value\": 46.1, \"Time\": \"2016-01-01T00:00:00\", \"Country\": \"Brazil\", \"Status\": \"Medium\"}, {\"LOCATION\": \"BRA\", \"TIME\": 2017, \"Value\": 46.3, \"Time\": \"2017-01-01T00:00:00\", \"Country\": \"Brazil\", \"Status\": \"Medium\"}, {\"LOCATION\": \"BRA\", \"TIME\": 2018, \"Value\": 41.75858235, \"Time\": \"2018-01-01T00:00:00\", \"Country\": \"Brazil\", \"Status\": \"Medium\"}, {\"LOCATION\": \"BRA\", \"TIME\": 2019, \"Value\": 39.4, \"Time\": \"2019-01-01T00:00:00\", \"Country\": \"Brazil\", \"Status\": \"Medium\"}, {\"LOCATION\": \"ISR\", \"TIME\": 2005, \"Value\": 62.4, \"Time\": \"2005-01-01T00:00:00\", \"Country\": \"Israel\", \"Status\": \"High\"}, {\"LOCATION\": \"ISR\", \"TIME\": 2006, \"Value\": 65.8, \"Time\": \"2006-01-01T00:00:00\", \"Country\": \"Israel\", \"Status\": \"High\"}, {\"LOCATION\": \"ISR\", \"TIME\": 2007, \"Value\": 68.9, \"Time\": \"2007-01-01T00:00:00\", \"Country\": \"Israel\", \"Status\": \"High\"}, {\"LOCATION\": \"ISR\", \"TIME\": 2008, \"Value\": 71.0, \"Time\": \"2008-01-01T00:00:00\", \"Country\": \"Israel\", \"Status\": \"High\"}, {\"LOCATION\": \"ISR\", \"TIME\": 2009, \"Value\": 74.4, \"Time\": \"2009-01-01T00:00:00\", \"Country\": \"Israel\", \"Status\": \"High\"}, {\"LOCATION\": \"ISR\", \"TIME\": 2010, \"Value\": 76.7, \"Time\": \"2010-01-01T00:00:00\", \"Country\": \"Israel\", \"Status\": \"High\"}, {\"LOCATION\": \"ISR\", \"TIME\": 2011, \"Value\": 78.2, \"Time\": \"2011-01-01T00:00:00\", \"Country\": \"Israel\", \"Status\": \"High\"}, {\"LOCATION\": \"ISR\", \"TIME\": 2012, \"Value\": 80.38, \"Time\": \"2012-01-01T00:00:00\", \"Country\": \"Israel\", \"Status\": \"High\"}, {\"LOCATION\": \"ISR\", \"TIME\": 2013, \"Value\": 80.72, \"Time\": \"2013-01-01T00:00:00\", \"Country\": \"Israel\", \"Status\": \"High\"}, {\"LOCATION\": \"ISR\", \"TIME\": 2014, \"Value\": 81.25, \"Time\": \"2014-01-01T00:00:00\", \"Country\": \"Israel\", \"Status\": \"High\"}, {\"LOCATION\": \"ISR\", \"TIME\": 2015, \"Value\": 80.3, \"Time\": \"2015-01-01T00:00:00\", \"Country\": \"Israel\", \"Status\": \"High\"}, {\"LOCATION\": \"ISR\", \"TIME\": 2016, \"Value\": 78.08, \"Time\": \"2016-01-01T00:00:00\", \"Country\": \"Israel\", \"Status\": \"High\"}, {\"LOCATION\": \"ISR\", \"TIME\": 2017, \"Value\": 78.02, \"Time\": \"2017-01-01T00:00:00\", \"Country\": \"Israel\", \"Status\": \"High\"}, {\"LOCATION\": \"ITA\", \"TIME\": 2006, \"Value\": 51.5822, \"Time\": \"2006-01-01T00:00:00\", \"Country\": \"Italy\", \"Status\": \"Medium-High\"}, {\"LOCATION\": \"ITA\", \"TIME\": 2007, \"Value\": 53.3796, \"Time\": \"2007-01-01T00:00:00\", \"Country\": \"Italy\", \"Status\": \"Medium-High\"}, {\"LOCATION\": \"ITA\", \"TIME\": 2008, \"Value\": 55.9745, \"Time\": \"2008-01-01T00:00:00\", \"Country\": \"Italy\", \"Status\": \"Medium-High\"}, {\"LOCATION\": \"ITA\", \"TIME\": 2009, \"Value\": 61.2675, \"Time\": \"2009-01-01T00:00:00\", \"Country\": \"Italy\", \"Status\": \"Medium-High\"}, {\"LOCATION\": \"ITA\", \"TIME\": 2010, \"Value\": 64.8464, \"Time\": \"2010-01-01T00:00:00\", \"Country\": \"Italy\", \"Status\": \"Medium-High\"}, {\"LOCATION\": \"ITA\", \"TIME\": 2011, \"Value\": 66.1957, \"Time\": \"2011-01-01T00:00:00\", \"Country\": \"Italy\", \"Status\": \"Medium-High\"}, {\"LOCATION\": \"ITA\", \"TIME\": 2012, \"Value\": 67.0906, \"Time\": \"2012-01-01T00:00:00\", \"Country\": \"Italy\", \"Status\": \"Medium-High\"}, {\"LOCATION\": \"ITA\", \"TIME\": 2013, \"Value\": 71.1443, \"Time\": \"2013-01-01T00:00:00\", \"Country\": \"Italy\", \"Status\": \"Medium-High\"}, {\"LOCATION\": \"ITA\", \"TIME\": 2015, \"Value\": 72.5436, \"Time\": \"2015-01-01T00:00:00\", \"Country\": \"Italy\", \"Status\": \"Medium-High\"}, {\"LOCATION\": \"ITA\", \"TIME\": 2017, \"Value\": 72.50204699999999, \"Time\": \"2017-01-01T00:00:00\", \"Country\": \"Italy\", \"Status\": \"Medium-High\"}, {\"LOCATION\": \"LUX\", \"TIME\": 2006, \"Value\": 77.2517, \"Time\": \"2006-01-01T00:00:00\", \"Country\": \"Luxembourg\", \"Status\": \"High\"}, {\"LOCATION\": \"LUX\", \"TIME\": 2007, \"Value\": 79.9669, \"Time\": \"2007-01-01T00:00:00\", \"Country\": \"Luxembourg\", \"Status\": \"High\"}, {\"LOCATION\": \"LUX\", \"TIME\": 2008, \"Value\": 82.8419, \"Time\": \"2008-01-01T00:00:00\", \"Country\": \"Luxembourg\", \"Status\": \"High\"}, {\"LOCATION\": \"LUX\", \"TIME\": 2009, \"Value\": 87.9317, \"Time\": \"2009-01-01T00:00:00\", \"Country\": \"Luxembourg\", \"Status\": \"High\"}, {\"LOCATION\": \"LUX\", \"TIME\": 2010, \"Value\": 90.2148, \"Time\": \"2010-01-01T00:00:00\", \"Country\": \"Luxembourg\", \"Status\": \"High\"}, {\"LOCATION\": \"LUX\", \"TIME\": 2011, \"Value\": 91.7325, \"Time\": \"2011-01-01T00:00:00\", \"Country\": \"Luxembourg\", \"Status\": \"High\"}, {\"LOCATION\": \"LUX\", \"TIME\": 2012, \"Value\": 92.1312, \"Time\": \"2012-01-01T00:00:00\", \"Country\": \"Luxembourg\", \"Status\": \"High\"}, {\"LOCATION\": \"LUX\", \"TIME\": 2013, \"Value\": 94.2733, \"Time\": \"2013-01-01T00:00:00\", \"Country\": \"Luxembourg\", \"Status\": \"High\"}, {\"LOCATION\": \"LUX\", \"TIME\": 2015, \"Value\": 95.3357, \"Time\": \"2015-01-01T00:00:00\", \"Country\": \"Luxembourg\", \"Status\": \"High\"}, {\"LOCATION\": \"LUX\", \"TIME\": 2017, \"Value\": 95.44832, \"Time\": \"2017-01-01T00:00:00\", \"Country\": \"Luxembourg\", \"Status\": \"High\"}, {\"LOCATION\": \"PRT\", \"TIME\": 2006, \"Value\": 45.5876, \"Time\": \"2006-01-01T00:00:00\", \"Country\": \"Portugal\", \"Status\": \"Medium-High\"}, {\"LOCATION\": \"PRT\", \"TIME\": 2007, \"Value\": 48.3165, \"Time\": \"2007-01-01T00:00:00\", \"Country\": \"Portugal\", \"Status\": \"Medium-High\"}, {\"LOCATION\": \"PRT\", \"TIME\": 2008, \"Value\": 49.8432, \"Time\": \"2008-01-01T00:00:00\", \"Country\": \"Portugal\", \"Status\": \"Medium-High\"}, {\"LOCATION\": \"PRT\", \"TIME\": 2009, \"Value\": 55.9881, \"Time\": \"2009-01-01T00:00:00\", \"Country\": \"Portugal\", \"Status\": \"Medium-High\"}, {\"LOCATION\": \"PRT\", \"TIME\": 2010, \"Value\": 59.4949, \"Time\": \"2010-01-01T00:00:00\", \"Country\": \"Portugal\", \"Status\": \"Medium-High\"}, {\"LOCATION\": \"PRT\", \"TIME\": 2011, \"Value\": 63.7269, \"Time\": \"2011-01-01T00:00:00\", \"Country\": \"Portugal\", \"Status\": \"Medium-High\"}, {\"LOCATION\": \"PRT\", \"TIME\": 2012, \"Value\": 66.0973, \"Time\": \"2012-01-01T00:00:00\", \"Country\": \"Portugal\", \"Status\": \"Medium-High\"}, {\"LOCATION\": \"PRT\", \"TIME\": 2013, \"Value\": 66.6784, \"Time\": \"2013-01-01T00:00:00\", \"Country\": \"Portugal\", \"Status\": \"Medium-High\"}, {\"LOCATION\": \"PRT\", \"TIME\": 2015, \"Value\": 71.105, \"Time\": \"2015-01-01T00:00:00\", \"Country\": \"Portugal\", \"Status\": \"Medium-High\"}, {\"LOCATION\": \"PRT\", \"TIME\": 2017, \"Value\": 71.491176, \"Time\": \"2017-01-01T00:00:00\", \"Country\": \"Portugal\", \"Status\": \"Medium-High\"}, {\"LOCATION\": \"EST\", \"TIME\": 2006, \"Value\": 52.0362, \"Time\": \"2006-01-01T00:00:00\", \"Country\": \"Estonia\", \"Status\": \"Medium-High\"}, {\"LOCATION\": \"EST\", \"TIME\": 2007, \"Value\": 56.4735, \"Time\": \"2007-01-01T00:00:00\", \"Country\": \"Estonia\", \"Status\": \"Medium-High\"}, {\"LOCATION\": \"EST\", \"TIME\": 2008, \"Value\": 58.8312, \"Time\": \"2008-01-01T00:00:00\", \"Country\": \"Estonia\", \"Status\": \"Medium-High\"}, {\"LOCATION\": \"EST\", \"TIME\": 2009, \"Value\": 64.0047, \"Time\": \"2009-01-01T00:00:00\", \"Country\": \"Estonia\", \"Status\": \"Medium-High\"}, {\"LOCATION\": \"EST\", \"TIME\": 2010, \"Value\": 68.3044, \"Time\": \"2010-01-01T00:00:00\", \"Country\": \"Estonia\", \"Status\": \"Medium-High\"}, {\"LOCATION\": \"EST\", \"TIME\": 2011, \"Value\": 70.0402, \"Time\": \"2011-01-01T00:00:00\", \"Country\": \"Estonia\", \"Status\": \"Medium-High\"}, {\"LOCATION\": \"EST\", \"TIME\": 2012, \"Value\": 74.3429, \"Time\": \"2012-01-01T00:00:00\", \"Country\": \"Estonia\", \"Status\": \"Medium-High\"}, {\"LOCATION\": \"EST\", \"TIME\": 2013, \"Value\": 78.9933, \"Time\": \"2013-01-01T00:00:00\", \"Country\": \"Estonia\", \"Status\": \"Medium-High\"}, {\"LOCATION\": \"EST\", \"TIME\": 2015, \"Value\": 87.8821, \"Time\": \"2015-01-01T00:00:00\", \"Country\": \"Estonia\", \"Status\": \"Medium-High\"}, {\"LOCATION\": \"EST\", \"TIME\": 2017, \"Value\": 86.90904, \"Time\": \"2017-01-01T00:00:00\", \"Country\": \"Estonia\", \"Status\": \"Medium-High\"}, {\"LOCATION\": \"BEL\", \"TIME\": 2006, \"Value\": 57.5354, \"Time\": \"2006-01-01T00:00:00\", \"Country\": \"Belgium\", \"Status\": \"High\"}, {\"LOCATION\": \"BEL\", \"TIME\": 2007, \"Value\": 67.1963, \"Time\": \"2007-01-01T00:00:00\", \"Country\": \"Belgium\", \"Status\": \"High\"}, {\"LOCATION\": \"BEL\", \"TIME\": 2008, \"Value\": 70.0005, \"Time\": \"2008-01-01T00:00:00\", \"Country\": \"Belgium\", \"Status\": \"High\"}, {\"LOCATION\": \"BEL\", \"TIME\": 2009, \"Value\": 71.1498, \"Time\": \"2009-01-01T00:00:00\", \"Country\": \"Belgium\", \"Status\": \"High\"}, {\"LOCATION\": \"BEL\", \"TIME\": 2010, \"Value\": 76.7229, \"Time\": \"2010-01-01T00:00:00\", \"Country\": \"Belgium\", \"Status\": \"High\"}, {\"LOCATION\": \"BEL\", \"TIME\": 2011, \"Value\": 78.8848, \"Time\": \"2011-01-01T00:00:00\", \"Country\": \"Belgium\", \"Status\": \"High\"}, {\"LOCATION\": \"BEL\", \"TIME\": 2012, \"Value\": 80.3305, \"Time\": \"2012-01-01T00:00:00\", \"Country\": \"Belgium\", \"Status\": \"High\"}, {\"LOCATION\": \"BEL\", \"TIME\": 2013, \"Value\": 81.8651, \"Time\": \"2013-01-01T00:00:00\", \"Country\": \"Belgium\", \"Status\": \"High\"}, {\"LOCATION\": \"BEL\", \"TIME\": 2015, \"Value\": 82.0915, \"Time\": \"2015-01-01T00:00:00\", \"Country\": \"Belgium\", \"Status\": \"High\"}, {\"LOCATION\": \"BEL\", \"TIME\": 2017, \"Value\": 85.119057, \"Time\": \"2017-01-01T00:00:00\", \"Country\": \"Belgium\", \"Status\": \"High\"}, {\"LOCATION\": \"SWE\", \"TIME\": 2006, \"Value\": 82.4821, \"Time\": \"2006-01-01T00:00:00\", \"Country\": \"Sweden\", \"Status\": \"High\"}, {\"LOCATION\": \"SWE\", \"TIME\": 2007, \"Value\": 82.8719, \"Time\": \"2007-01-01T00:00:00\", \"Country\": \"Sweden\", \"Status\": \"High\"}, {\"LOCATION\": \"SWE\", \"TIME\": 2008, \"Value\": 87.0993, \"Time\": \"2008-01-01T00:00:00\", \"Country\": \"Sweden\", \"Status\": \"High\"}, {\"LOCATION\": \"SWE\", \"TIME\": 2009, \"Value\": 87.5799, \"Time\": \"2009-01-01T00:00:00\", \"Country\": \"Sweden\", \"Status\": \"High\"}, {\"LOCATION\": \"SWE\", \"TIME\": 2010, \"Value\": 89.5021, \"Time\": \"2010-01-01T00:00:00\", \"Country\": \"Sweden\", \"Status\": \"High\"}, {\"LOCATION\": \"SWE\", \"TIME\": 2011, \"Value\": 91.5874, \"Time\": \"2011-01-01T00:00:00\", \"Country\": \"Sweden\", \"Status\": \"High\"}, {\"LOCATION\": \"SWE\", \"TIME\": 2012, \"Value\": 92.2936, \"Time\": \"2012-01-01T00:00:00\", \"Country\": \"Sweden\", \"Status\": \"High\"}, {\"LOCATION\": \"SWE\", \"TIME\": 2013, \"Value\": 91.8984, \"Time\": \"2013-01-01T00:00:00\", \"Country\": \"Sweden\", \"Status\": \"High\"}, {\"LOCATION\": \"SWE\", \"TIME\": 2015, \"Value\": 88.25, \"Time\": \"2015-01-01T00:00:00\", \"Country\": \"Sweden\", \"Status\": \"High\"}, {\"LOCATION\": \"SWE\", \"TIME\": 2017, \"Value\": 92.81636999999999, \"Time\": \"2017-01-01T00:00:00\", \"Country\": \"Sweden\", \"Status\": \"High\"}, {\"LOCATION\": \"NZL\", \"TIME\": 2006, \"Value\": 72.0, \"Time\": \"2006-01-01T00:00:00\", \"Country\": \"New Zealand\", \"Status\": \"High\"}, {\"LOCATION\": \"NZL\", \"TIME\": 2009, \"Value\": 80.0, \"Time\": \"2009-01-01T00:00:00\", \"Country\": \"New Zealand\", \"Status\": \"High\"}, {\"LOCATION\": \"NZL\", \"TIME\": 2012, \"Value\": 78.0, \"Time\": \"2012-01-01T00:00:00\", \"Country\": \"New Zealand\", \"Status\": \"High\"}, {\"LOCATION\": \"LVA\", \"TIME\": 2006, \"Value\": 40.648, \"Time\": \"2006-01-01T00:00:00\", \"Country\": \"Latvia\", \"Status\": \"Medium-High\"}, {\"LOCATION\": \"LVA\", \"TIME\": 2007, \"Value\": 49.2205, \"Time\": \"2007-01-01T00:00:00\", \"Country\": \"Latvia\", \"Status\": \"Medium-High\"}, {\"LOCATION\": \"LVA\", \"TIME\": 2008, \"Value\": 56.6547, \"Time\": \"2008-01-01T00:00:00\", \"Country\": \"Latvia\", \"Status\": \"Medium-High\"}, {\"LOCATION\": \"LVA\", \"TIME\": 2009, \"Value\": 60.111000000000004, \"Time\": \"2009-01-01T00:00:00\", \"Country\": \"Latvia\", \"Status\": \"Medium-High\"}, {\"LOCATION\": \"LVA\", \"TIME\": 2010, \"Value\": 62.7755, \"Time\": \"2010-01-01T00:00:00\", \"Country\": \"Latvia\", \"Status\": \"Medium-High\"}, {\"LOCATION\": \"LVA\", \"TIME\": 2011, \"Value\": 64.3118, \"Time\": \"2011-01-01T00:00:00\", \"Country\": \"Latvia\", \"Status\": \"Medium-High\"}, {\"LOCATION\": \"LVA\", \"TIME\": 2012, \"Value\": 69.5155, \"Time\": \"2012-01-01T00:00:00\", \"Country\": \"Latvia\", \"Status\": \"Medium-High\"}, {\"LOCATION\": \"LVA\", \"TIME\": 2013, \"Value\": 71.7196, \"Time\": \"2013-01-01T00:00:00\", \"Country\": \"Latvia\", \"Status\": \"Medium-High\"}, {\"LOCATION\": \"LVA\", \"TIME\": 2015, \"Value\": 76.1467, \"Time\": \"2015-01-01T00:00:00\", \"Country\": \"Latvia\", \"Status\": \"Medium-High\"}, {\"LOCATION\": \"LVA\", \"TIME\": 2017, \"Value\": 77.389836, \"Time\": \"2017-01-01T00:00:00\", \"Country\": \"Latvia\", \"Status\": \"Medium-High\"}, {\"LOCATION\": \"LTU\", \"TIME\": 2006, \"Value\": 39.8406, \"Time\": \"2006-01-01T00:00:00\", \"Country\": \"Lithuania\", \"Status\": \"Medium-High\"}, {\"LOCATION\": \"LTU\", \"TIME\": 2007, \"Value\": 46.2723, \"Time\": \"2007-01-01T00:00:00\", \"Country\": \"Lithuania\", \"Status\": \"Medium-High\"}, {\"LOCATION\": \"LTU\", \"TIME\": 2008, \"Value\": 52.0273, \"Time\": \"2008-01-01T00:00:00\", \"Country\": \"Lithuania\", \"Status\": \"Medium-High\"}, {\"LOCATION\": \"LTU\", \"TIME\": 2009, \"Value\": 57.343999999999994, \"Time\": \"2009-01-01T00:00:00\", \"Country\": \"Lithuania\", \"Status\": \"Medium-High\"}, {\"LOCATION\": \"LTU\", \"TIME\": 2010, \"Value\": 59.2287, \"Time\": \"2010-01-01T00:00:00\", \"Country\": \"Lithuania\", \"Status\": \"Medium-High\"}, {\"LOCATION\": \"LTU\", \"TIME\": 2011, \"Value\": 60.2072, \"Time\": \"2011-01-01T00:00:00\", \"Country\": \"Lithuania\", \"Status\": \"Medium-High\"}, {\"LOCATION\": \"LTU\", \"TIME\": 2012, \"Value\": 62.1365, \"Time\": \"2012-01-01T00:00:00\", \"Country\": \"Lithuania\", \"Status\": \"Medium-High\"}, {\"LOCATION\": \"LTU\", \"TIME\": 2013, \"Value\": 65.8774, \"Time\": \"2013-01-01T00:00:00\", \"Country\": \"Lithuania\", \"Status\": \"Medium-High\"}, {\"LOCATION\": \"LTU\", \"TIME\": 2015, \"Value\": 67.6401, \"Time\": \"2015-01-01T00:00:00\", \"Country\": \"Lithuania\", \"Status\": \"Medium-High\"}, {\"LOCATION\": \"LTU\", \"TIME\": 2017, \"Value\": 73.00916, \"Time\": \"2017-01-01T00:00:00\", \"Country\": \"Lithuania\", \"Status\": \"Medium-High\"}, {\"LOCATION\": \"COL\", \"TIME\": 2008, \"Value\": 13.12344786, \"Time\": \"2008-01-01T00:00:00\", \"Country\": \"Colombia\", \"Status\": \"Medium\"}, {\"LOCATION\": \"COL\", \"TIME\": 2009, \"Value\": 14.93281006, \"Time\": \"2009-01-01T00:00:00\", \"Country\": \"Colombia\", \"Status\": \"Medium\"}, {\"LOCATION\": \"COL\", \"TIME\": 2010, \"Value\": 19.23383476, \"Time\": \"2010-01-01T00:00:00\", \"Country\": \"Colombia\", \"Status\": \"Medium\"}, {\"LOCATION\": \"COL\", \"TIME\": 2011, \"Value\": 23.35388017, \"Time\": \"2011-01-01T00:00:00\", \"Country\": \"Colombia\", \"Status\": \"Medium\"}, {\"LOCATION\": \"COL\", \"TIME\": 2012, \"Value\": 38.51754906, \"Time\": \"2012-01-01T00:00:00\", \"Country\": \"Colombia\", \"Status\": \"Medium\"}, {\"LOCATION\": \"COL\", \"TIME\": 2013, \"Value\": 42.17471877, \"Time\": \"2013-01-01T00:00:00\", \"Country\": \"Colombia\", \"Status\": \"Medium\"}, {\"LOCATION\": \"COL\", \"TIME\": 2014, \"Value\": 44.4665857, \"Time\": \"2014-01-01T00:00:00\", \"Country\": \"Colombia\", \"Status\": \"Medium\"}, {\"LOCATION\": \"COL\", \"TIME\": 2015, \"Value\": 45.5, \"Time\": \"2015-01-01T00:00:00\", \"Country\": \"Colombia\", \"Status\": \"Medium\"}, {\"LOCATION\": \"COL\", \"TIME\": 2016, \"Value\": 45.20757813, \"Time\": \"2016-01-01T00:00:00\", \"Country\": \"Colombia\", \"Status\": \"Medium\"}, {\"LOCATION\": \"COL\", \"TIME\": 2018, \"Value\": 41.60826519, \"Time\": \"2018-01-01T00:00:00\", \"Country\": \"Colombia\", \"Status\": \"Medium\"}, {\"LOCATION\": \"CRI\", \"TIME\": 2005, \"Value\": 27.0, \"Time\": \"2005-01-01T00:00:00\", \"Country\": \"Costa Rica\", \"Status\": \"Medium\"}, {\"LOCATION\": \"CRI\", \"TIME\": 2006, \"Value\": 28.19843139, \"Time\": \"2006-01-01T00:00:00\", \"Country\": \"Costa Rica\", \"Status\": \"Medium\"}, {\"LOCATION\": \"CRI\", \"TIME\": 2007, \"Value\": 31.62, \"Time\": \"2007-01-01T00:00:00\", \"Country\": \"Costa Rica\", \"Status\": \"Medium\"}, {\"LOCATION\": \"CRI\", \"TIME\": 2008, \"Value\": 34.429728999999995, \"Time\": \"2008-01-01T00:00:00\", \"Country\": \"Costa Rica\", \"Status\": \"Medium\"}, {\"LOCATION\": \"CRI\", \"TIME\": 2009, \"Value\": 38.00768838, \"Time\": \"2009-01-01T00:00:00\", \"Country\": \"Costa Rica\", \"Status\": \"Medium\"}, {\"LOCATION\": \"CRI\", \"TIME\": 2010, \"Value\": 41.27215501, \"Time\": \"2010-01-01T00:00:00\", \"Country\": \"Costa Rica\", \"Status\": \"Medium\"}, {\"LOCATION\": \"CRI\", \"TIME\": 2011, \"Value\": 45.34296914, \"Time\": \"2011-01-01T00:00:00\", \"Country\": \"Costa Rica\", \"Status\": \"Medium\"}, {\"LOCATION\": \"CRI\", \"TIME\": 2012, \"Value\": 48.96160325, \"Time\": \"2012-01-01T00:00:00\", \"Country\": \"Costa Rica\", \"Status\": \"Medium\"}, {\"LOCATION\": \"CRI\", \"TIME\": 2013, \"Value\": 51.00880095, \"Time\": \"2013-01-01T00:00:00\", \"Country\": \"Costa Rica\", \"Status\": \"Medium\"}, {\"LOCATION\": \"CRI\", \"TIME\": 2014, \"Value\": 52.30559341, \"Time\": \"2014-01-01T00:00:00\", \"Country\": \"Costa Rica\", \"Status\": \"Medium\"}, {\"LOCATION\": \"CRI\", \"TIME\": 2015, \"Value\": 53.2, \"Time\": \"2015-01-01T00:00:00\", \"Country\": \"Costa Rica\", \"Status\": \"Medium\"}, {\"LOCATION\": \"CRI\", \"TIME\": 2016, \"Value\": 51.7, \"Time\": \"2016-01-01T00:00:00\", \"Country\": \"Costa Rica\", \"Status\": \"Medium\"}, {\"LOCATION\": \"CRI\", \"TIME\": 2017, \"Value\": 51.0, \"Time\": \"2017-01-01T00:00:00\", \"Country\": \"Costa Rica\", \"Status\": \"Medium\"}, {\"LOCATION\": \"CRI\", \"TIME\": 2018, \"Value\": 50.42008949, \"Time\": \"2018-01-01T00:00:00\", \"Country\": \"Costa Rica\", \"Status\": \"Medium\"}, {\"LOCATION\": \"CRI\", \"TIME\": 2019, \"Value\": 49.93197779, \"Time\": \"2019-01-01T00:00:00\", \"Country\": \"Costa Rica\", \"Status\": \"Medium\"}], \"data-2d61269728defb6ba3e41ad686f2ba25\": [{\"Time\": 2006, \"PredValue\": 76.40800139036446}, {\"Time\": 2007, \"PredValue\": 77.5736998799207}, {\"Time\": 2008, \"PredValue\": 78.73939836947693}, {\"Time\": 2009, \"PredValue\": 79.90509685903316}, {\"Time\": 2010, \"PredValue\": 81.0707953485894}, {\"Time\": 2011, \"PredValue\": 82.23649383814563}, {\"Time\": 2012, \"PredValue\": 83.40219232770187}, {\"Time\": 2013, \"PredValue\": 84.5678908172581}, {\"Time\": 2015, \"PredValue\": 86.89928779637057}, {\"Time\": 2017, \"PredValue\": 89.23068477548304}, {\"Time\": 2006, \"PredValue\": 76.40800139036446}, {\"Time\": 2007, \"PredValue\": 77.5736998799207}, {\"Time\": 2008, \"PredValue\": 78.73939836947693}, {\"Time\": 2009, \"PredValue\": 79.90509685903316}, {\"Time\": 2010, \"PredValue\": 81.0707953485894}, {\"Time\": 2011, \"PredValue\": 82.23649383814563}, {\"Time\": 2012, \"PredValue\": 83.40219232770187}, {\"Time\": 2013, \"PredValue\": 84.5678908172581}, {\"Time\": 2015, \"PredValue\": 86.89928779637057}, {\"Time\": 2017, \"PredValue\": 89.23068477548304}, {\"Time\": 2006, \"PredValue\": 76.40800139036446}, {\"Time\": 2007, \"PredValue\": 77.5736998799207}, {\"Time\": 2008, \"PredValue\": 78.73939836947693}, {\"Time\": 2009, \"PredValue\": 79.90509685903316}, {\"Time\": 2010, \"PredValue\": 81.0707953485894}, {\"Time\": 2011, \"PredValue\": 82.23649383814563}, {\"Time\": 2012, \"PredValue\": 83.40219232770187}, {\"Time\": 2013, \"PredValue\": 84.5678908172581}, {\"Time\": 2017, \"PredValue\": 89.23068477548304}, {\"Time\": 2005, \"PredValue\": 75.24230290080823}, {\"Time\": 2006, \"PredValue\": 76.40800139036446}, {\"Time\": 2007, \"PredValue\": 77.5736998799207}, {\"Time\": 2008, \"PredValue\": 78.73939836947693}, {\"Time\": 2009, \"PredValue\": 79.90509685903316}, {\"Time\": 2010, \"PredValue\": 81.0707953485894}, {\"Time\": 2011, \"PredValue\": 82.23649383814563}, {\"Time\": 2012, \"PredValue\": 83.40219232770187}, {\"Time\": 2013, \"PredValue\": 84.5678908172581}, {\"Time\": 2014, \"PredValue\": 85.73358930681434}, {\"Time\": 2015, \"PredValue\": 86.89928779637057}, {\"Time\": 2016, \"PredValue\": 88.0649862859268}, {\"Time\": 2017, \"PredValue\": 89.23068477548304}, {\"Time\": 2018, \"PredValue\": 90.39638326503928}, {\"Time\": 2006, \"PredValue\": 76.40800139036446}, {\"Time\": 2007, \"PredValue\": 77.5736998799207}, {\"Time\": 2008, \"PredValue\": 78.73939836947693}, {\"Time\": 2009, \"PredValue\": 79.90509685903316}, {\"Time\": 2010, \"PredValue\": 81.0707953485894}, {\"Time\": 2011, \"PredValue\": 82.23649383814563}, {\"Time\": 2012, \"PredValue\": 83.40219232770187}, {\"Time\": 2013, \"PredValue\": 84.5678908172581}, {\"Time\": 2015, \"PredValue\": 86.89928779637057}, {\"Time\": 2017, \"PredValue\": 89.23068477548304}, {\"Time\": 2006, \"PredValue\": 76.40800139036446}, {\"Time\": 2007, \"PredValue\": 77.5736998799207}, {\"Time\": 2008, \"PredValue\": 78.73939836947693}, {\"Time\": 2009, \"PredValue\": 79.90509685903316}, {\"Time\": 2010, \"PredValue\": 81.0707953485894}, {\"Time\": 2011, \"PredValue\": 82.23649383814563}, {\"Time\": 2012, \"PredValue\": 83.40219232770187}, {\"Time\": 2013, \"PredValue\": 84.5678908172581}, {\"Time\": 2015, \"PredValue\": 86.89928779637057}, {\"Time\": 2017, \"PredValue\": 89.23068477548304}, {\"Time\": 2006, \"PredValue\": 76.40800139036446}, {\"Time\": 2007, \"PredValue\": 77.5736998799207}, {\"Time\": 2008, \"PredValue\": 78.73939836947693}, {\"Time\": 2009, \"PredValue\": 79.90509685903316}, {\"Time\": 2010, \"PredValue\": 81.0707953485894}, {\"Time\": 2011, \"PredValue\": 82.23649383814563}, {\"Time\": 2012, \"PredValue\": 83.40219232770187}, {\"Time\": 2013, \"PredValue\": 84.5678908172581}, {\"Time\": 2015, \"PredValue\": 86.89928779637057}, {\"Time\": 2017, \"PredValue\": 89.23068477548304}, {\"Time\": 2005, \"PredValue\": 75.24230290080823}, {\"Time\": 2006, \"PredValue\": 76.40800139036446}, {\"Time\": 2007, \"PredValue\": 77.5736998799207}, {\"Time\": 2008, \"PredValue\": 78.73939836947693}, {\"Time\": 2010, \"PredValue\": 81.0707953485894}, {\"Time\": 2014, \"PredValue\": 85.73358930681434}, {\"Time\": 2016, \"PredValue\": 88.0649862859268}, {\"Time\": 2005, \"PredValue\": 75.24230290080823}, {\"Time\": 2006, \"PredValue\": 76.40800139036446}, {\"Time\": 2007, \"PredValue\": 77.5736998799207}, {\"Time\": 2008, \"PredValue\": 78.73939836947693}, {\"Time\": 2009, \"PredValue\": 79.90509685903316}, {\"Time\": 2013, \"PredValue\": 84.5678908172581}, {\"Time\": 2006, \"PredValue\": 76.40800139036446}, {\"Time\": 2007, \"PredValue\": 77.5736998799207}, {\"Time\": 2008, \"PredValue\": 78.73939836947693}, {\"Time\": 2009, \"PredValue\": 79.90509685903316}, {\"Time\": 2010, \"PredValue\": 81.0707953485894}, {\"Time\": 2011, \"PredValue\": 82.23649383814563}, {\"Time\": 2012, \"PredValue\": 83.40219232770187}, {\"Time\": 2013, \"PredValue\": 84.5678908172581}, {\"Time\": 2015, \"PredValue\": 86.89928779637057}, {\"Time\": 2017, \"PredValue\": 89.23068477548304}, {\"Time\": 2006, \"PredValue\": 76.40800139036446}, {\"Time\": 2007, \"PredValue\": 77.5736998799207}, {\"Time\": 2008, \"PredValue\": 78.73939836947693}, {\"Time\": 2009, \"PredValue\": 79.90509685903316}, {\"Time\": 2010, \"PredValue\": 81.0707953485894}, {\"Time\": 2011, \"PredValue\": 82.23649383814563}, {\"Time\": 2012, \"PredValue\": 83.40219232770187}, {\"Time\": 2013, \"PredValue\": 84.5678908172581}, {\"Time\": 2015, \"PredValue\": 86.89928779637057}, {\"Time\": 2017, \"PredValue\": 89.23068477548304}, {\"Time\": 2005, \"PredValue\": 75.24230290080823}, {\"Time\": 2006, \"PredValue\": 76.40800139036446}, {\"Time\": 2007, \"PredValue\": 77.5736998799207}, {\"Time\": 2008, \"PredValue\": 78.73939836947693}, {\"Time\": 2009, \"PredValue\": 79.90509685903316}, {\"Time\": 2010, \"PredValue\": 81.0707953485894}, {\"Time\": 2011, \"PredValue\": 82.23649383814563}, {\"Time\": 2012, \"PredValue\": 83.40219232770187}, {\"Time\": 2013, \"PredValue\": 84.5678908172581}, {\"Time\": 2014, \"PredValue\": 85.73358930681434}, {\"Time\": 2005, \"PredValue\": 75.24230290080823}, {\"Time\": 2006, \"PredValue\": 76.40800139036446}, {\"Time\": 2007, \"PredValue\": 77.5736998799207}, {\"Time\": 2008, \"PredValue\": 78.73939836947693}, {\"Time\": 2009, \"PredValue\": 79.90509685903316}, {\"Time\": 2010, \"PredValue\": 81.0707953485894}, {\"Time\": 2011, \"PredValue\": 82.23649383814563}, {\"Time\": 2012, \"PredValue\": 83.40219232770187}, {\"Time\": 2013, \"PredValue\": 84.5678908172581}, {\"Time\": 2014, \"PredValue\": 85.73358930681434}, {\"Time\": 2015, \"PredValue\": 86.89928779637057}, {\"Time\": 2016, \"PredValue\": 88.0649862859268}, {\"Time\": 2017, \"PredValue\": 89.23068477548304}, {\"Time\": 2006, \"PredValue\": 76.40800139036446}, {\"Time\": 2007, \"PredValue\": 77.5736998799207}, {\"Time\": 2008, \"PredValue\": 78.73939836947693}, {\"Time\": 2009, \"PredValue\": 79.90509685903316}, {\"Time\": 2010, \"PredValue\": 81.0707953485894}, {\"Time\": 2011, \"PredValue\": 82.23649383814563}, {\"Time\": 2012, \"PredValue\": 83.40219232770187}, {\"Time\": 2013, \"PredValue\": 84.5678908172581}, {\"Time\": 2015, \"PredValue\": 86.89928779637057}, {\"Time\": 2017, \"PredValue\": 89.23068477548304}, {\"Time\": 2006, \"PredValue\": 76.40800139036446}, {\"Time\": 2007, \"PredValue\": 77.5736998799207}, {\"Time\": 2008, \"PredValue\": 78.73939836947693}, {\"Time\": 2009, \"PredValue\": 79.90509685903316}, {\"Time\": 2010, \"PredValue\": 81.0707953485894}, {\"Time\": 2011, \"PredValue\": 82.23649383814563}, {\"Time\": 2012, \"PredValue\": 83.40219232770187}, {\"Time\": 2013, \"PredValue\": 84.5678908172581}, {\"Time\": 2015, \"PredValue\": 86.89928779637057}, {\"Time\": 2017, \"PredValue\": 89.23068477548304}, {\"Time\": 2006, \"PredValue\": 76.40800139036446}, {\"Time\": 2007, \"PredValue\": 77.5736998799207}, {\"Time\": 2008, \"PredValue\": 78.73939836947693}, {\"Time\": 2009, \"PredValue\": 79.90509685903316}, {\"Time\": 2010, \"PredValue\": 81.0707953485894}, {\"Time\": 2011, \"PredValue\": 82.23649383814563}, {\"Time\": 2012, \"PredValue\": 83.40219232770187}, {\"Time\": 2013, \"PredValue\": 84.5678908172581}, {\"Time\": 2015, \"PredValue\": 86.89928779637057}, {\"Time\": 2017, \"PredValue\": 89.23068477548304}, {\"Time\": 2006, \"PredValue\": 76.40800139036446}, {\"Time\": 2009, \"PredValue\": 79.90509685903316}, {\"Time\": 2012, \"PredValue\": 83.40219232770187}], \"data-c13598618a4fffa07685ffa8bcb00751\": [{\"Time\": 2007, \"PredValue\": 52.767144974126495}, {\"Time\": 2008, \"PredValue\": 55.2920242200953}, {\"Time\": 2009, \"PredValue\": 57.816903466064105}, {\"Time\": 2010, \"PredValue\": 60.34178271203291}, {\"Time\": 2011, \"PredValue\": 62.866661958001714}, {\"Time\": 2012, \"PredValue\": 65.39154120396961}, {\"Time\": 2013, \"PredValue\": 67.91642044993841}, {\"Time\": 2015, \"PredValue\": 72.96617894187602}, {\"Time\": 2017, \"PredValue\": 78.01593743381363}, {\"Time\": 2006, \"PredValue\": 50.24226572815769}, {\"Time\": 2007, \"PredValue\": 52.767144974126495}, {\"Time\": 2008, \"PredValue\": 55.2920242200953}, {\"Time\": 2009, \"PredValue\": 57.816903466064105}, {\"Time\": 2010, \"PredValue\": 60.34178271203291}, {\"Time\": 2011, \"PredValue\": 62.866661958001714}, {\"Time\": 2012, \"PredValue\": 65.39154120396961}, {\"Time\": 2013, \"PredValue\": 67.91642044993841}, {\"Time\": 2015, \"PredValue\": 72.96617894187602}, {\"Time\": 2017, \"PredValue\": 78.01593743381363}, {\"Time\": 2006, \"PredValue\": 50.24226572815769}, {\"Time\": 2007, \"PredValue\": 52.767144974126495}, {\"Time\": 2008, \"PredValue\": 55.2920242200953}, {\"Time\": 2009, \"PredValue\": 57.816903466064105}, {\"Time\": 2010, \"PredValue\": 60.34178271203291}, {\"Time\": 2011, \"PredValue\": 62.866661958001714}, {\"Time\": 2012, \"PredValue\": 65.39154120396961}, {\"Time\": 2013, \"PredValue\": 67.91642044993841}, {\"Time\": 2015, \"PredValue\": 72.96617894187602}, {\"Time\": 2017, \"PredValue\": 78.01593743381363}, {\"Time\": 2006, \"PredValue\": 50.24226572815769}, {\"Time\": 2007, \"PredValue\": 52.767144974126495}, {\"Time\": 2008, \"PredValue\": 55.2920242200953}, {\"Time\": 2009, \"PredValue\": 57.816903466064105}, {\"Time\": 2010, \"PredValue\": 60.34178271203291}, {\"Time\": 2011, \"PredValue\": 62.866661958001714}, {\"Time\": 2012, \"PredValue\": 65.39154120396961}, {\"Time\": 2013, \"PredValue\": 67.91642044993841}, {\"Time\": 2015, \"PredValue\": 72.96617894187602}, {\"Time\": 2017, \"PredValue\": 78.01593743381363}, {\"Time\": 2007, \"PredValue\": 52.767144974126495}, {\"Time\": 2008, \"PredValue\": 55.2920242200953}, {\"Time\": 2009, \"PredValue\": 57.816903466064105}, {\"Time\": 2010, \"PredValue\": 60.34178271203291}, {\"Time\": 2012, \"PredValue\": 65.39154120396961}, {\"Time\": 2013, \"PredValue\": 67.91642044993841}, {\"Time\": 2015, \"PredValue\": 72.96617894187602}, {\"Time\": 2017, \"PredValue\": 78.01593743381363}, {\"Time\": 2006, \"PredValue\": 50.24226572815769}, {\"Time\": 2009, \"PredValue\": 57.816903466064105}, {\"Time\": 2012, \"PredValue\": 65.39154120396961}, {\"Time\": 2013, \"PredValue\": 67.91642044993841}, {\"Time\": 2014, \"PredValue\": 70.44129969590722}, {\"Time\": 2015, \"PredValue\": 72.96617894187602}, {\"Time\": 2016, \"PredValue\": 75.49105818784483}, {\"Time\": 2017, \"PredValue\": 78.01593743381363}, {\"Time\": 2006, \"PredValue\": 50.24226572815769}, {\"Time\": 2007, \"PredValue\": 52.767144974126495}, {\"Time\": 2008, \"PredValue\": 55.2920242200953}, {\"Time\": 2009, \"PredValue\": 57.816903466064105}, {\"Time\": 2010, \"PredValue\": 60.34178271203291}, {\"Time\": 2011, \"PredValue\": 62.866661958001714}, {\"Time\": 2012, \"PredValue\": 65.39154120396961}, {\"Time\": 2013, \"PredValue\": 67.91642044993841}, {\"Time\": 2015, \"PredValue\": 72.96617894187602}, {\"Time\": 2017, \"PredValue\": 78.01593743381363}, {\"Time\": 2006, \"PredValue\": 50.24226572815769}, {\"Time\": 2007, \"PredValue\": 52.767144974126495}, {\"Time\": 2008, \"PredValue\": 55.2920242200953}, {\"Time\": 2009, \"PredValue\": 57.816903466064105}, {\"Time\": 2010, \"PredValue\": 60.34178271203291}, {\"Time\": 2011, \"PredValue\": 62.866661958001714}, {\"Time\": 2012, \"PredValue\": 65.39154120396961}, {\"Time\": 2013, \"PredValue\": 67.91642044993841}, {\"Time\": 2015, \"PredValue\": 72.96617894187602}, {\"Time\": 2017, \"PredValue\": 78.01593743381363}, {\"Time\": 2006, \"PredValue\": 50.24226572815769}, {\"Time\": 2007, \"PredValue\": 52.767144974126495}, {\"Time\": 2008, \"PredValue\": 55.2920242200953}, {\"Time\": 2009, \"PredValue\": 57.816903466064105}, {\"Time\": 2010, \"PredValue\": 60.34178271203291}, {\"Time\": 2011, \"PredValue\": 62.866661958001714}, {\"Time\": 2012, \"PredValue\": 65.39154120396961}, {\"Time\": 2013, \"PredValue\": 67.91642044993841}, {\"Time\": 2015, \"PredValue\": 72.96617894187602}, {\"Time\": 2017, \"PredValue\": 78.01593743381363}, {\"Time\": 2006, \"PredValue\": 50.24226572815769}, {\"Time\": 2007, \"PredValue\": 52.767144974126495}, {\"Time\": 2008, \"PredValue\": 55.2920242200953}, {\"Time\": 2009, \"PredValue\": 57.816903466064105}, {\"Time\": 2010, \"PredValue\": 60.34178271203291}, {\"Time\": 2011, \"PredValue\": 62.866661958001714}, {\"Time\": 2012, \"PredValue\": 65.39154120396961}, {\"Time\": 2013, \"PredValue\": 67.91642044993841}, {\"Time\": 2015, \"PredValue\": 72.96617894187602}, {\"Time\": 2017, \"PredValue\": 78.01593743381363}, {\"Time\": 2006, \"PredValue\": 50.24226572815769}, {\"Time\": 2007, \"PredValue\": 52.767144974126495}, {\"Time\": 2008, \"PredValue\": 55.2920242200953}, {\"Time\": 2009, \"PredValue\": 57.816903466064105}, {\"Time\": 2010, \"PredValue\": 60.34178271203291}, {\"Time\": 2011, \"PredValue\": 62.866661958001714}, {\"Time\": 2012, \"PredValue\": 65.39154120396961}, {\"Time\": 2013, \"PredValue\": 67.91642044993841}, {\"Time\": 2015, \"PredValue\": 72.96617894187602}, {\"Time\": 2017, \"PredValue\": 78.01593743381363}, {\"Time\": 2006, \"PredValue\": 50.24226572815769}, {\"Time\": 2007, \"PredValue\": 52.767144974126495}, {\"Time\": 2008, \"PredValue\": 55.2920242200953}, {\"Time\": 2009, \"PredValue\": 57.816903466064105}, {\"Time\": 2010, \"PredValue\": 60.34178271203291}, {\"Time\": 2011, \"PredValue\": 62.866661958001714}, {\"Time\": 2012, \"PredValue\": 65.39154120396961}, {\"Time\": 2013, \"PredValue\": 67.91642044993841}, {\"Time\": 2015, \"PredValue\": 72.96617894187602}, {\"Time\": 2017, \"PredValue\": 78.01593743381363}, {\"Time\": 2006, \"PredValue\": 50.24226572815769}, {\"Time\": 2007, \"PredValue\": 52.767144974126495}, {\"Time\": 2008, \"PredValue\": 55.2920242200953}, {\"Time\": 2009, \"PredValue\": 57.816903466064105}, {\"Time\": 2010, \"PredValue\": 60.34178271203291}, {\"Time\": 2011, \"PredValue\": 62.866661958001714}, {\"Time\": 2012, \"PredValue\": 65.39154120396961}, {\"Time\": 2013, \"PredValue\": 67.91642044993841}, {\"Time\": 2015, \"PredValue\": 72.96617894187602}, {\"Time\": 2017, \"PredValue\": 78.01593743381363}], \"data-bee3333657294751dfcc77c0e7e3029c\": [{\"Time\": 2005, \"PredValue\": 22.837471631893095}, {\"Time\": 2006, \"PredValue\": 24.901371039835794}, {\"Time\": 2007, \"PredValue\": 26.965270447777584}, {\"Time\": 2008, \"PredValue\": 29.029169855720284}, {\"Time\": 2009, \"PredValue\": 31.093069263662073}, {\"Time\": 2010, \"PredValue\": 33.15696867160477}, {\"Time\": 2011, \"PredValue\": 35.22086807954656}, {\"Time\": 2012, \"PredValue\": 37.28476748748926}, {\"Time\": 2013, \"PredValue\": 39.34866689543105}, {\"Time\": 2014, \"PredValue\": 41.41256630337375}, {\"Time\": 2015, \"PredValue\": 43.47646571131554}, {\"Time\": 2016, \"PredValue\": 45.54036511925824}, {\"Time\": 2017, \"PredValue\": 47.60426452720003}, {\"Time\": 2018, \"PredValue\": 49.66816393514273}, {\"Time\": 2019, \"PredValue\": 51.73206334308452}, {\"Time\": 2008, \"PredValue\": 29.029169855720284}, {\"Time\": 2009, \"PredValue\": 31.093069263662073}, {\"Time\": 2010, \"PredValue\": 33.15696867160477}, {\"Time\": 2011, \"PredValue\": 35.22086807954656}, {\"Time\": 2012, \"PredValue\": 37.28476748748926}, {\"Time\": 2013, \"PredValue\": 39.34866689543105}, {\"Time\": 2014, \"PredValue\": 41.41256630337375}, {\"Time\": 2015, \"PredValue\": 43.47646571131554}, {\"Time\": 2016, \"PredValue\": 45.54036511925824}, {\"Time\": 2017, \"PredValue\": 47.60426452720003}, {\"Time\": 2018, \"PredValue\": 49.66816393514273}, {\"Time\": 2019, \"PredValue\": 51.73206334308452}, {\"Time\": 2008, \"PredValue\": 29.029169855720284}, {\"Time\": 2009, \"PredValue\": 31.093069263662073}, {\"Time\": 2010, \"PredValue\": 33.15696867160477}, {\"Time\": 2011, \"PredValue\": 35.22086807954656}, {\"Time\": 2012, \"PredValue\": 37.28476748748926}, {\"Time\": 2013, \"PredValue\": 39.34866689543105}, {\"Time\": 2014, \"PredValue\": 41.41256630337375}, {\"Time\": 2015, \"PredValue\": 43.47646571131554}, {\"Time\": 2016, \"PredValue\": 45.54036511925824}, {\"Time\": 2018, \"PredValue\": 49.66816393514273}, {\"Time\": 2005, \"PredValue\": 22.837471631893095}, {\"Time\": 2006, \"PredValue\": 24.901371039835794}, {\"Time\": 2007, \"PredValue\": 26.965270447777584}, {\"Time\": 2008, \"PredValue\": 29.029169855720284}, {\"Time\": 2009, \"PredValue\": 31.093069263662073}, {\"Time\": 2010, \"PredValue\": 33.15696867160477}, {\"Time\": 2011, \"PredValue\": 35.22086807954656}, {\"Time\": 2012, \"PredValue\": 37.28476748748926}, {\"Time\": 2013, \"PredValue\": 39.34866689543105}, {\"Time\": 2014, \"PredValue\": 41.41256630337375}, {\"Time\": 2015, \"PredValue\": 43.47646571131554}, {\"Time\": 2016, \"PredValue\": 45.54036511925824}, {\"Time\": 2017, \"PredValue\": 47.60426452720003}, {\"Time\": 2018, \"PredValue\": 49.66816393514273}, {\"Time\": 2019, \"PredValue\": 51.73206334308452}]}}, {\"mode\": \"vega-lite\"});\n",
       "</script>"
      ],
      "text/plain": [
       "alt.LayerChart(...)"
      ]
     },
     "execution_count": 487,
     "metadata": {},
     "output_type": "execute_result"
    }
   ],
   "source": [
    "alt.Chart(comp_new_2).mark_point().encode(x='Time',y='Value',color='Status')+alt.Chart(\n",
    "    high_df).mark_line(color='blue').encode(x=alt.X('Time',axis=None)\n",
    "                                            ,y='PredValue')+alt.Chart(\n",
    "    medhigh_df).mark_line(color='red').encode(x=alt.X('Time',axis=None)\n",
    "                                              ,y='PredValue')+alt.Chart(\n",
    "    medium_df).mark_line(color='orange').encode(x=alt.X('Time',axis=None)\n",
    "                                                ,y='PredValue')"
   ]
  },
  {
   "cell_type": "markdown",
   "metadata": {},
   "source": [
    "Now, it seems like groups in the medium to medium-high groups are seeing much larger improvements in the rates of access. This is expected since groups with higher access will have less room to improve. Let's look next at the change over the timeseries for each of the countries:\n",
    "\n",
    "- I first create empty list for mininum and max values and an array of unique countries in the dataframe\n",
    "- Then, look for the maximum and minimum year for each of the countries\n",
    "- Lastly, I append the lists with the values for the minimum and maximum year\n",
    "\n",
    "This will enable me to find the first value observation and last value observation of the set since not all of them have the same start and finish:"
   ]
  },
  {
   "cell_type": "code",
   "execution_count": 490,
   "metadata": {},
   "outputs": [
    {
     "data": {
      "text/html": [
       "<div>\n",
       "<style scoped>\n",
       "    .dataframe tbody tr th:only-of-type {\n",
       "        vertical-align: middle;\n",
       "    }\n",
       "\n",
       "    .dataframe tbody tr th {\n",
       "        vertical-align: top;\n",
       "    }\n",
       "\n",
       "    .dataframe thead th {\n",
       "        text-align: right;\n",
       "    }\n",
       "</style>\n",
       "<table border=\"1\" class=\"dataframe\">\n",
       "  <thead>\n",
       "    <tr style=\"text-align: right;\">\n",
       "      <th></th>\n",
       "      <th>Country</th>\n",
       "      <th>min</th>\n",
       "      <th>max</th>\n",
       "      <th>status</th>\n",
       "    </tr>\n",
       "  </thead>\n",
       "  <tbody>\n",
       "    <tr>\n",
       "      <th>0</th>\n",
       "      <td>Denmark</td>\n",
       "      <td>84.9749</td>\n",
       "      <td>93.136890</td>\n",
       "      <td>High</td>\n",
       "    </tr>\n",
       "    <tr>\n",
       "      <th>1</th>\n",
       "      <td>Germany</td>\n",
       "      <td>76.8558</td>\n",
       "      <td>92.865556</td>\n",
       "      <td>High</td>\n",
       "    </tr>\n",
       "    <tr>\n",
       "      <th>2</th>\n",
       "      <td>Iceland</td>\n",
       "      <td>84.6127</td>\n",
       "      <td>97.297245</td>\n",
       "      <td>High</td>\n",
       "    </tr>\n",
       "    <tr>\n",
       "      <th>3</th>\n",
       "      <td>Japan</td>\n",
       "      <td>80.5000</td>\n",
       "      <td>74.000000</td>\n",
       "      <td>High</td>\n",
       "    </tr>\n",
       "    <tr>\n",
       "      <th>4</th>\n",
       "      <td>France</td>\n",
       "      <td>65.5494</td>\n",
       "      <td>84.124964</td>\n",
       "      <td>Medium-High</td>\n",
       "    </tr>\n",
       "    <tr>\n",
       "      <th>5</th>\n",
       "      <td>Hungary</td>\n",
       "      <td>48.8040</td>\n",
       "      <td>79.674757</td>\n",
       "      <td>Medium-High</td>\n",
       "    </tr>\n",
       "    <tr>\n",
       "      <th>6</th>\n",
       "      <td>Slovenia</td>\n",
       "      <td>65.2631</td>\n",
       "      <td>79.503036</td>\n",
       "      <td>High</td>\n",
       "    </tr>\n",
       "    <tr>\n",
       "      <th>7</th>\n",
       "      <td>Austria</td>\n",
       "      <td>67.0669</td>\n",
       "      <td>85.373276</td>\n",
       "      <td>High</td>\n",
       "    </tr>\n",
       "    <tr>\n",
       "      <th>8</th>\n",
       "      <td>Poland</td>\n",
       "      <td>45.4124</td>\n",
       "      <td>81.776947</td>\n",
       "      <td>Medium-High</td>\n",
       "    </tr>\n",
       "    <tr>\n",
       "      <th>9</th>\n",
       "      <td>Spain</td>\n",
       "      <td>55.8676</td>\n",
       "      <td>78.385013</td>\n",
       "      <td>Medium-High</td>\n",
       "    </tr>\n",
       "  </tbody>\n",
       "</table>\n",
       "</div>"
      ],
      "text/plain": [
       "    Country      min        max       status\n",
       "0   Denmark  84.9749  93.136890         High\n",
       "1   Germany  76.8558  92.865556         High\n",
       "2   Iceland  84.6127  97.297245         High\n",
       "3     Japan  80.5000  74.000000         High\n",
       "4    France  65.5494  84.124964  Medium-High\n",
       "5   Hungary  48.8040  79.674757  Medium-High\n",
       "6  Slovenia  65.2631  79.503036         High\n",
       "7   Austria  67.0669  85.373276         High\n",
       "8    Poland  45.4124  81.776947  Medium-High\n",
       "9     Spain  55.8676  78.385013  Medium-High"
      ]
     },
     "execution_count": 490,
     "metadata": {},
     "output_type": "execute_result"
    }
   ],
   "source": [
    "listmax=[]\n",
    "listmin=[]\n",
    "liststatus=[]\n",
    "unique_loc=comp_new_2.Country.unique()\n",
    "for i in unique_loc:\n",
    "    x=comp_new_2.loc[comp_new_2.Country==i,[\"TIME\"]].max().TIME\n",
    "    y=comp_new_2.loc[comp_new_2.Country==i,[\"TIME\"]].min().TIME\n",
    "    to_append_max=comp_new_2.loc[(comp_new_2.Country==i)& (comp_new_2.TIME==x),:].Value.values[0]\n",
    "    to_append_min=comp_new_2.loc[(comp_new_2.Country==i)& (comp_new_2.TIME==y),:].Value.values[0]\n",
    "    to_append_status=comp_new_2.loc[(comp_new_2.Country==i)& (comp_new_2.TIME==y),:].Status.values[0]\n",
    "    listmax.append(to_append_max)\n",
    "    listmin.append(to_append_min)\n",
    "    liststatus.append(to_append_status)\n",
    "    \n",
    "comp_new_3=pd.DataFrame({'Country':unique_loc,'min':listmin,'max':listmax,'status':liststatus})\n",
    "comp_new_3.head(10)"
   ]
  },
  {
   "cell_type": "markdown",
   "metadata": {},
   "source": [
    "Now that we have the min and max values for each country, we can calculate the difference, add back to this dataframe the Status of each country (*High, Medium-High, Medium*) and find the averages for each of the groups:"
   ]
  },
  {
   "cell_type": "code",
   "execution_count": 512,
   "metadata": {},
   "outputs": [
    {
     "data": {
      "text/html": [
       "<div>\n",
       "<style scoped>\n",
       "    .dataframe tbody tr th:only-of-type {\n",
       "        vertical-align: middle;\n",
       "    }\n",
       "\n",
       "    .dataframe tbody tr th {\n",
       "        vertical-align: top;\n",
       "    }\n",
       "\n",
       "    .dataframe thead th {\n",
       "        text-align: right;\n",
       "    }\n",
       "</style>\n",
       "<table border=\"1\" class=\"dataframe\">\n",
       "  <thead>\n",
       "    <tr style=\"text-align: right;\">\n",
       "      <th></th>\n",
       "      <th>Country</th>\n",
       "      <th>min</th>\n",
       "      <th>max</th>\n",
       "      <th>status</th>\n",
       "      <th>diff</th>\n",
       "    </tr>\n",
       "  </thead>\n",
       "  <tbody>\n",
       "    <tr>\n",
       "      <th>0</th>\n",
       "      <td>Denmark</td>\n",
       "      <td>84.9749</td>\n",
       "      <td>93.136890</td>\n",
       "      <td>High</td>\n",
       "      <td>8.161990</td>\n",
       "    </tr>\n",
       "    <tr>\n",
       "      <th>1</th>\n",
       "      <td>Germany</td>\n",
       "      <td>76.8558</td>\n",
       "      <td>92.865556</td>\n",
       "      <td>High</td>\n",
       "      <td>16.009756</td>\n",
       "    </tr>\n",
       "    <tr>\n",
       "      <th>2</th>\n",
       "      <td>Iceland</td>\n",
       "      <td>84.6127</td>\n",
       "      <td>97.297245</td>\n",
       "      <td>High</td>\n",
       "      <td>12.684545</td>\n",
       "    </tr>\n",
       "    <tr>\n",
       "      <th>3</th>\n",
       "      <td>Japan</td>\n",
       "      <td>80.5000</td>\n",
       "      <td>74.000000</td>\n",
       "      <td>High</td>\n",
       "      <td>-6.500000</td>\n",
       "    </tr>\n",
       "    <tr>\n",
       "      <th>4</th>\n",
       "      <td>France</td>\n",
       "      <td>65.5494</td>\n",
       "      <td>84.124964</td>\n",
       "      <td>Medium-High</td>\n",
       "      <td>18.575564</td>\n",
       "    </tr>\n",
       "  </tbody>\n",
       "</table>\n",
       "</div>"
      ],
      "text/plain": [
       "   Country      min        max       status       diff\n",
       "0  Denmark  84.9749  93.136890         High   8.161990\n",
       "1  Germany  76.8558  92.865556         High  16.009756\n",
       "2  Iceland  84.6127  97.297245         High  12.684545\n",
       "3    Japan  80.5000  74.000000         High  -6.500000\n",
       "4   France  65.5494  84.124964  Medium-High  18.575564"
      ]
     },
     "execution_count": 512,
     "metadata": {},
     "output_type": "execute_result"
    }
   ],
   "source": [
    "comp_new_3['diff']=comp_new_3['max']-comp_new_3['min']\n",
    "comp_new_3.head(5)"
   ]
  },
  {
   "cell_type": "code",
   "execution_count": 513,
   "metadata": {},
   "outputs": [
    {
     "data": {
      "text/html": [
       "\n",
       "<div id=\"altair-viz-a177086002ac46c9ad71d1dd99c5d453\"></div>\n",
       "<script type=\"text/javascript\">\n",
       "  (function(spec, embedOpt){\n",
       "    let outputDiv = document.currentScript.previousElementSibling;\n",
       "    if (outputDiv.id !== \"altair-viz-a177086002ac46c9ad71d1dd99c5d453\") {\n",
       "      outputDiv = document.getElementById(\"altair-viz-a177086002ac46c9ad71d1dd99c5d453\");\n",
       "    }\n",
       "    const paths = {\n",
       "      \"vega\": \"https://cdn.jsdelivr.net/npm//vega@5?noext\",\n",
       "      \"vega-lib\": \"https://cdn.jsdelivr.net/npm//vega-lib?noext\",\n",
       "      \"vega-lite\": \"https://cdn.jsdelivr.net/npm//vega-lite@4.8.1?noext\",\n",
       "      \"vega-embed\": \"https://cdn.jsdelivr.net/npm//vega-embed@6?noext\",\n",
       "    };\n",
       "\n",
       "    function loadScript(lib) {\n",
       "      return new Promise(function(resolve, reject) {\n",
       "        var s = document.createElement('script');\n",
       "        s.src = paths[lib];\n",
       "        s.async = true;\n",
       "        s.onload = () => resolve(paths[lib]);\n",
       "        s.onerror = () => reject(`Error loading script: ${paths[lib]}`);\n",
       "        document.getElementsByTagName(\"head\")[0].appendChild(s);\n",
       "      });\n",
       "    }\n",
       "\n",
       "    function showError(err) {\n",
       "      outputDiv.innerHTML = `<div class=\"error\" style=\"color:red;\">${err}</div>`;\n",
       "      throw err;\n",
       "    }\n",
       "\n",
       "    function displayChart(vegaEmbed) {\n",
       "      vegaEmbed(outputDiv, spec, embedOpt)\n",
       "        .catch(err => showError(`Javascript Error: ${err.message}<br>This usually means there's a typo in your chart specification. See the javascript console for the full traceback.`));\n",
       "    }\n",
       "\n",
       "    if(typeof define === \"function\" && define.amd) {\n",
       "      requirejs.config({paths});\n",
       "      require([\"vega-embed\"], displayChart, err => showError(`Error loading script: ${err.message}`));\n",
       "    } else if (typeof vegaEmbed === \"function\") {\n",
       "      displayChart(vegaEmbed);\n",
       "    } else {\n",
       "      loadScript(\"vega\")\n",
       "        .then(() => loadScript(\"vega-lite\"))\n",
       "        .then(() => loadScript(\"vega-embed\"))\n",
       "        .catch(showError)\n",
       "        .then(() => displayChart(vegaEmbed));\n",
       "    }\n",
       "  })({\"config\": {\"view\": {\"continuousWidth\": 400, \"continuousHeight\": 300}}, \"data\": {\"name\": \"data-0c353e8a47d20c567b27a4eaf9c11efe\"}, \"mark\": \"boxplot\", \"encoding\": {\"x\": {\"type\": \"nominal\", \"field\": \"status\"}, \"y\": {\"type\": \"quantitative\", \"field\": \"diff\"}}, \"width\": 200, \"$schema\": \"https://vega.github.io/schema/vega-lite/v4.8.1.json\", \"datasets\": {\"data-0c353e8a47d20c567b27a4eaf9c11efe\": [{\"Country\": \"Denmark\", \"min\": 84.9749, \"max\": 93.13689000000001, \"status\": \"High\", \"diff\": 8.161990000000003}, {\"Country\": \"Germany\", \"min\": 76.8558, \"max\": 92.86555600000001, \"status\": \"High\", \"diff\": 16.00975600000001}, {\"Country\": \"Iceland\", \"min\": 84.6127, \"max\": 97.29724499999999, \"status\": \"High\", \"diff\": 12.684544999999986}, {\"Country\": \"Japan\", \"min\": 80.5, \"max\": 74.0, \"status\": \"High\", \"diff\": -6.5}, {\"Country\": \"France\", \"min\": 65.5494, \"max\": 84.124964, \"status\": \"Medium-High\", \"diff\": 18.575564}, {\"Country\": \"Hungary\", \"min\": 48.803999999999995, \"max\": 79.674757, \"status\": \"Medium-High\", \"diff\": 30.870757000000005}, {\"Country\": \"Slovenia\", \"min\": 65.2631, \"max\": 79.503036, \"status\": \"High\", \"diff\": 14.239936}, {\"Country\": \"Austria\", \"min\": 67.0669, \"max\": 85.373276, \"status\": \"High\", \"diff\": 18.306376}, {\"Country\": \"Poland\", \"min\": 45.4124, \"max\": 81.77694699999999, \"status\": \"Medium-High\", \"diff\": 36.364546999999995}, {\"Country\": \"Spain\", \"min\": 55.8676, \"max\": 78.385013, \"status\": \"Medium-High\", \"diff\": 22.517412999999998}, {\"Country\": \"Turkey\", \"min\": 27.3081, \"max\": 49.99992, \"status\": \"Medium-High\", \"diff\": 22.691820000000003}, {\"Country\": \"Chile\", \"min\": 34.5, \"max\": 60.15454498, \"status\": \"Medium-High\", \"diff\": 25.654544979999997}, {\"Country\": \"Greece\", \"min\": 36.7012, \"max\": 70.50049, \"status\": \"Medium-High\", \"diff\": 33.79929}, {\"Country\": \"Ireland\", \"min\": 58.5742, \"max\": 83.75783, \"status\": \"High\", \"diff\": 25.18363}, {\"Country\": \"Australia\", \"min\": 70.0, \"max\": 82.44, \"status\": \"High\", \"diff\": 12.439999999999998}, {\"Country\": \"Canada\", \"min\": 72.0, \"max\": 85.6, \"status\": \"High\", \"diff\": 13.599999999999994}, {\"Country\": \"Finland\", \"min\": 71.1027, \"max\": 93.49728, \"status\": \"High\", \"diff\": 22.394580000000005}, {\"Country\": \"Mexico\", \"min\": 18.56, \"max\": 44.34457378, \"status\": \"Medium\", \"diff\": 25.78457378}, {\"Country\": \"Norway\", \"min\": 75.3507, \"max\": 94.905746, \"status\": \"High\", \"diff\": 19.55504599999999}, {\"Country\": \"Slovakia\", \"min\": 50.0949, \"max\": 81.79907, \"status\": \"Medium-High\", \"diff\": 31.704169999999998}, {\"Country\": \"Switzerland\", \"min\": 76.5, \"max\": 90.25, \"status\": \"High\", \"diff\": 13.75}, {\"Country\": \"Brazil\", \"min\": 24.6, \"max\": 39.4, \"status\": \"Medium\", \"diff\": 14.799999999999997}, {\"Country\": \"Israel\", \"min\": 62.4, \"max\": 78.02, \"status\": \"High\", \"diff\": 15.619999999999997}, {\"Country\": \"Italy\", \"min\": 51.5822, \"max\": 72.50204699999999, \"status\": \"Medium-High\", \"diff\": 20.91984699999999}, {\"Country\": \"Luxembourg\", \"min\": 77.2517, \"max\": 95.44832, \"status\": \"High\", \"diff\": 18.196619999999996}, {\"Country\": \"Portugal\", \"min\": 45.5876, \"max\": 71.491176, \"status\": \"Medium-High\", \"diff\": 25.903575999999994}, {\"Country\": \"Estonia\", \"min\": 52.0362, \"max\": 86.90904, \"status\": \"Medium-High\", \"diff\": 34.872840000000004}, {\"Country\": \"Belgium\", \"min\": 57.5354, \"max\": 85.119057, \"status\": \"High\", \"diff\": 27.583656999999995}, {\"Country\": \"Sweden\", \"min\": 82.4821, \"max\": 92.81636999999999, \"status\": \"High\", \"diff\": 10.33426999999999}, {\"Country\": \"New Zealand\", \"min\": 72.0, \"max\": 78.0, \"status\": \"High\", \"diff\": 6.0}, {\"Country\": \"Latvia\", \"min\": 40.648, \"max\": 77.389836, \"status\": \"Medium-High\", \"diff\": 36.741836}, {\"Country\": \"Lithuania\", \"min\": 39.8406, \"max\": 73.00916, \"status\": \"Medium-High\", \"diff\": 33.16855999999999}, {\"Country\": \"Colombia\", \"min\": 13.12344786, \"max\": 41.60826519, \"status\": \"Medium\", \"diff\": 28.48481733}, {\"Country\": \"Costa Rica\", \"min\": 27.0, \"max\": 49.93197779, \"status\": \"Medium\", \"diff\": 22.931977789999998}]}}, {\"mode\": \"vega-lite\"});\n",
       "</script>"
      ],
      "text/plain": [
       "alt.Chart(...)"
      ]
     },
     "execution_count": 513,
     "metadata": {},
     "output_type": "execute_result"
    }
   ],
   "source": [
    "alt.Chart(comp_new_3).mark_boxplot().encode(x='status',y='diff').properties(width=200)"
   ]
  },
  {
   "cell_type": "markdown",
   "metadata": {},
   "source": [
    "As we saw before, the **Medium-High** countries did have the highest changes in access to computers at home over the time. It is interesting to see that **Japan** had a decrease over time. To finish up, I want to analyse this change in Japan closely and graphing the lines for each of the **Medium-High** countries:"
   ]
  },
  {
   "cell_type": "code",
   "execution_count": 511,
   "metadata": {},
   "outputs": [
    {
     "data": {
      "text/html": [
       "\n",
       "<div id=\"altair-viz-9d50d39b61f948849c8cfae43df2d3e1\"></div>\n",
       "<script type=\"text/javascript\">\n",
       "  (function(spec, embedOpt){\n",
       "    let outputDiv = document.currentScript.previousElementSibling;\n",
       "    if (outputDiv.id !== \"altair-viz-9d50d39b61f948849c8cfae43df2d3e1\") {\n",
       "      outputDiv = document.getElementById(\"altair-viz-9d50d39b61f948849c8cfae43df2d3e1\");\n",
       "    }\n",
       "    const paths = {\n",
       "      \"vega\": \"https://cdn.jsdelivr.net/npm//vega@5?noext\",\n",
       "      \"vega-lib\": \"https://cdn.jsdelivr.net/npm//vega-lib?noext\",\n",
       "      \"vega-lite\": \"https://cdn.jsdelivr.net/npm//vega-lite@4.8.1?noext\",\n",
       "      \"vega-embed\": \"https://cdn.jsdelivr.net/npm//vega-embed@6?noext\",\n",
       "    };\n",
       "\n",
       "    function loadScript(lib) {\n",
       "      return new Promise(function(resolve, reject) {\n",
       "        var s = document.createElement('script');\n",
       "        s.src = paths[lib];\n",
       "        s.async = true;\n",
       "        s.onload = () => resolve(paths[lib]);\n",
       "        s.onerror = () => reject(`Error loading script: ${paths[lib]}`);\n",
       "        document.getElementsByTagName(\"head\")[0].appendChild(s);\n",
       "      });\n",
       "    }\n",
       "\n",
       "    function showError(err) {\n",
       "      outputDiv.innerHTML = `<div class=\"error\" style=\"color:red;\">${err}</div>`;\n",
       "      throw err;\n",
       "    }\n",
       "\n",
       "    function displayChart(vegaEmbed) {\n",
       "      vegaEmbed(outputDiv, spec, embedOpt)\n",
       "        .catch(err => showError(`Javascript Error: ${err.message}<br>This usually means there's a typo in your chart specification. See the javascript console for the full traceback.`));\n",
       "    }\n",
       "\n",
       "    if(typeof define === \"function\" && define.amd) {\n",
       "      requirejs.config({paths});\n",
       "      require([\"vega-embed\"], displayChart, err => showError(`Error loading script: ${err.message}`));\n",
       "    } else if (typeof vegaEmbed === \"function\") {\n",
       "      displayChart(vegaEmbed);\n",
       "    } else {\n",
       "      loadScript(\"vega\")\n",
       "        .then(() => loadScript(\"vega-lite\"))\n",
       "        .then(() => loadScript(\"vega-embed\"))\n",
       "        .catch(showError)\n",
       "        .then(() => displayChart(vegaEmbed));\n",
       "    }\n",
       "  })({\"config\": {\"view\": {\"continuousWidth\": 400, \"continuousHeight\": 300}}, \"data\": {\"name\": \"data-ada0eba5b81f823e9a84d20daa8ee4f5\"}, \"mark\": \"area\", \"encoding\": {\"x\": {\"type\": \"temporal\", \"field\": \"Time\"}, \"y\": {\"type\": \"quantitative\", \"field\": \"Value\", \"scale\": {\"zero\": false}}}, \"$schema\": \"https://vega.github.io/schema/vega-lite/v4.8.1.json\", \"datasets\": {\"data-ada0eba5b81f823e9a84d20daa8ee4f5\": [{\"LOCATION\": \"JPN\", \"TIME\": 2005, \"Value\": 80.5, \"Time\": \"2005-01-01T00:00:00\", \"Country\": \"Japan\", \"Status\": \"High\"}, {\"LOCATION\": \"JPN\", \"TIME\": 2006, \"Value\": 80.8, \"Time\": \"2006-01-01T00:00:00\", \"Country\": \"Japan\", \"Status\": \"High\"}, {\"LOCATION\": \"JPN\", \"TIME\": 2007, \"Value\": 85.0, \"Time\": \"2007-01-01T00:00:00\", \"Country\": \"Japan\", \"Status\": \"High\"}, {\"LOCATION\": \"JPN\", \"TIME\": 2008, \"Value\": 85.9, \"Time\": \"2008-01-01T00:00:00\", \"Country\": \"Japan\", \"Status\": \"High\"}, {\"LOCATION\": \"JPN\", \"TIME\": 2009, \"Value\": 87.2, \"Time\": \"2009-01-01T00:00:00\", \"Country\": \"Japan\", \"Status\": \"High\"}, {\"LOCATION\": \"JPN\", \"TIME\": 2010, \"Value\": 83.4, \"Time\": \"2010-01-01T00:00:00\", \"Country\": \"Japan\", \"Status\": \"High\"}, {\"LOCATION\": \"JPN\", \"TIME\": 2011, \"Value\": 80.0, \"Time\": \"2011-01-01T00:00:00\", \"Country\": \"Japan\", \"Status\": \"High\"}, {\"LOCATION\": \"JPN\", \"TIME\": 2012, \"Value\": 77.9, \"Time\": \"2012-01-01T00:00:00\", \"Country\": \"Japan\", \"Status\": \"High\"}, {\"LOCATION\": \"JPN\", \"TIME\": 2013, \"Value\": 81.7, \"Time\": \"2013-01-01T00:00:00\", \"Country\": \"Japan\", \"Status\": \"High\"}, {\"LOCATION\": \"JPN\", \"TIME\": 2014, \"Value\": 78.0, \"Time\": \"2014-01-01T00:00:00\", \"Country\": \"Japan\", \"Status\": \"High\"}, {\"LOCATION\": \"JPN\", \"TIME\": 2015, \"Value\": 76.8, \"Time\": \"2015-01-01T00:00:00\", \"Country\": \"Japan\", \"Status\": \"High\"}, {\"LOCATION\": \"JPN\", \"TIME\": 2016, \"Value\": 73.0, \"Time\": \"2016-01-01T00:00:00\", \"Country\": \"Japan\", \"Status\": \"High\"}, {\"LOCATION\": \"JPN\", \"TIME\": 2017, \"Value\": 72.5, \"Time\": \"2017-01-01T00:00:00\", \"Country\": \"Japan\", \"Status\": \"High\"}, {\"LOCATION\": \"JPN\", \"TIME\": 2018, \"Value\": 74.0, \"Time\": \"2018-01-01T00:00:00\", \"Country\": \"Japan\", \"Status\": \"High\"}]}}, {\"mode\": \"vega-lite\"});\n",
       "</script>"
      ],
      "text/plain": [
       "alt.Chart(...)"
      ]
     },
     "execution_count": 511,
     "metadata": {},
     "output_type": "execute_result"
    }
   ],
   "source": [
    "japan=comp_new_2[comp_new_2.Country==\"Japan\"]\n",
    "alt.Chart(japan).mark_area().encode(x='Time',y=alt.Y('Value',scale=alt.Scale(zero=False)))"
   ]
  },
  {
   "cell_type": "code",
   "execution_count": 507,
   "metadata": {},
   "outputs": [
    {
     "data": {
      "text/html": [
       "\n",
       "<div id=\"altair-viz-3e6b14696f1945e7b5532fd201c9cbe9\"></div>\n",
       "<script type=\"text/javascript\">\n",
       "  (function(spec, embedOpt){\n",
       "    let outputDiv = document.currentScript.previousElementSibling;\n",
       "    if (outputDiv.id !== \"altair-viz-3e6b14696f1945e7b5532fd201c9cbe9\") {\n",
       "      outputDiv = document.getElementById(\"altair-viz-3e6b14696f1945e7b5532fd201c9cbe9\");\n",
       "    }\n",
       "    const paths = {\n",
       "      \"vega\": \"https://cdn.jsdelivr.net/npm//vega@5?noext\",\n",
       "      \"vega-lib\": \"https://cdn.jsdelivr.net/npm//vega-lib?noext\",\n",
       "      \"vega-lite\": \"https://cdn.jsdelivr.net/npm//vega-lite@4.8.1?noext\",\n",
       "      \"vega-embed\": \"https://cdn.jsdelivr.net/npm//vega-embed@6?noext\",\n",
       "    };\n",
       "\n",
       "    function loadScript(lib) {\n",
       "      return new Promise(function(resolve, reject) {\n",
       "        var s = document.createElement('script');\n",
       "        s.src = paths[lib];\n",
       "        s.async = true;\n",
       "        s.onload = () => resolve(paths[lib]);\n",
       "        s.onerror = () => reject(`Error loading script: ${paths[lib]}`);\n",
       "        document.getElementsByTagName(\"head\")[0].appendChild(s);\n",
       "      });\n",
       "    }\n",
       "\n",
       "    function showError(err) {\n",
       "      outputDiv.innerHTML = `<div class=\"error\" style=\"color:red;\">${err}</div>`;\n",
       "      throw err;\n",
       "    }\n",
       "\n",
       "    function displayChart(vegaEmbed) {\n",
       "      vegaEmbed(outputDiv, spec, embedOpt)\n",
       "        .catch(err => showError(`Javascript Error: ${err.message}<br>This usually means there's a typo in your chart specification. See the javascript console for the full traceback.`));\n",
       "    }\n",
       "\n",
       "    if(typeof define === \"function\" && define.amd) {\n",
       "      requirejs.config({paths});\n",
       "      require([\"vega-embed\"], displayChart, err => showError(`Error loading script: ${err.message}`));\n",
       "    } else if (typeof vegaEmbed === \"function\") {\n",
       "      displayChart(vegaEmbed);\n",
       "    } else {\n",
       "      loadScript(\"vega\")\n",
       "        .then(() => loadScript(\"vega-lite\"))\n",
       "        .then(() => loadScript(\"vega-embed\"))\n",
       "        .catch(showError)\n",
       "        .then(() => displayChart(vegaEmbed));\n",
       "    }\n",
       "  })({\"config\": {\"view\": {\"continuousWidth\": 400, \"continuousHeight\": 300}}, \"data\": {\"name\": \"data-b67497f9bdf2401e1e8c8b5d4946e23a\"}, \"mark\": \"line\", \"encoding\": {\"color\": {\"type\": \"nominal\", \"field\": \"Country\"}, \"x\": {\"type\": \"temporal\", \"field\": \"Time\"}, \"y\": {\"type\": \"quantitative\", \"field\": \"Value\", \"scale\": {\"zero\": false}}}, \"$schema\": \"https://vega.github.io/schema/vega-lite/v4.8.1.json\", \"datasets\": {\"data-b67497f9bdf2401e1e8c8b5d4946e23a\": [{\"LOCATION\": \"FRA\", \"TIME\": 2007, \"Value\": 65.5494, \"Time\": \"2007-01-01T00:00:00\", \"Country\": \"France\", \"Status\": \"Medium-High\"}, {\"LOCATION\": \"FRA\", \"TIME\": 2008, \"Value\": 68.3557, \"Time\": \"2008-01-01T00:00:00\", \"Country\": \"France\", \"Status\": \"Medium-High\"}, {\"LOCATION\": \"FRA\", \"TIME\": 2009, \"Value\": 74.2203, \"Time\": \"2009-01-01T00:00:00\", \"Country\": \"France\", \"Status\": \"Medium-High\"}, {\"LOCATION\": \"FRA\", \"TIME\": 2010, \"Value\": 76.4499, \"Time\": \"2010-01-01T00:00:00\", \"Country\": \"France\", \"Status\": \"Medium-High\"}, {\"LOCATION\": \"FRA\", \"TIME\": 2011, \"Value\": 78.1792, \"Time\": \"2011-01-01T00:00:00\", \"Country\": \"France\", \"Status\": \"Medium-High\"}, {\"LOCATION\": \"FRA\", \"TIME\": 2012, \"Value\": 81.0122, \"Time\": \"2012-01-01T00:00:00\", \"Country\": \"France\", \"Status\": \"Medium-High\"}, {\"LOCATION\": \"FRA\", \"TIME\": 2013, \"Value\": 81.5595, \"Time\": \"2013-01-01T00:00:00\", \"Country\": \"France\", \"Status\": \"Medium-High\"}, {\"LOCATION\": \"FRA\", \"TIME\": 2015, \"Value\": 81.5481, \"Time\": \"2015-01-01T00:00:00\", \"Country\": \"France\", \"Status\": \"Medium-High\"}, {\"LOCATION\": \"FRA\", \"TIME\": 2017, \"Value\": 84.124964, \"Time\": \"2017-01-01T00:00:00\", \"Country\": \"France\", \"Status\": \"Medium-High\"}, {\"LOCATION\": \"HUN\", \"TIME\": 2006, \"Value\": 48.803999999999995, \"Time\": \"2006-01-01T00:00:00\", \"Country\": \"Hungary\", \"Status\": \"Medium-High\"}, {\"LOCATION\": \"HUN\", \"TIME\": 2007, \"Value\": 52.5651, \"Time\": \"2007-01-01T00:00:00\", \"Country\": \"Hungary\", \"Status\": \"Medium-High\"}, {\"LOCATION\": \"HUN\", \"TIME\": 2008, \"Value\": 57.1866, \"Time\": \"2008-01-01T00:00:00\", \"Country\": \"Hungary\", \"Status\": \"Medium-High\"}, {\"LOCATION\": \"HUN\", \"TIME\": 2009, \"Value\": 61.3626, \"Time\": \"2009-01-01T00:00:00\", \"Country\": \"Hungary\", \"Status\": \"Medium-High\"}, {\"LOCATION\": \"HUN\", \"TIME\": 2010, \"Value\": 64.457, \"Time\": \"2010-01-01T00:00:00\", \"Country\": \"Hungary\", \"Status\": \"Medium-High\"}, {\"LOCATION\": \"HUN\", \"TIME\": 2011, \"Value\": 67.8143, \"Time\": \"2011-01-01T00:00:00\", \"Country\": \"Hungary\", \"Status\": \"Medium-High\"}, {\"LOCATION\": \"HUN\", \"TIME\": 2012, \"Value\": 69.7479, \"Time\": \"2012-01-01T00:00:00\", \"Country\": \"Hungary\", \"Status\": \"Medium-High\"}, {\"LOCATION\": \"HUN\", \"TIME\": 2013, \"Value\": 71.3968, \"Time\": \"2013-01-01T00:00:00\", \"Country\": \"Hungary\", \"Status\": \"Medium-High\"}, {\"LOCATION\": \"HUN\", \"TIME\": 2015, \"Value\": 74.9754, \"Time\": \"2015-01-01T00:00:00\", \"Country\": \"Hungary\", \"Status\": \"Medium-High\"}, {\"LOCATION\": \"HUN\", \"TIME\": 2017, \"Value\": 79.674757, \"Time\": \"2017-01-01T00:00:00\", \"Country\": \"Hungary\", \"Status\": \"Medium-High\"}, {\"LOCATION\": \"POL\", \"TIME\": 2006, \"Value\": 45.4124, \"Time\": \"2006-01-01T00:00:00\", \"Country\": \"Poland\", \"Status\": \"Medium-High\"}, {\"LOCATION\": \"POL\", \"TIME\": 2007, \"Value\": 53.6893, \"Time\": \"2007-01-01T00:00:00\", \"Country\": \"Poland\", \"Status\": \"Medium-High\"}, {\"LOCATION\": \"POL\", \"TIME\": 2008, \"Value\": 58.8728, \"Time\": \"2008-01-01T00:00:00\", \"Country\": \"Poland\", \"Status\": \"Medium-High\"}, {\"LOCATION\": \"POL\", \"TIME\": 2009, \"Value\": 66.0852, \"Time\": \"2009-01-01T00:00:00\", \"Country\": \"Poland\", \"Status\": \"Medium-High\"}, {\"LOCATION\": \"POL\", \"TIME\": 2010, \"Value\": 69.0212, \"Time\": \"2010-01-01T00:00:00\", \"Country\": \"Poland\", \"Status\": \"Medium-High\"}, {\"LOCATION\": \"POL\", \"TIME\": 2011, \"Value\": 71.3147, \"Time\": \"2011-01-01T00:00:00\", \"Country\": \"Poland\", \"Status\": \"Medium-High\"}, {\"LOCATION\": \"POL\", \"TIME\": 2012, \"Value\": 73.3677, \"Time\": \"2012-01-01T00:00:00\", \"Country\": \"Poland\", \"Status\": \"Medium-High\"}, {\"LOCATION\": \"POL\", \"TIME\": 2013, \"Value\": 74.7447, \"Time\": \"2013-01-01T00:00:00\", \"Country\": \"Poland\", \"Status\": \"Medium-High\"}, {\"LOCATION\": \"POL\", \"TIME\": 2015, \"Value\": 77.9378, \"Time\": \"2015-01-01T00:00:00\", \"Country\": \"Poland\", \"Status\": \"Medium-High\"}, {\"LOCATION\": \"POL\", \"TIME\": 2017, \"Value\": 81.77694699999999, \"Time\": \"2017-01-01T00:00:00\", \"Country\": \"Poland\", \"Status\": \"Medium-High\"}, {\"LOCATION\": \"ESP\", \"TIME\": 2006, \"Value\": 55.8676, \"Time\": \"2006-01-01T00:00:00\", \"Country\": \"Spain\", \"Status\": \"Medium-High\"}, {\"LOCATION\": \"ESP\", \"TIME\": 2007, \"Value\": 58.9493, \"Time\": \"2007-01-01T00:00:00\", \"Country\": \"Spain\", \"Status\": \"Medium-High\"}, {\"LOCATION\": \"ESP\", \"TIME\": 2008, \"Value\": 62.1818, \"Time\": \"2008-01-01T00:00:00\", \"Country\": \"Spain\", \"Status\": \"Medium-High\"}, {\"LOCATION\": \"ESP\", \"TIME\": 2009, \"Value\": 65.1014, \"Time\": \"2009-01-01T00:00:00\", \"Country\": \"Spain\", \"Status\": \"Medium-High\"}, {\"LOCATION\": \"ESP\", \"TIME\": 2010, \"Value\": 67.4256, \"Time\": \"2010-01-01T00:00:00\", \"Country\": \"Spain\", \"Status\": \"Medium-High\"}, {\"LOCATION\": \"ESP\", \"TIME\": 2011, \"Value\": 70.328, \"Time\": \"2011-01-01T00:00:00\", \"Country\": \"Spain\", \"Status\": \"Medium-High\"}, {\"LOCATION\": \"ESP\", \"TIME\": 2012, \"Value\": 72.5888, \"Time\": \"2012-01-01T00:00:00\", \"Country\": \"Spain\", \"Status\": \"Medium-High\"}, {\"LOCATION\": \"ESP\", \"TIME\": 2013, \"Value\": 73.3335, \"Time\": \"2013-01-01T00:00:00\", \"Country\": \"Spain\", \"Status\": \"Medium-High\"}, {\"LOCATION\": \"ESP\", \"TIME\": 2015, \"Value\": 75.8652, \"Time\": \"2015-01-01T00:00:00\", \"Country\": \"Spain\", \"Status\": \"Medium-High\"}, {\"LOCATION\": \"ESP\", \"TIME\": 2017, \"Value\": 78.385013, \"Time\": \"2017-01-01T00:00:00\", \"Country\": \"Spain\", \"Status\": \"Medium-High\"}, {\"LOCATION\": \"TUR\", \"TIME\": 2007, \"Value\": 27.3081, \"Time\": \"2007-01-01T00:00:00\", \"Country\": \"Turkey\", \"Status\": \"Medium-High\"}, {\"LOCATION\": \"TUR\", \"TIME\": 2008, \"Value\": 33.3911, \"Time\": \"2008-01-01T00:00:00\", \"Country\": \"Turkey\", \"Status\": \"Medium-High\"}, {\"LOCATION\": \"TUR\", \"TIME\": 2009, \"Value\": 37.4048, \"Time\": \"2009-01-01T00:00:00\", \"Country\": \"Turkey\", \"Status\": \"Medium-High\"}, {\"LOCATION\": \"TUR\", \"TIME\": 2010, \"Value\": 44.2265, \"Time\": \"2010-01-01T00:00:00\", \"Country\": \"Turkey\", \"Status\": \"Medium-High\"}, {\"LOCATION\": \"TUR\", \"TIME\": 2012, \"Value\": 50.2477, \"Time\": \"2012-01-01T00:00:00\", \"Country\": \"Turkey\", \"Status\": \"Medium-High\"}, {\"LOCATION\": \"TUR\", \"TIME\": 2013, \"Value\": 49.8193, \"Time\": \"2013-01-01T00:00:00\", \"Country\": \"Turkey\", \"Status\": \"Medium-High\"}, {\"LOCATION\": \"TUR\", \"TIME\": 2015, \"Value\": 50.5579, \"Time\": \"2015-01-01T00:00:00\", \"Country\": \"Turkey\", \"Status\": \"Medium-High\"}, {\"LOCATION\": \"TUR\", \"TIME\": 2017, \"Value\": 49.99992, \"Time\": \"2017-01-01T00:00:00\", \"Country\": \"Turkey\", \"Status\": \"Medium-High\"}, {\"LOCATION\": \"CHL\", \"TIME\": 2006, \"Value\": 34.5, \"Time\": \"2006-01-01T00:00:00\", \"Country\": \"Chile\", \"Status\": \"Medium-High\"}, {\"LOCATION\": \"CHL\", \"TIME\": 2009, \"Value\": 43.9, \"Time\": \"2009-01-01T00:00:00\", \"Country\": \"Chile\", \"Status\": \"Medium-High\"}, {\"LOCATION\": \"CHL\", \"TIME\": 2012, \"Value\": 68.27844113, \"Time\": \"2012-01-01T00:00:00\", \"Country\": \"Chile\", \"Status\": \"Medium-High\"}, {\"LOCATION\": \"CHL\", \"TIME\": 2013, \"Value\": 56.44182681, \"Time\": \"2013-01-01T00:00:00\", \"Country\": \"Chile\", \"Status\": \"Medium-High\"}, {\"LOCATION\": \"CHL\", \"TIME\": 2014, \"Value\": 60.29196034, \"Time\": \"2014-01-01T00:00:00\", \"Country\": \"Chile\", \"Status\": \"Medium-High\"}, {\"LOCATION\": \"CHL\", \"TIME\": 2015, \"Value\": 56.396569299999996, \"Time\": \"2015-01-01T00:00:00\", \"Country\": \"Chile\", \"Status\": \"Medium-High\"}, {\"LOCATION\": \"CHL\", \"TIME\": 2016, \"Value\": 63.62938219, \"Time\": \"2016-01-01T00:00:00\", \"Country\": \"Chile\", \"Status\": \"Medium-High\"}, {\"LOCATION\": \"CHL\", \"TIME\": 2017, \"Value\": 60.15454498, \"Time\": \"2017-01-01T00:00:00\", \"Country\": \"Chile\", \"Status\": \"Medium-High\"}, {\"LOCATION\": \"GRC\", \"TIME\": 2006, \"Value\": 36.7012, \"Time\": \"2006-01-01T00:00:00\", \"Country\": \"Greece\", \"Status\": \"Medium-High\"}, {\"LOCATION\": \"GRC\", \"TIME\": 2007, \"Value\": 40.1674, \"Time\": \"2007-01-01T00:00:00\", \"Country\": \"Greece\", \"Status\": \"Medium-High\"}, {\"LOCATION\": \"GRC\", \"TIME\": 2008, \"Value\": 44.0037, \"Time\": \"2008-01-01T00:00:00\", \"Country\": \"Greece\", \"Status\": \"Medium-High\"}, {\"LOCATION\": \"GRC\", \"TIME\": 2009, \"Value\": 47.3287, \"Time\": \"2009-01-01T00:00:00\", \"Country\": \"Greece\", \"Status\": \"Medium-High\"}, {\"LOCATION\": \"GRC\", \"TIME\": 2010, \"Value\": 53.3865, \"Time\": \"2010-01-01T00:00:00\", \"Country\": \"Greece\", \"Status\": \"Medium-High\"}, {\"LOCATION\": \"GRC\", \"TIME\": 2011, \"Value\": 57.2357, \"Time\": \"2011-01-01T00:00:00\", \"Country\": \"Greece\", \"Status\": \"Medium-High\"}, {\"LOCATION\": \"GRC\", \"TIME\": 2012, \"Value\": 56.7914, \"Time\": \"2012-01-01T00:00:00\", \"Country\": \"Greece\", \"Status\": \"Medium-High\"}, {\"LOCATION\": \"GRC\", \"TIME\": 2013, \"Value\": 59.5484, \"Time\": \"2013-01-01T00:00:00\", \"Country\": \"Greece\", \"Status\": \"Medium-High\"}, {\"LOCATION\": \"GRC\", \"TIME\": 2015, \"Value\": 68.5681, \"Time\": \"2015-01-01T00:00:00\", \"Country\": \"Greece\", \"Status\": \"Medium-High\"}, {\"LOCATION\": \"GRC\", \"TIME\": 2017, \"Value\": 70.50049, \"Time\": \"2017-01-01T00:00:00\", \"Country\": \"Greece\", \"Status\": \"Medium-High\"}, {\"LOCATION\": \"SVK\", \"TIME\": 2006, \"Value\": 50.0949, \"Time\": \"2006-01-01T00:00:00\", \"Country\": \"Slovakia\", \"Status\": \"Medium-High\"}, {\"LOCATION\": \"SVK\", \"TIME\": 2007, \"Value\": 55.4297, \"Time\": \"2007-01-01T00:00:00\", \"Country\": \"Slovakia\", \"Status\": \"Medium-High\"}, {\"LOCATION\": \"SVK\", \"TIME\": 2008, \"Value\": 63.2266, \"Time\": \"2008-01-01T00:00:00\", \"Country\": \"Slovakia\", \"Status\": \"Medium-High\"}, {\"LOCATION\": \"SVK\", \"TIME\": 2009, \"Value\": 64.0456, \"Time\": \"2009-01-01T00:00:00\", \"Country\": \"Slovakia\", \"Status\": \"Medium-High\"}, {\"LOCATION\": \"SVK\", \"TIME\": 2010, \"Value\": 72.1756, \"Time\": \"2010-01-01T00:00:00\", \"Country\": \"Slovakia\", \"Status\": \"Medium-High\"}, {\"LOCATION\": \"SVK\", \"TIME\": 2011, \"Value\": 75.4321, \"Time\": \"2011-01-01T00:00:00\", \"Country\": \"Slovakia\", \"Status\": \"Medium-High\"}, {\"LOCATION\": \"SVK\", \"TIME\": 2012, \"Value\": 78.8125, \"Time\": \"2012-01-01T00:00:00\", \"Country\": \"Slovakia\", \"Status\": \"Medium-High\"}, {\"LOCATION\": \"SVK\", \"TIME\": 2013, \"Value\": 80.0754, \"Time\": \"2013-01-01T00:00:00\", \"Country\": \"Slovakia\", \"Status\": \"Medium-High\"}, {\"LOCATION\": \"SVK\", \"TIME\": 2015, \"Value\": 80.4795, \"Time\": \"2015-01-01T00:00:00\", \"Country\": \"Slovakia\", \"Status\": \"Medium-High\"}, {\"LOCATION\": \"SVK\", \"TIME\": 2017, \"Value\": 81.79907, \"Time\": \"2017-01-01T00:00:00\", \"Country\": \"Slovakia\", \"Status\": \"Medium-High\"}, {\"LOCATION\": \"ITA\", \"TIME\": 2006, \"Value\": 51.5822, \"Time\": \"2006-01-01T00:00:00\", \"Country\": \"Italy\", \"Status\": \"Medium-High\"}, {\"LOCATION\": \"ITA\", \"TIME\": 2007, \"Value\": 53.3796, \"Time\": \"2007-01-01T00:00:00\", \"Country\": \"Italy\", \"Status\": \"Medium-High\"}, {\"LOCATION\": \"ITA\", \"TIME\": 2008, \"Value\": 55.9745, \"Time\": \"2008-01-01T00:00:00\", \"Country\": \"Italy\", \"Status\": \"Medium-High\"}, {\"LOCATION\": \"ITA\", \"TIME\": 2009, \"Value\": 61.2675, \"Time\": \"2009-01-01T00:00:00\", \"Country\": \"Italy\", \"Status\": \"Medium-High\"}, {\"LOCATION\": \"ITA\", \"TIME\": 2010, \"Value\": 64.8464, \"Time\": \"2010-01-01T00:00:00\", \"Country\": \"Italy\", \"Status\": \"Medium-High\"}, {\"LOCATION\": \"ITA\", \"TIME\": 2011, \"Value\": 66.1957, \"Time\": \"2011-01-01T00:00:00\", \"Country\": \"Italy\", \"Status\": \"Medium-High\"}, {\"LOCATION\": \"ITA\", \"TIME\": 2012, \"Value\": 67.0906, \"Time\": \"2012-01-01T00:00:00\", \"Country\": \"Italy\", \"Status\": \"Medium-High\"}, {\"LOCATION\": \"ITA\", \"TIME\": 2013, \"Value\": 71.1443, \"Time\": \"2013-01-01T00:00:00\", \"Country\": \"Italy\", \"Status\": \"Medium-High\"}, {\"LOCATION\": \"ITA\", \"TIME\": 2015, \"Value\": 72.5436, \"Time\": \"2015-01-01T00:00:00\", \"Country\": \"Italy\", \"Status\": \"Medium-High\"}, {\"LOCATION\": \"ITA\", \"TIME\": 2017, \"Value\": 72.50204699999999, \"Time\": \"2017-01-01T00:00:00\", \"Country\": \"Italy\", \"Status\": \"Medium-High\"}, {\"LOCATION\": \"PRT\", \"TIME\": 2006, \"Value\": 45.5876, \"Time\": \"2006-01-01T00:00:00\", \"Country\": \"Portugal\", \"Status\": \"Medium-High\"}, {\"LOCATION\": \"PRT\", \"TIME\": 2007, \"Value\": 48.3165, \"Time\": \"2007-01-01T00:00:00\", \"Country\": \"Portugal\", \"Status\": \"Medium-High\"}, {\"LOCATION\": \"PRT\", \"TIME\": 2008, \"Value\": 49.8432, \"Time\": \"2008-01-01T00:00:00\", \"Country\": \"Portugal\", \"Status\": \"Medium-High\"}, {\"LOCATION\": \"PRT\", \"TIME\": 2009, \"Value\": 55.9881, \"Time\": \"2009-01-01T00:00:00\", \"Country\": \"Portugal\", \"Status\": \"Medium-High\"}, {\"LOCATION\": \"PRT\", \"TIME\": 2010, \"Value\": 59.4949, \"Time\": \"2010-01-01T00:00:00\", \"Country\": \"Portugal\", \"Status\": \"Medium-High\"}, {\"LOCATION\": \"PRT\", \"TIME\": 2011, \"Value\": 63.7269, \"Time\": \"2011-01-01T00:00:00\", \"Country\": \"Portugal\", \"Status\": \"Medium-High\"}, {\"LOCATION\": \"PRT\", \"TIME\": 2012, \"Value\": 66.0973, \"Time\": \"2012-01-01T00:00:00\", \"Country\": \"Portugal\", \"Status\": \"Medium-High\"}, {\"LOCATION\": \"PRT\", \"TIME\": 2013, \"Value\": 66.6784, \"Time\": \"2013-01-01T00:00:00\", \"Country\": \"Portugal\", \"Status\": \"Medium-High\"}, {\"LOCATION\": \"PRT\", \"TIME\": 2015, \"Value\": 71.105, \"Time\": \"2015-01-01T00:00:00\", \"Country\": \"Portugal\", \"Status\": \"Medium-High\"}, {\"LOCATION\": \"PRT\", \"TIME\": 2017, \"Value\": 71.491176, \"Time\": \"2017-01-01T00:00:00\", \"Country\": \"Portugal\", \"Status\": \"Medium-High\"}, {\"LOCATION\": \"EST\", \"TIME\": 2006, \"Value\": 52.0362, \"Time\": \"2006-01-01T00:00:00\", \"Country\": \"Estonia\", \"Status\": \"Medium-High\"}, {\"LOCATION\": \"EST\", \"TIME\": 2007, \"Value\": 56.4735, \"Time\": \"2007-01-01T00:00:00\", \"Country\": \"Estonia\", \"Status\": \"Medium-High\"}, {\"LOCATION\": \"EST\", \"TIME\": 2008, \"Value\": 58.8312, \"Time\": \"2008-01-01T00:00:00\", \"Country\": \"Estonia\", \"Status\": \"Medium-High\"}, {\"LOCATION\": \"EST\", \"TIME\": 2009, \"Value\": 64.0047, \"Time\": \"2009-01-01T00:00:00\", \"Country\": \"Estonia\", \"Status\": \"Medium-High\"}, {\"LOCATION\": \"EST\", \"TIME\": 2010, \"Value\": 68.3044, \"Time\": \"2010-01-01T00:00:00\", \"Country\": \"Estonia\", \"Status\": \"Medium-High\"}, {\"LOCATION\": \"EST\", \"TIME\": 2011, \"Value\": 70.0402, \"Time\": \"2011-01-01T00:00:00\", \"Country\": \"Estonia\", \"Status\": \"Medium-High\"}, {\"LOCATION\": \"EST\", \"TIME\": 2012, \"Value\": 74.3429, \"Time\": \"2012-01-01T00:00:00\", \"Country\": \"Estonia\", \"Status\": \"Medium-High\"}, {\"LOCATION\": \"EST\", \"TIME\": 2013, \"Value\": 78.9933, \"Time\": \"2013-01-01T00:00:00\", \"Country\": \"Estonia\", \"Status\": \"Medium-High\"}, {\"LOCATION\": \"EST\", \"TIME\": 2015, \"Value\": 87.8821, \"Time\": \"2015-01-01T00:00:00\", \"Country\": \"Estonia\", \"Status\": \"Medium-High\"}, {\"LOCATION\": \"EST\", \"TIME\": 2017, \"Value\": 86.90904, \"Time\": \"2017-01-01T00:00:00\", \"Country\": \"Estonia\", \"Status\": \"Medium-High\"}, {\"LOCATION\": \"LVA\", \"TIME\": 2006, \"Value\": 40.648, \"Time\": \"2006-01-01T00:00:00\", \"Country\": \"Latvia\", \"Status\": \"Medium-High\"}, {\"LOCATION\": \"LVA\", \"TIME\": 2007, \"Value\": 49.2205, \"Time\": \"2007-01-01T00:00:00\", \"Country\": \"Latvia\", \"Status\": \"Medium-High\"}, {\"LOCATION\": \"LVA\", \"TIME\": 2008, \"Value\": 56.6547, \"Time\": \"2008-01-01T00:00:00\", \"Country\": \"Latvia\", \"Status\": \"Medium-High\"}, {\"LOCATION\": \"LVA\", \"TIME\": 2009, \"Value\": 60.111000000000004, \"Time\": \"2009-01-01T00:00:00\", \"Country\": \"Latvia\", \"Status\": \"Medium-High\"}, {\"LOCATION\": \"LVA\", \"TIME\": 2010, \"Value\": 62.7755, \"Time\": \"2010-01-01T00:00:00\", \"Country\": \"Latvia\", \"Status\": \"Medium-High\"}, {\"LOCATION\": \"LVA\", \"TIME\": 2011, \"Value\": 64.3118, \"Time\": \"2011-01-01T00:00:00\", \"Country\": \"Latvia\", \"Status\": \"Medium-High\"}, {\"LOCATION\": \"LVA\", \"TIME\": 2012, \"Value\": 69.5155, \"Time\": \"2012-01-01T00:00:00\", \"Country\": \"Latvia\", \"Status\": \"Medium-High\"}, {\"LOCATION\": \"LVA\", \"TIME\": 2013, \"Value\": 71.7196, \"Time\": \"2013-01-01T00:00:00\", \"Country\": \"Latvia\", \"Status\": \"Medium-High\"}, {\"LOCATION\": \"LVA\", \"TIME\": 2015, \"Value\": 76.1467, \"Time\": \"2015-01-01T00:00:00\", \"Country\": \"Latvia\", \"Status\": \"Medium-High\"}, {\"LOCATION\": \"LVA\", \"TIME\": 2017, \"Value\": 77.389836, \"Time\": \"2017-01-01T00:00:00\", \"Country\": \"Latvia\", \"Status\": \"Medium-High\"}, {\"LOCATION\": \"LTU\", \"TIME\": 2006, \"Value\": 39.8406, \"Time\": \"2006-01-01T00:00:00\", \"Country\": \"Lithuania\", \"Status\": \"Medium-High\"}, {\"LOCATION\": \"LTU\", \"TIME\": 2007, \"Value\": 46.2723, \"Time\": \"2007-01-01T00:00:00\", \"Country\": \"Lithuania\", \"Status\": \"Medium-High\"}, {\"LOCATION\": \"LTU\", \"TIME\": 2008, \"Value\": 52.0273, \"Time\": \"2008-01-01T00:00:00\", \"Country\": \"Lithuania\", \"Status\": \"Medium-High\"}, {\"LOCATION\": \"LTU\", \"TIME\": 2009, \"Value\": 57.343999999999994, \"Time\": \"2009-01-01T00:00:00\", \"Country\": \"Lithuania\", \"Status\": \"Medium-High\"}, {\"LOCATION\": \"LTU\", \"TIME\": 2010, \"Value\": 59.2287, \"Time\": \"2010-01-01T00:00:00\", \"Country\": \"Lithuania\", \"Status\": \"Medium-High\"}, {\"LOCATION\": \"LTU\", \"TIME\": 2011, \"Value\": 60.2072, \"Time\": \"2011-01-01T00:00:00\", \"Country\": \"Lithuania\", \"Status\": \"Medium-High\"}, {\"LOCATION\": \"LTU\", \"TIME\": 2012, \"Value\": 62.1365, \"Time\": \"2012-01-01T00:00:00\", \"Country\": \"Lithuania\", \"Status\": \"Medium-High\"}, {\"LOCATION\": \"LTU\", \"TIME\": 2013, \"Value\": 65.8774, \"Time\": \"2013-01-01T00:00:00\", \"Country\": \"Lithuania\", \"Status\": \"Medium-High\"}, {\"LOCATION\": \"LTU\", \"TIME\": 2015, \"Value\": 67.6401, \"Time\": \"2015-01-01T00:00:00\", \"Country\": \"Lithuania\", \"Status\": \"Medium-High\"}, {\"LOCATION\": \"LTU\", \"TIME\": 2017, \"Value\": 73.00916, \"Time\": \"2017-01-01T00:00:00\", \"Country\": \"Lithuania\", \"Status\": \"Medium-High\"}]}}, {\"mode\": \"vega-lite\"});\n",
       "</script>"
      ],
      "text/plain": [
       "alt.Chart(...)"
      ]
     },
     "execution_count": 507,
     "metadata": {},
     "output_type": "execute_result"
    }
   ],
   "source": [
    "med_high=comp_new_2[comp_new_2.Status==\"Medium-High\"]\n",
    "chart1=alt.Chart(med_high).mark_line().encode(x='Time',y=alt.Y('Value',scale=alt.Scale(zero=False)),color='Country')\n",
    "chart1\n"
   ]
  },
  {
   "cell_type": "markdown",
   "metadata": {},
   "source": [
    "As we see above, Japan did have a large drop of over 8% in the period analyzed. It was the only country to have a drop below zero. Meanwhile, it is worth it noting the large increases in rates of accessibility for the **Medium-High** countries as shown graphically above and in the table below. "
   ]
  },
  {
   "cell_type": "code",
   "execution_count": 529,
   "metadata": {},
   "outputs": [
    {
     "data": {
      "text/html": [
       "<div>\n",
       "<style scoped>\n",
       "    .dataframe tbody tr th:only-of-type {\n",
       "        vertical-align: middle;\n",
       "    }\n",
       "\n",
       "    .dataframe tbody tr th {\n",
       "        vertical-align: top;\n",
       "    }\n",
       "\n",
       "    .dataframe thead th {\n",
       "        text-align: right;\n",
       "    }\n",
       "</style>\n",
       "<table border=\"1\" class=\"dataframe\">\n",
       "  <thead>\n",
       "    <tr style=\"text-align: right;\">\n",
       "      <th></th>\n",
       "      <th>min</th>\n",
       "      <th>max</th>\n",
       "      <th>diff</th>\n",
       "    </tr>\n",
       "    <tr>\n",
       "      <th>status</th>\n",
       "      <th></th>\n",
       "      <th></th>\n",
       "      <th></th>\n",
       "    </tr>\n",
       "  </thead>\n",
       "  <tbody>\n",
       "    <tr>\n",
       "      <th>High</th>\n",
       "      <td>72.615894</td>\n",
       "      <td>87.178271</td>\n",
       "      <td>14.562377</td>\n",
       "    </tr>\n",
       "    <tr>\n",
       "      <th>Medium</th>\n",
       "      <td>20.820862</td>\n",
       "      <td>43.821204</td>\n",
       "      <td>23.000342</td>\n",
       "    </tr>\n",
       "    <tr>\n",
       "      <th>Medium-High</th>\n",
       "      <td>45.687092</td>\n",
       "      <td>74.439767</td>\n",
       "      <td>28.752674</td>\n",
       "    </tr>\n",
       "  </tbody>\n",
       "</table>\n",
       "</div>"
      ],
      "text/plain": [
       "                   min        max       diff\n",
       "status                                      \n",
       "High         72.615894  87.178271  14.562377\n",
       "Medium       20.820862  43.821204  23.000342\n",
       "Medium-High  45.687092  74.439767  28.752674"
      ]
     },
     "execution_count": 529,
     "metadata": {},
     "output_type": "execute_result"
    }
   ],
   "source": [
    "comp_new_3.groupby([\"status\"]).mean()"
   ]
  },
  {
   "cell_type": "code",
   "execution_count": null,
   "metadata": {},
   "outputs": [],
   "source": []
  }
 ],
 "metadata": {
  "kernelspec": {
   "display_name": "Python 3",
   "language": "python",
   "name": "python3"
  },
  "language_info": {
   "codemirror_mode": {
    "name": "ipython",
    "version": 3
   },
   "file_extension": ".py",
   "mimetype": "text/x-python",
   "name": "python",
   "nbconvert_exporter": "python",
   "pygments_lexer": "ipython3",
   "version": "3.8.3"
  }
 },
 "nbformat": 4,
 "nbformat_minor": 4
}
